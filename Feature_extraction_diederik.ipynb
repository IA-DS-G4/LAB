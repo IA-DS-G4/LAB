{
 "cells": [
  {
   "cell_type": "code",
   "execution_count": 1,
   "metadata": {},
   "outputs": [],
   "source": [
    "import numpy as np\n",
    "import csv\n",
    "from radiomics import featureextractor\n",
    "import pydicom\n",
    "import SimpleITK as sitk"
   ]
  },
  {
   "cell_type": "code",
   "execution_count": 2,
   "metadata": {},
   "outputs": [],
   "source": [
    "\n",
    "#take the 60sth slice of the first patient for testing\n",
    "csv_path = r\"C:\\Users\\Diederik\\OneDrive\\Bureaublad\\studie tn\\Minor vakken Porto\\IA CAD\\GITHUB\\LAB\\Data files\\CSV DATA FILES\\LIDC-IDRI-0001\\slice60.csv\"\n",
    "\n",
    "\n",
    "#read csv file an make it a list\n",
    "with open(csv_path, 'r') as file:\n",
    "    reader = csv.reader(file)\n",
    "    data = list(reader)\n",
    "\n",
    "#turning list into numpy array\n",
    "slice_array = np.array(data, dtype=int)\n",
    "slice_array = slice_array[1:513]\n",
    "\n",
    "\n",
    "def remove_black(slice_array):\n",
    "    # Find rows and columns that contain only -2048\n",
    "    rows_to_keep = ~np.all(slice_array == -2048, axis=1)\n",
    "    cols_to_keep = ~np.all(slice_array == -2048, axis=0)    \n",
    "    # Use boolean indexing to select only rows and columns that are not all -2048\n",
    "    new_array = slice_array[rows_to_keep][:, cols_to_keep]\n",
    "    print(\"Original array:\")\n",
    "    print(slice_array)\n",
    "    print(\"\\nArray after removing rows and columns containing only -2048:\")\n",
    "    print(new_array)\n",
    "    return new_array\n",
    "\n",
    "#remove_black(slice_array"
   ]
  },
  {
   "cell_type": "code",
   "execution_count": 9,
   "metadata": {},
   "outputs": [],
   "source": [
    "#DICOM FILE PATH\n",
    "dicom_file_path = r\"C:\\Users\\Diederik\\OneDrive\\Bureaublad\\studie tn\\Minor vakken Porto\\IA CAD\\GITHUB\\LAB\\DICOM SR images\\manifest-1585232716547\\LIDC-IDRI\\LIDC-IDRI-0001\\01-01-2000-NA-NA-30178\\3000567.000000-Segmentation of Nodule 1 - Annotation Nodule 001-90548\\1-1.dcm\"\n",
    "dicom_data = pydicom.dcmread(dicom_file_path)"
   ]
  },
  {
   "cell_type": "code",
   "execution_count": 13,
   "metadata": {},
   "outputs": [
    {
     "ename": "AttributeError",
     "evalue": "'FileDataset' object has no attribute 'PixelSpacing'",
     "output_type": "error",
     "traceback": [
      "\u001b[1;31m---------------------------------------------------------------------------\u001b[0m",
      "\u001b[1;31mAttributeError\u001b[0m                            Traceback (most recent call last)",
      "\u001b[1;32mUntitled-1.ipynb Cell 4\u001b[0m line \u001b[0;36m5\n\u001b[0;32m      <a href='vscode-notebook-cell:Untitled-1.ipynb?jupyter-notebook#W5sdW50aXRsZWQ%3D?line=1'>2</a>\u001b[0m sitk_image \u001b[39m=\u001b[39m sitk\u001b[39m.\u001b[39mGetImageFromArray(dicom_data\u001b[39m.\u001b[39mpixel_array)\n\u001b[0;32m      <a href='vscode-notebook-cell:Untitled-1.ipynb?jupyter-notebook#W5sdW50aXRsZWQ%3D?line=3'>4</a>\u001b[0m \u001b[39m# Extract PixelSpacing and SliceThickness from DICOM metadata\u001b[39;00m\n\u001b[1;32m----> <a href='vscode-notebook-cell:Untitled-1.ipynb?jupyter-notebook#W5sdW50aXRsZWQ%3D?line=4'>5</a>\u001b[0m pixel_spacing \u001b[39m=\u001b[39m [\u001b[39mfloat\u001b[39m(dicom_data\u001b[39m.\u001b[39;49mPixelSpacing[\u001b[39m0\u001b[39m]), \u001b[39mfloat\u001b[39m(dicom_data\u001b[39m.\u001b[39mPixelSpacing[\u001b[39m1\u001b[39m]), \u001b[39mfloat\u001b[39m(dicom_data\u001b[39m.\u001b[39mSliceThickness)]\n\u001b[0;32m      <a href='vscode-notebook-cell:Untitled-1.ipynb?jupyter-notebook#W5sdW50aXRsZWQ%3D?line=5'>6</a>\u001b[0m sitk_image\u001b[39m.\u001b[39mSetSpacing(pixel_spacing)\n\u001b[0;32m      <a href='vscode-notebook-cell:Untitled-1.ipynb?jupyter-notebook#W5sdW50aXRsZWQ%3D?line=7'>8</a>\u001b[0m \u001b[39m# Create a simple mask covering the entire image\u001b[39;00m\n",
      "File \u001b[1;32mc:\\Users\\Diederik\\anaconda3\\envs\\LAB\\lib\\site-packages\\pydicom\\dataset.py:908\u001b[0m, in \u001b[0;36mDataset.__getattr__\u001b[1;34m(self, name)\u001b[0m\n\u001b[0;32m    906\u001b[0m     \u001b[39mreturn\u001b[39;00m {}\n\u001b[0;32m    907\u001b[0m \u001b[39m# Try the base class attribute getter (fix for issue 332)\u001b[39;00m\n\u001b[1;32m--> 908\u001b[0m \u001b[39mreturn\u001b[39;00m \u001b[39mobject\u001b[39;49m\u001b[39m.\u001b[39;49m\u001b[39m__getattribute__\u001b[39;49m(\u001b[39mself\u001b[39;49m, name)\n",
      "\u001b[1;31mAttributeError\u001b[0m: 'FileDataset' object has no attribute 'PixelSpacing'"
     ]
    }
   ],
   "source": [
    "# Create a SimpleITK image from the DICOM pixel array\n",
    "sitk_image = sitk.GetImageFromArray(dicom_data.pixel_array)\n",
    "\n",
    "# Extract PixelSpacing and SliceThickness from DICOM metadata\n",
    "pixel_spacing = [float(dicom_data.PixelSpacing[0]), float(dicom_data.PixelSpacing[1]), float(dicom_data.SliceThickness)]\n",
    "sitk_image.SetSpacing(pixel_spacing)\n",
    "\n",
    "# Create a simple mask covering the entire image\n",
    "mask = sitk.Image(dicom_data.pixel_array.shape, sitk.sitkUInt8)\n",
    "mask.SetSpacing(pixel_spacing)\n",
    "\n",
    "# Assuming that ImagePositionPatient gives the origin of the image\n",
    "mask.SetOrigin([float(dicom_data.ImagePositionPatient[0]), float(dicom_data.ImagePositionPatient[1]), float(dicom_data.ImagePositionPatient[2])])\n",
    "\n",
    "mask_array = sitk.GetArrayFromImage(mask)\n",
    "mask_array[:, :] = 1  # Set all pixels to 1 to cover the entire image\n",
    "\n",
    "# Initialize feature extractor\n",
    "extractor = featureextractor.RadiomicsFeatureExtractor()\n",
    "\n",
    "# Run feature extraction with the mask\n",
    "feature_vector = extractor.execute(sitk_image, mask_array)\n",
    "\n",
    "# Access and print features\n",
    "print(\"First order features:\")\n",
    "for key, value in feature_vector.items():\n",
    "    if key.startswith(\"original_\"):\n",
    "        print(f\"{key}: {value}\")"
   ]
  },
  {
   "cell_type": "code",
   "execution_count": null,
   "metadata": {},
   "outputs": [],
   "source": []
  }
 ],
 "metadata": {
  "kernelspec": {
   "display_name": "LAB",
   "language": "python",
   "name": "python3"
  },
  "language_info": {
   "codemirror_mode": {
    "name": "ipython",
    "version": 3
   },
   "file_extension": ".py",
   "mimetype": "text/x-python",
   "name": "python",
   "nbconvert_exporter": "python",
   "pygments_lexer": "ipython3",
   "version": "3.8.18"
  },
  "orig_nbformat": 4
 },
 "nbformat": 4,
 "nbformat_minor": 2
}
