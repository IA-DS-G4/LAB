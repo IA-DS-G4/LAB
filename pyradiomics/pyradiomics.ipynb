{
 "cells": [
  {
   "cell_type": "code",
   "execution_count": 4,
   "outputs": [],
   "source": [
    "import numpy as np\n",
    "import scipy\n",
    "import pandas as pd\n",
    "import seaborn as sns\n",
    "from sklearn import tree\n",
    "from sklearn.metrics import confusion_matrix\n",
    "from sklearn.ensemble import RandomForestClassifier\n",
    "from sklearn.datasets import make_classification\n",
    "from sklearn.neighbors import KNeighborsClassifier\n",
    "from sklearn.tree import export_graphviz\n",
    "from IPython.display import Image\n",
    "import graphviz\n",
    "from sklearn.model_selection import train_test_split\n",
    "from sklearn.svm import LinearSVC\n",
    "from sklearn.metrics import accuracy_score\n",
    "from matplotlib import pyplot as plt\n",
    "from sklearn.feature_selection import SelectKBest\n",
    "from sklearn.feature_selection import f_classif\n",
    "from sklearn.feature_selection import SelectPercentile\n",
    "import sklearn\n",
    "from sklearn.linear_model import SGDRegressor"
   ],
   "metadata": {
    "collapsed": false,
    "ExecuteTime": {
     "end_time": "2023-11-04T12:49:27.202090800Z",
     "start_time": "2023-11-04T12:49:22.994557100Z"
    }
   }
  },
  {
   "cell_type": "markdown",
   "source": [
    "# Pyradiomics model"
   ],
   "metadata": {
    "collapsed": false
   }
  },
  {
   "cell_type": "markdown",
   "source": [
    "# Table of Contents\n",
    "1. [Feature extraction](#feature-extraction)\n",
    "2. [Feature selection](#feature-selection)\n",
    "3. [Model 1: Linear Support Vector Classifier](#model1)\n",
    "4. [Model 2: Stochastic Gradient Descent Regressor](#model2)\n"
   ],
   "metadata": {
    "collapsed": false
   }
  },
  {
   "cell_type": "markdown",
   "source": [
    "## 1. <a id='feature-extraction'>Feature extraction</a>\n",
    "\n",
    "Code for feature extraction using pyradiomics and dependencies: dcm2niix and SimpleITK. We built a docker image for running the pyradiomics-dcm.py script that is available on the pyradiomics github under labs. The script was still experimental and outdated so we had to make adjustments in the script and dockerfile to make it run. If you want to install the docker container yourself we can provide the working dockerfile. \n",
    "The Feature extraction uses the pylidc library and to channel directories and read out the corresponding segmentation and icom files for each patient. These then get passed to the pyradiomics docker container with the experimental script for evaluation. \n",
    "The result is a vector with 1574 features. These are put together with metadata and saved inside a csv file."
   ],
   "metadata": {
    "collapsed": false
   }
  },
  {
   "cell_type": "code",
   "execution_count": 5,
   "outputs": [],
   "source": [
    "#Function that calculates features using the pyradiomics-dcm.py script from the pyradiomics GIT\n",
    "def get_features():\n",
    "    ###################### put the working directories here ###################################\n",
    "    start_time = time.time()\n",
    "    # put path of dataset here\n",
    "    parent_dir = r\"/Images+seg/manifest-1698768984202\"\n",
    "    patient_dicom_path_mounted = r\"/data/Images+seg/manifest-1698768984202/LIDC-IDRI\"\n",
    "    # get path of LIDC-IDRI directionary\n",
    "    data_dir = os.path.join(parent_dir, \"LIDC-IDRI\")\n",
    "    # give directory where docker saves files\n",
    "    docker_save_dir = r\"/\"\n",
    "    # give the hash of the pyradiomnics docker\n",
    "    docker_hash = r\"d95ce08239e3182d8631d3492a5e4a32096d28285c3d2f10dd570d7e6d06fd01\"\n",
    "    # path to the features dict\n",
    "    features_dict = r\"/data/test/featuresDict_IBSIv7.tsv\"\n",
    "    # pyradiomics save folder\n",
    "    pyradiomics_midsave_path = r\"/data/pyradiomics converter test\"\n",
    "    # temporal dir\n",
    "    temp_dir = r\"/test/temp file\"\n",
    "    parameter_file = r\"/test/Pyradiomics_Params_test.yaml\"\n",
    "    ########################################################################################\n",
    "    # create dataframes for data storage\n",
    "    data = pd.read_csv(r\"/test/features.csv\")\n",
    "    data = data.drop(0, axis=0)\n",
    "    df = pd.read_excel(r\"C:\\Users\\Diederik\\OneDrive\\Bureaublad\\studie tn\\Minor vakken Porto\\IA CAD\\test\\nodule_counts_by_patient.xlsx\")\n",
    "    df = df.drop(df.columns[[4, 5]], axis=1)\n",
    "    df.columns = ['Patient_ID', 'Total_Nodule_Count', 'NodG3','NodL3']\n",
    "    dataframe = pd.DataFrame(\n",
    "        columns=['Patient_ID', 'Nodule', ' Annotation', 'Subtlety', 'InternalStructure', 'Calcification', 'Sphericity',\n",
    "                 'Margin', 'Lobulation', 'Spiculation', 'Texture', 'Malignancy'])\n",
    "    iteration_counter = 1\n",
    "\n",
    "\n",
    "# We process each patient chronologically\n",
    "    for p_id in df['Patient_ID']:\n",
    "\n",
    "        print(\"Patient \" + str(p_id) + \"Processing\")\n",
    "        if os.path.isdir(os.path.join(data_dir, str(p_id))) == False:\n",
    "            print(\"Patient \" + str(p_id) + \" not found\")\n",
    "            continue  # if the patient folder doesn't exist, skip it\n",
    "\n",
    "        scan = pl.query(pl.Scan).filter(pl.Scan.patient_id == p_id).first()\n",
    "        nods = scan.cluster_annotations()\n",
    "\n",
    "        if scan is None:  # if the scan is not available, continue\n",
    "            continue\n",
    "\n",
    "        # path to the patient folder\n",
    "        patient_dir = os.path.join(data_dir, str(p_id))\n",
    "        # path to dicom ct-scans of patient\n",
    "        patient_dicom_path = scan.get_path_to_dicom_files()\n",
    "        patient_folders = os.path.abspath(os.path.join(patient_dicom_path, os.pardir))\n",
    "        # listing all the folders from a patient\n",
    "        patient_seg_folders = os.listdir(patient_folders)\n",
    "        # remove the unecessary evaluations folders\n",
    "        for folder in patient_seg_folders:\n",
    "            if \"evaluations\" in folder:\n",
    "                shutil.rmtree(os.path.join(patient_folders,folder))\n",
    "        patient_seg_folders = os.listdir(patient_folders)\n",
    "        # saving the dicom images folder path\n",
    "\n",
    "        nod = 1\n",
    "        annot = 0\n",
    "\n",
    "        # find the first segmentation folder for each nodule\n",
    "        for nodule in nods:\n",
    "            ann = nodule[0]\n",
    "            for folder in patient_seg_folders:\n",
    "                if \"Nodule {}\".format(nod) in folder:\n",
    "                    seg_folder = os.path.join(patient_folders, folder)\n",
    "                    break\n",
    "\n",
    "            iteration_counter += 1\n",
    "\n",
    "            # check how many files are in the segmentation folder\n",
    "            seg_files = os.listdir(seg_folder)\n",
    "            if len(seg_files) == 0:\n",
    "                # add a row with NaN values to the dataframe\n",
    "                data.loc[len(data)] = [None] * len(data.columns)\n",
    "            # iterating over each nodule segmentation file\n",
    "            for file in os.listdir(seg_folder):\n",
    "                if file.endswith(\".dcm\"):\n",
    "                    seg_file_path = os.path.join(seg_folder, file)\n",
    "                    # os.system(\"docker run -v \\\"\" + docker_save_dir + \":/data\\\" \" + docker_hash + \" --input-image-dir \\\"/data/\" + os.path.relpath(patient_dicom_path, docker_save_dir).replace(chr(92),\"/\") +  \"\\\" --input-seg-file \\\"/data/\" + os.path.relpath(seg_file_path, docker_save_dir).replace(chr(92),\"/\") + \"\\\" --output-dir \\\"\" + pyradiomics_midsave_path + \"\\\" --volume-reconstructor dcm2niix --features-dict \\\"/data/\" + os.path.relpath(features_dict, docker_save_dir).replace(chr(92),\"/\") + \"\\\" --temp-dir \\\"/data/\" + os.path.relpath(temp_dir, docker_save_dir).replace(chr(92),\"/\") + \"\\\" --correct-mask --parameters \\\"/data/\" + os.path.relpath(parameter_file, docker_save_dir).replace(chr(92),\"/\") + \"\\\"\")\n",
    "                    docker_command = (\n",
    "                        f\"docker run -v \\\"{docker_save_dir}:/data\\\" {docker_hash} \"\n",
    "                        f\"--input-image-dir \\\"/data/{os.path.relpath(patient_dicom_path, docker_save_dir).replace(chr(92), '/')}\\\" \"\n",
    "                        f\"--input-seg-file \\\"/data/{os.path.relpath(seg_file_path, docker_save_dir).replace(chr(92), '/')}\\\" \"\n",
    "                        f\"--output-dir \\\"{pyradiomics_midsave_path}\\\" \"\n",
    "                        f\"--volume-reconstructor dcm2niix \"\n",
    "                        f\"--features-dict \\\"/data/{os.path.relpath(features_dict, docker_save_dir).replace(chr(92), '/')}\\\" \"\n",
    "                        f\"--temp-dir \\\"/data/{os.path.relpath(temp_dir, docker_save_dir).replace(chr(92), '/')}\\\" \"\n",
    "                        f\"--correct-mask \"\n",
    "                        f\"--parameters \\\"/data/{os.path.relpath(parameter_file, docker_save_dir).replace(chr(92), '/')}\\\"\"\n",
    "                    )\n",
    "                    # running in parallel for better performance\n",
    "                    subprocess.run(docker_command, shell=True)\n",
    "\n",
    "                    try:\n",
    "                        testdata = pd.read_csv(\n",
    "                            r\"/test/temp file/Features/1.csv\")\n",
    "                        data = pd.concat([data, testdata], ignore_index=True)\n",
    "                    except:\n",
    "                        # append a row with NaN values to the dataframe\n",
    "                        data.loc[len(data)] = [None] * len(data.columns)\n",
    "                        thisdir = os.getcwd()\n",
    "                        os.chdir(parent_dir)\n",
    "                        # write to a log file the patient name, the seg folder name and the file name\n",
    "                        log = open(\"log.txt\", \"a\")\n",
    "                        log.write(\"Failed to extract features from: \" + os.getcwd() + \"\\n\")\n",
    "                        log.write(\"SEG File: \" + file + \"\\n\\n\")\n",
    "                        os.chdir(thisdir)\n",
    "                        continue\n",
    "                    # delete temp folder\n",
    "                    os.system(\"rmdir /s /q temp\")\n",
    "                    print(\"\\n\\n\")\n",
    "                else:\n",
    "                    # also append a row with NaN values to the dataframe\n",
    "                    data.loc[len(data)] = [None] * len(data.columns)\n",
    "\n",
    "            # create feature vector\n",
    "            feature = list(ann.feature_vals())\n",
    "            feature.insert(0, annot)\n",
    "            feature.insert(0, nod)\n",
    "            feature.insert(0, p_id)\n",
    "            dataframe.loc[len(dataframe)] = feature\n",
    "\n",
    "            thisdir = os.getcwd()\n",
    "\n",
    "            # create a backup of the dataframes every 15 iterations\n",
    "            if iteration_counter % 15 == 0:\n",
    "                current_time = time.time()\n",
    "                runtime = (current_time - start_time) / 60\n",
    "                print('Iteration: ' + str(iteration_counter) + '-----Backup create------------time:' + str(runtime))\n",
    "                os.chdir(r\"/test/Backups\")\n",
    "\n",
    "                data.to_csv(\"pyradiomicsBackup.csv\", index=False)\n",
    "                dataframe.to_csv(\"pylidcBackup.csv\", index=False)\n",
    "\n",
    "            os.chdir(thisdir)\n",
    "\n",
    "            nod += 1\n",
    "    os.chdir(parent_dir)\n",
    "\n",
    "    dataframe.to_csv(\"pylidc.csv\", index=False)\n",
    "    data.to_csv(\"pyradiomics.csv\", index=False)\n",
    "\n",
    "\n",
    "#get_features()\n"
   ],
   "metadata": {
    "collapsed": false,
    "ExecuteTime": {
     "end_time": "2023-11-04T12:49:27.319721300Z",
     "start_time": "2023-11-04T12:49:27.206095900Z"
    }
   }
  },
  {
   "cell_type": "markdown",
   "source": [
    "## 2. <a id='feature-selection'>Feature selection</a>\n",
    "Since the model is inefficient and vulnerable to overfitting if we would use all the GLCM features, we use a statistical p-test (ANOVA) to select the most significant features for the learning model. We also clean and normalize the data so it can be used for ML algorithms.\n",
    "The following code was used for feature selection."
   ],
   "metadata": {
    "collapsed": false
   }
  },
  {
   "cell_type": "code",
   "execution_count": 9,
   "outputs": [
    {
     "data": {
      "text/plain": "<Figure size 1200x600 with 2 Axes>",
      "image/png": "[encoded data removed]"
     },
     "metadata": {},
     "output_type": "display_data"
    }
   ],
   "source": [
    "#pylidc data\n",
    "pl_data = pd.read_csv(\"../Unsorted/Data files/CSV DATA FILES/backup_02_11_2023_afternoon/pylidcBackup.csv\")\n",
    "#pyradiomics data\n",
    "pr_data = pd.read_csv(\"../Unsorted/Data files/CSV DATA FILES/backup_02_11_2023_afternoon/pyradiomicsBackup.csv\")\n",
    "\n",
    "#Combining pylidc and pyradiomics data\n",
    "df = pd.concat([pl_data, pr_data], axis=1)\n",
    "df.to_csv('ML pyradiomics/total_data.csv')\n",
    "\n",
    "def cleaning_data(df):\n",
    "    df = df.select_dtypes(include=[int, float])\n",
    "    df = df.drop(df[df['Malignancy'] == 3].index)\n",
    "    # Remove rows with NaN values in the \"Malignancy\" column\n",
    "    df.dropna(subset=[\"Malignancy\"], inplace=True)\n",
    "    threshold = df.shape[1] - 10  # 10 or more NaN values to be dropped\n",
    "    df = df.dropna(thresh=threshold)\n",
    "    return df\n",
    "def normalize_data(df):\n",
    "    normalized_data = (df-df.min())/(df.max()-df.min())\n",
    "    return normalized_data\n",
    "\n",
    "def create_category_column(df):\n",
    "    # Create a new \"Category\" column based on the \"Malignancy\" values\n",
    "    df[\"Category\"] = df[\"Malignancy\"].apply(lambda x: 1 if x in [4, 5] else 0)\n",
    "    # drop all categories which are not numerical\n",
    "    df = df.select_dtypes(include=[int, float])\n",
    "    constant_columns = [col for col in df.columns if df[col].nunique() == 1]\n",
    "    df = df.drop(columns=constant_columns)\n",
    "    return df\n",
    "\n",
    "def get_malignancy_column_dtype(df):\n",
    "    # Check if the \"Malignancy\" column exists in the DataFrame\n",
    "    if \"Malignancy\" in df.columns:\n",
    "        malignancy_dtype = df[\"Malignancy\"].dtype\n",
    "        return malignancy_dtype\n",
    "    else:\n",
    "        return \"Column 'Malignancy' not found in the DataFrame.\"\n",
    "\n",
    "def f_selection_KBest(X,y,k=100):\n",
    "    X_new = SelectKBest(f_classif, k=k).fit_transform(X, y)\n",
    "    f_statistic, p_values = f_classif(X, y)\n",
    "    return X_new, f_statistic, p_values\n",
    "\n",
    "def f_selection_Percentile(X,y,p=10):\n",
    "    X_new = SelectPercentile(f_classif, percentile=p).fit_transform(X,y)\n",
    "    f_statistic, p_values = sklearn.feature_selection.f_classif(X,y)\n",
    "    return X_new, f_statistic, p_values\n",
    "\n",
    "def feature_select_plot(f_stat,p_val):\n",
    "    # Create a DataFrame to store and sort the F-statistic and p-values\n",
    "    results_df = pd.DataFrame({'F-Statistic': f_stat, 'p-Value': p_val})\n",
    "    results_df = results_df.sort_values(by='p-Value', ascending=True)\n",
    "    x_values = np.arange(0, len(f_stat), 1)\n",
    "\n",
    "    # Plot the sorted F-statistic and p-values\n",
    "    plt.figure(figsize=(12, 6))\n",
    "    plt.subplot(1, 2, 1)\n",
    "    plt.barh(x_values, results_df['F-Statistic'], color='b')\n",
    "    plt.xlabel('F-Statistic')\n",
    "    plt.title('F-Statistic')\n",
    "    plt.subplot(1, 2, 2)\n",
    "    plt.barh(x_values, -np.log10(results_df['p-Value']), color='g')\n",
    "    plt.xlabel('-log10(p-Value)')\n",
    "    plt.title('p-Values (log scale)')\n",
    "    plt.tight_layout()\n",
    "    plt.show()\n",
    "\n",
    "df = cleaning_data(df)\n",
    "get_malignancy_column_dtype(df)\n",
    "df = create_category_column(df)\n",
    "df_norm = normalize_data(df)\n",
    "\n",
    "# Creating the ML Dataset\n",
    "X = df_norm.drop(columns=[\"Category\",\"Malignancy\"])  # X contains all columns except \"Category\"\n",
    "y = df[\"Category\"]  # y is the \"Category\" column\n",
    "y_alt = df[\"Malignancy\"]\n",
    "\n",
    "X_new, f_statistic, p_values = f_selection_Percentile(X,y)\n",
    "feature_select_plot(f_statistic,p_values)\n",
    "X_new_df = pd.DataFrame(X_new)\n",
    "\n",
    "X.to_csv(\"ML pyradiomics/X_all_cleaned.csv\", index=False)\n",
    "X_new_df.to_csv(\"ML pyradiomics/X.csv\", index=False)\n",
    "y.to_csv(\"ML pyradiomics/y.csv\", index=False)\n",
    "y_alt.to_csv(\"ML pyradiomics/y_alt.csv\", index=False)"
   ],
   "metadata": {
    "collapsed": false,
    "ExecuteTime": {
     "end_time": "2023-11-04T12:52:31.812391100Z",
     "start_time": "2023-11-04T12:52:10.084126500Z"
    }
   }
  },
  {
   "cell_type": "markdown",
   "source": [
    "## 3. <a id='model1'>Model 1: Linear Support Vector Classifier</a>\n",
    "Here we use the linear Support Vector Machine Classifier (LinearSVC) algorithm from the scikit package. It minimizes the loss function by updating model parameters in an iterative, stochastic way. We use this classifier is because it is particularly effective for large datasets, as it processes random subsets (mini-batches) of data, making it computationally efficient and suitable for online learning scenarios"
   ],
   "metadata": {
    "collapsed": false
   }
  },
  {
   "cell_type": "code",
   "execution_count": 11,
   "outputs": [],
   "source": [
    "X = pd.read_csv(\"ML pyradiomics/X.csv\")\n",
    "Y = pd.read_csv(\"ML pyradiomics/y.csv\")\n",
    "Y = Y.values.ravel()"
   ],
   "metadata": {
    "collapsed": false,
    "ExecuteTime": {
     "end_time": "2023-11-04T12:54:28.187922500Z",
     "start_time": "2023-11-04T12:54:27.898412Z"
    }
   }
  },
  {
   "cell_type": "code",
   "execution_count": 22,
   "outputs": [
    {
     "ename": "AttributeError",
     "evalue": "'numpy.ndarray' object has no attribute 'append'",
     "output_type": "error",
     "traceback": [
      "\u001B[1;31m---------------------------------------------------------------------------\u001B[0m",
      "\u001B[1;31mAttributeError\u001B[0m                            Traceback (most recent call last)",
      "Cell \u001B[1;32mIn[22], line 39\u001B[0m\n\u001B[0;32m     37\u001B[0m first_30 \u001B[38;5;241m=\u001B[39m np\u001B[38;5;241m.\u001B[39marange(\u001B[38;5;241m1\u001B[39m,\u001B[38;5;241m30\u001B[39m,\u001B[38;5;241m1\u001B[39m)\n\u001B[0;32m     38\u001B[0m last \u001B[38;5;241m=\u001B[39m np\u001B[38;5;241m.\u001B[39marange(\u001B[38;5;241m35\u001B[39m,\u001B[38;5;241m100\u001B[39m,\u001B[38;5;241m5\u001B[39m)\n\u001B[1;32m---> 39\u001B[0m feature_prop \u001B[38;5;241m=\u001B[39m \u001B[43mfirst_30\u001B[49m\u001B[38;5;241;43m.\u001B[39;49m\u001B[43mappend\u001B[49m(last)\n\u001B[0;32m     40\u001B[0m acc_array \u001B[38;5;241m=\u001B[39m []\n\u001B[0;32m     41\u001B[0m test_size\u001B[38;5;241m=\u001B[39m \u001B[38;5;241m0.2\u001B[39m\n",
      "\u001B[1;31mAttributeError\u001B[0m: 'numpy.ndarray' object has no attribute 'append'"
     ]
    }
   ],
   "source": [
    "#The model\n",
    "def LSVC(X,Y,epochs, test_size):\n",
    "    e = np.arange(0, epochs)\n",
    "    acc_array = np.array([])\n",
    "    for i in e:\n",
    "        # divide training and test data\n",
    "        X_train, X_test, y_train, y_test = train_test_split(X, Y, test_size=test_size)\n",
    "        model = LinearSVC()\n",
    "        model.fit(X_train, y_train)\n",
    "        predictions = model.predict(X_test)\n",
    "        accuracy = accuracy_score(y_test, predictions)\n",
    "        acc_array = np.append(acc_array, accuracy)\n",
    "        #print(\"Accuracy:\", accuracy)\n",
    "\n",
    "\n",
    "    #calculate average accurcy\n",
    "    mean_acc = np.mean(acc_array)\n",
    "\n",
    "    #make a plot\n",
    "    plt.plot(e, acc_array)\n",
    "    plt.rcParams['font.size'] = '11'\n",
    "    #plt.figure(figsize=(8, 6), dpi=1000)\n",
    "    plt.title('Accuracy per epoch, ' + \"Dataset size: \" + str(len(X)) + ' Nodules')\n",
    "    plt.legend()\n",
    "    plt.xlabel('epoch')\n",
    "    plt.ylabel('accuracy')\n",
    "    plt.ylim(-0.05, 1.05)\n",
    "    plt.axhline(mean_acc, color='red', linestyle='dashed', label='Mean accuracy')\n",
    "    plt.show()\n",
    "    return\n",
    "\n",
    "#LSVC(X,Y,100, 0.2)\n",
    "\n",
    "X_all = pd.read_csv(\"ML pyradiomics/X_all_cleaned.csv\")\n",
    "Y = pd.read_csv(\"ML pyradiomics/y_alt.csv\")\n",
    "Y = Y.values.ravel()\n",
    "first_30 = np.arange(1,30,1)\n",
    "last = np.arange(35,100,5)\n",
    "feature_prop = first_30.append(last)\n",
    "acc_array = []\n",
    "test_size= 0.2\n",
    "for p in feature_prop:\n",
    "    X_new, f_statistic, p_values = f_selection_Percentile(X_all,Y,p)\n",
    "    X_train, X_test, y_train, y_test = train_test_split(X_new, Y, test_size=test_size, random_state=1)\n",
    "    model = LinearSVC()\n",
    "    model.fit(X_train, y_train)\n",
    "    predictions = model.predict(X_test)\n",
    "    accuracy = accuracy_score(y_test, predictions)\n",
    "    acc_array = np.append(acc_array, accuracy)\n",
    "plt.plot(feature_prop,acc_array, label='Amout features used vs accuracy {}'.format(feature_prop))\n",
    "plt.legend\n",
    "plt.ylim(0,1)\n",
    "plt.show()\n",
    "    \n"
   ],
   "metadata": {
    "collapsed": false,
    "ExecuteTime": {
     "end_time": "2023-11-04T13:08:25.810899800Z",
     "start_time": "2023-11-04T13:08:25.293898700Z"
    }
   }
  },
  {
   "cell_type": "markdown",
   "source": [
    "## 4. <a id='model2'>Model 2: Stochastic Gradient Descent Regressor</a>\n",
    "\n",
    "Here we use the Stochastic Gradient Descent Regressor (SGDR) algorithm from the scikit package. It minimizes the loss function by updating model parameters in an iterative, stochastic way. We use this algorithm is because it is particularly effective for large datasets, as it processes random subsets (mini-batches) of data, making it computationally efficient for a big dataset like the LIDC-IDRI dataset.\n"
   ],
   "metadata": {
    "collapsed": false
   }
  },
  {
   "cell_type": "code",
   "execution_count": null,
   "outputs": [],
   "source": [
    "X = pd.read_csv(\"Python scrips/ML pyradiomics/X.csv\")\n",
    "Y = pd.read_csv(\"Python scrips/ML pyradiomics/y_alt.csv\")"
   ],
   "metadata": {
    "collapsed": false,
    "ExecuteTime": {
     "end_time": "2023-11-04T12:49:28.745979100Z",
     "start_time": "2023-11-04T12:49:28.521582700Z"
    }
   }
  },
  {
   "cell_type": "code",
   "execution_count": null,
   "outputs": [],
   "source": [
    "#The Model\n",
    "def SGDR(X,Y,epochs, test_size):\n",
    "    e = np.arange(0, epochs)\n",
    "    acc_array = np.array([])\n",
    "    for i in e:\n",
    "        # divide training and test data\n",
    "        X_train, X_test, y_train, y_test = train_test_split(X, Y, test_size=test_size)\n",
    "        model.fit(X_train, y_train)\n",
    "        predictions = model.predict(X_test)\n",
    "        predictions_rounded = [round(num) for num in predictions]\n",
    "        accuracy = accuracy_score(y_test, predictions_rounded)\n",
    "        acc_array = np.append(acc_array, accuracy)\n",
    "        #print(\"Accuracy:\", accuracy)\n",
    "\n",
    "    #make a plot\n",
    "    plt.plot(e, acc_array)\n",
    "    plt.rcParams['font.size'] = '11'\n",
    "    #plt.figure(figsize=(8, 6), dpi=1000)\n",
    "    plt.title('Accuracy per epoch ' + \"Dataset size: \" + str(len(X)))\n",
    "    plt.legend()\n",
    "    plt.xlabel('epoch')\n",
    "    plt.ylabel('accuracy')\n",
    "    mean_acc = np.mean(acc_array)\n",
    "    plt.axhline(mean_acc, color='red', linestyle='dashed', label='Mean accuracy')\n",
    "    plt.show()\n",
    "    return\n",
    "\n",
    "X_all = pd.read_csv(\"Python scrips/ML pyradiomics/X_all_cleaned.csv\")\n",
    "Y = pd.read_csv(\"Python scrips/ML pyradiomics/y_alt.csv\")\n",
    "feature_prop = [3,5,8,10,15,20,25,30,35,40,45,50]\n",
    "acc_array = []\n",
    "for p in feature_prop:\n",
    "    X_new, f_statistic, p_values = f_selection_Percentile(X_all,Y,p)\n",
    "    X_train, X_test, y_train, y_test = train_test_split(X, Y, test_size=test_size, random_state=1)\n",
    "    model = LinearSVC()\n",
    "    model.fit(X_train, y_train)\n",
    "    predictions = model.predict(X_test)\n",
    "    accuracy = accuracy_score(y_test, predictions)\n",
    "    acc_array = np.append(acc_array, accuracy)\n",
    "plt.plot(feature_prop,acc_array)\n",
    "    \n",
    "\n",
    "#SGDR(X,Y,100, 0.1)"
   ],
   "metadata": {
    "collapsed": false,
    "ExecuteTime": {
     "start_time": "2023-11-04T12:49:28.526580Z"
    }
   }
  },
  {
   "cell_type": "markdown",
   "source": [],
   "metadata": {
    "collapsed": false
   }
  },
  {
   "cell_type": "markdown",
   "source": [],
   "metadata": {
    "collapsed": false
   }
  }
 ],
 "metadata": {
  "kernelspec": {
   "display_name": "LAB",
   "language": "python",
   "name": "python3"
  },
  "language_info": {
   "codemirror_mode": {
    "name": "ipython",
    "version": 3
   },
   "file_extension": ".py",
   "mimetype": "text/x-python",
   "name": "python",
   "nbconvert_exporter": "python",
   "pygments_lexer": "ipython3",
   "version": "3.8.18"
  },
  "orig_nbformat": 4
 },
 "nbformat": 4,
 "nbformat_minor": 2
}
