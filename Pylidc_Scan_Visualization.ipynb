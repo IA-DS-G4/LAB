{
 "cells": [
  {
   "cell_type": "code",
   "execution_count": 1,
   "id": "56c6ac89-5bd5-4210-85eb-b0299124c36a",
   "metadata": {},
   "outputs": [
    {
     "name": "stdout",
     "output_type": "stream",
     "text": [
      "31\n",
      "1\n",
      "LIDC-IDRI-0040 0.664062 2.5 2.5\n",
      "Loading dicom files ... This may take a moment.\n"
     ]
    }
   ],
   "source": [
    "import pylidc as pl\n",
    "\n",
    "import matplotlib\n",
    "matplotlib.use(\"Qt5Agg\")  # Set the desired backend\n",
    "\n",
    "\n",
    "# With this code its possible to put together all scans with desired traits.\n",
    "scans = pl.query(pl.Scan).filter(pl.Scan.slice_thickness <= 1,pl.Scan.pixel_spacing <= 0.6)\n",
    "print(scans.count())\n",
    "\n",
    "#This function visualizes the CT scan interactively and prints some infos. Might need packages PyQt5Agg for that\n",
    "def visualize(pid):\n",
    "      scans2 = pl.query(pl.Scan).filter(pl.Scan.patient_id == pid)\n",
    "      print(scans2.count())\n",
    "\n",
    "\n",
    "      scan = scans2.first()\n",
    "      print(scan.patient_id,\n",
    "            scan.pixel_spacing,\n",
    "            scan.slice_thickness,\n",
    "            scan.slice_spacing)\n",
    "      scan.visualize()\n",
    "\n",
    "\n",
    "pid = 'LIDC-IDRI-0040'\n",
    "\n",
    "visualize(pid)"
   ]
  },
  {
   "cell_type": "code",
   "execution_count": null,
   "id": "60cb65c3-e11d-43fb-b29e-e30f983ab8f3",
   "metadata": {},
   "outputs": [],
   "source": []
  }
 ],
 "metadata": {
  "kernelspec": {
   "display_name": "Python 3 (ipykernel)",
   "language": "python",
   "name": "python3"
  },
  "language_info": {
   "codemirror_mode": {
    "name": "ipython",
    "version": 3
   },
   "file_extension": ".py",
   "mimetype": "text/x-python",
   "name": "python",
   "nbconvert_exporter": "python",
   "pygments_lexer": "ipython3",
   "version": "3.9.2"
  }
 },
 "nbformat": 4,
 "nbformat_minor": 5
}
