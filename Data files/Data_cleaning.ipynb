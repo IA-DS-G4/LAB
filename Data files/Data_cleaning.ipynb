{
 "cells": [
  {
   "cell_type": "code",
   "execution_count": null,
   "id": "b5e463a0-81ba-475c-9092-2fbcdb11e109",
   "metadata": {},
   "outputs": [],
   "source": [
    "list_big_nodules_patients = []\n",
    "for f in len(list_images):\n",
    "    if list_images[f][2] =! 0:\n",
    "        list_big_nodules_patients.append(list_images[f])\n",
    "        "
   ]
  }
 ],
 "metadata": {
  "kernelspec": {
   "display_name": "Python 3 (ipykernel)",
   "language": "python",
   "name": "python3"
  },
  "language_info": {
   "codemirror_mode": {
    "name": "ipython",
    "version": 3
   },
   "file_extension": ".py",
   "mimetype": "text/x-python",
   "name": "python",
   "nbconvert_exporter": "python",
   "pygments_lexer": "ipython3",
   "version": "3.9.2"
  }
 },
 "nbformat": 4,
 "nbformat_minor": 5
}
