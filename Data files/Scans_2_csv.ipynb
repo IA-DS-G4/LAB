{
 "cells": [
  {
   "cell_type": "code",
   "execution_count": 5,
   "id": "3f352fc1-4e0f-4913-ae0c-ec3bcc5c3116",
   "metadata": {},
   "outputs": [
    {
     "name": "stdout",
     "output_type": "stream",
     "text": [
      "Loading dicom files ... This may take a moment.\n"
     ]
    }
   ],
   "source": [
    "import pylidc as pl\n",
    "import numpy as np\n",
    "import pandas as pd\n",
    "import os\n",
    "import matplotlib\n",
    "matplotlib.use(\"Qt5Agg\")  # Set the desired backend\n",
    "\n",
    "\n",
    "def scan_2_csv(pid):\n",
    "      scan = pl.query(pl.Scan).filter(pl.Scan.patient_id == pid).first()\n",
    "      vol = scan.to_volume()\n",
    "      return vol\n",
    "\n",
    "list_of_pid = ['LIDC-IDRI-0001']\n",
    "\n",
    "for pid in list_of_pid:\n",
    "      vol = scan_2_csv(pid)\n",
    "      if not os.path.isdir(r\"C:\\Users\\Diederik\\OneDrive\\Bureaublad\\studie tn\\Minor vakken Porto\\IA CAD\\GITHUB\\LAB\\CSV DATA FILES\\{}\".format(pid)):\n",
    "          os.makedirs(r\"C:\\Users\\Diederik\\OneDrive\\Bureaublad\\studie tn\\Minor vakken Porto\\IA CAD\\GITHUB\\LAB\\CSV DATA FILES\\{}\".format(pid))\n",
    "      for slice in range(np.shape(vol)[2]):\n",
    "          df = pd.DataFrame(vol[...,slice])\n",
    "          df.to_csv(r'C:\\Users\\Diederik\\OneDrive\\Bureaublad\\studie tn\\Minor vakken Porto\\IA CAD\\GITHUB\\LAB\\CSV DATA FILES\\{}/slice{}.csv'.format(pid,slice), index=False)"
   ]
  }
 ],
 "metadata": {
  "kernelspec": {
   "display_name": "Python 3 (ipykernel)",
   "language": "python",
   "name": "python3"
  },
  "language_info": {
   "codemirror_mode": {
    "name": "ipython",
    "version": 3
   },
   "file_extension": ".py",
   "mimetype": "text/x-python",
   "name": "python",
   "nbconvert_exporter": "python",
   "pygments_lexer": "ipython3",
   "version": "3.8.18"
  }
 },
 "nbformat": 4,
 "nbformat_minor": 5
}
