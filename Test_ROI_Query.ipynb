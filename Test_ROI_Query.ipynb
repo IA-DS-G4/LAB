{
 "cells": [
  {
   "cell_type": "code",
   "execution_count": null,
   "id": "31404702-01df-4299-b806-b61ef35e81e3",
   "metadata": {},
   "outputs": [],
   "source": [
    "import pylidc as pl\n",
    "import numpy as np\n",
    "import pandas as pd\n",
    "import os\n",
    "import matplotlib\n",
    "matplotlib.use(\"Qt5Agg\")  # Set the desired backend\n",
    "\n",
    "\n",
    "\n",
    "def get_ROI_Dicom(pid):\n",
    "    ann = pl.query(pl.Annotation).first()\n",
    "    padding = [(30, 10), (10, 25), (0, 0)]\n",
    "    mask = ann.boolean_mask(pad=padding)\n",
    "    bbox = ann.bbox(pad=padding)\n",
    "    vol = ann.scan.to_volume()\n",
    "    fig, ax = plt.subplots(1, 2, figsize=(5, 3))\n",
    "\n",
    "    ax[0].imshow(vol[bbox][:, :, 2], cmap=plt.cm.gray)\n",
    "    ax[0].axis('off')\n",
    "\n",
    "    ax[1].imshow(mask[:, :, 2], cmap=plt.cm.gray)\n",
    "    ax[1].axis('off')\n",
    "\n",
    "    plt.tight_layout()\n",
    "    # plt.savefig(\"../images/mask_bbox.png\", bbox_inches=\"tight\")\n",
    "    plt.show()\n",
    "\n",
    "\n",
    "pid = 'LIDC-IDRI-0001'\n",
    "\n",
    "get_ROI_Dicom(pid)"
   ]
  }
 ],
 "metadata": {
  "kernelspec": {
   "display_name": "Python 3 (ipykernel)",
   "language": "python",
   "name": "python3"
  },
  "language_info": {
   "codemirror_mode": {
    "name": "ipython",
    "version": 3
   },
   "file_extension": ".py",
   "mimetype": "text/x-python",
   "name": "python",
   "nbconvert_exporter": "python",
   "pygments_lexer": "ipython3",
   "version": "3.9.2"
  }
 },
 "nbformat": 4,
 "nbformat_minor": 5
}
