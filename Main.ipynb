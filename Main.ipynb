{
 "cells": [
  {
   "cell_type": "code",
   "execution_count": 66,
   "metadata": {},
   "outputs": [],
   "source": [
    "import pandas as pd\n",
    "import numpy as np\n",
    "import matplotlib as plt"
   ]
  },
  {
   "cell_type": "code",
   "execution_count": 67,
   "metadata": {},
   "outputs": [],
   "source": [
    "#load file of patient id and nodule counts\n",
    "csv_url = \"C:\\\\Users\\\\Diederik\\\\OneDrive\\\\Bureaublad\\\\studie tn\\\\Minor vakken Porto\\\\IA CAD\\\\GITHUB\\\\LAB\\\\Data files\\\\Patientids_over3mm.csv\"\n",
    "\n",
    "# Read the CSV file into a DataFrame\n",
    "id_nodules = pd.read_csv(csv_url)\n",
    "\n",
    "\n",
    "#Dropping 2nd and 3rd column\n",
    "id_nodules = id_nodules.drop(columns=[id_nodules.columns[2], id_nodules.columns[3]])\n",
    "\n",
    "# Explore the DataFrame\n",
    "#print(id_nodules.head())\n",
    "\n",
    "#Converting pd dataframe into numpy array\n",
    "id_nodules = id_nodules.values\n",
    "\n",
    "#print numpy array\n",
    "#print(id_nodules)\n"
   ]
  },
  {
   "cell_type": "code",
   "execution_count": 68,
   "metadata": {},
   "outputs": [],
   "source": [
    "\n",
    "id_nodules_filtered = []\n",
    "\n",
    "#Filtering out all patient id's with nodules smaller than zero\n",
    "for i in range(id_nodules.shape[0]):\n",
    "    if id_nodules[i,1] != 0:\n",
    "        id_nodules_filtered.append(id_nodules[i])\n",
    "        i += 1\n",
    "\n",
    "\n",
    "id_nodules_filtered = np.array(id_nodules_filtered)\n",
    "id_patients_filtered = np.delete(id_nodules_filtered,1,axis=1)\n",
    "\n",
    "    "
   ]
  },
  {
   "cell_type": "code",
   "execution_count": 70,
   "metadata": {},
   "outputs": [],
   "source": [
    "#save it as a csv file\n",
    "np.savetxt('id_nodules_filtered.csv', id_nodules_filtered, delimiter=',', fmt='%s')\n",
    "np.savetxt('id_patients_filtered.csv', id_patients_filtered, delimiter=',', fmt='%s')\n"
   ]
  },
  {
   "cell_type": "code",
   "execution_count": null,
   "metadata": {},
   "outputs": [],
   "source": []
  },
  {
   "cell_type": "code",
   "execution_count": null,
   "metadata": {},
   "outputs": [],
   "source": []
  }
 ],
 "metadata": {
  "kernelspec": {
   "display_name": "base",
   "language": "python",
   "name": "python3"
  },
  "language_info": {
   "codemirror_mode": {
    "name": "ipython",
    "version": 3
   },
   "file_extension": ".py",
   "mimetype": "text/x-python",
   "name": "python",
   "nbconvert_exporter": "python",
   "pygments_lexer": "ipython3",
   "version": "3.8.5"
  },
  "orig_nbformat": 4
 },
 "nbformat": 4,
 "nbformat_minor": 2
}
