{
 "cells": [
  {
   "cell_type": "code",
   "execution_count": 1,
   "id": "79bb954b",
   "metadata": {},
   "outputs": [],
   "source": [
    "import numpy as np\n",
    "import scipy\n",
    "import pandas as pd\n",
    "import matplotlib.pyplot as plt\n",
    "import seaborn as sns\n",
    "from sklearn import tree\n",
    "from sklearn.model_selection import train_test_split\n",
    "from sklearn.metrics import accuracy_score\n",
    "from sklearn.metrics import confusion_matrix\n",
    "from sklearn.datasets import make_classification\n",
    "from sklearn.tree import export_graphviz\n",
    "from IPython.display import Image\n",
    "import graphviz"
   ]
  },
  {
   "cell_type": "code",
   "execution_count": 2,
   "id": "0db6d1ef",
   "metadata": {},
   "outputs": [],
   "source": [
    "#Create the dataframe from de CSV file\n",
    "df=pd.read_csv('predictions.csv')"
   ]
  },
  {
   "cell_type": "code",
   "execution_count": 3,
   "id": "03beaffc",
   "metadata": {},
   "outputs": [
    {
     "data": {
      "text/html": [
       "<div>\n",
       "<style scoped>\n",
       "    .dataframe tbody tr th:only-of-type {\n",
       "        vertical-align: middle;\n",
       "    }\n",
       "\n",
       "    .dataframe tbody tr th {\n",
       "        vertical-align: top;\n",
       "    }\n",
       "\n",
       "    .dataframe thead th {\n",
       "        text-align: right;\n",
       "    }\n",
       "</style>\n",
       "<table border=\"1\" class=\"dataframe\">\n",
       "  <thead>\n",
       "    <tr style=\"text-align: right;\">\n",
       "      <th></th>\n",
       "      <th>Unnamed: 0</th>\n",
       "      <th>Prediction_rf</th>\n",
       "      <th>Malignancy</th>\n",
       "      <th>Prediction_knn</th>\n",
       "      <th>Prediction_dt</th>\n",
       "    </tr>\n",
       "  </thead>\n",
       "  <tbody>\n",
       "    <tr>\n",
       "      <th>0</th>\n",
       "      <td>0</td>\n",
       "      <td>True</td>\n",
       "      <td>True</td>\n",
       "      <td>True</td>\n",
       "      <td>True</td>\n",
       "    </tr>\n",
       "    <tr>\n",
       "      <th>1</th>\n",
       "      <td>1</td>\n",
       "      <td>True</td>\n",
       "      <td>True</td>\n",
       "      <td>True</td>\n",
       "      <td>True</td>\n",
       "    </tr>\n",
       "    <tr>\n",
       "      <th>2</th>\n",
       "      <td>2</td>\n",
       "      <td>False</td>\n",
       "      <td>False</td>\n",
       "      <td>False</td>\n",
       "      <td>False</td>\n",
       "    </tr>\n",
       "    <tr>\n",
       "      <th>3</th>\n",
       "      <td>3</td>\n",
       "      <td>True</td>\n",
       "      <td>True</td>\n",
       "      <td>True</td>\n",
       "      <td>True</td>\n",
       "    </tr>\n",
       "    <tr>\n",
       "      <th>4</th>\n",
       "      <td>4</td>\n",
       "      <td>True</td>\n",
       "      <td>True</td>\n",
       "      <td>True</td>\n",
       "      <td>True</td>\n",
       "    </tr>\n",
       "  </tbody>\n",
       "</table>\n",
       "</div>"
      ],
      "text/plain": [
       "   Unnamed: 0  Prediction_rf  Malignancy  Prediction_knn  Prediction_dt\n",
       "0           0           True        True            True           True\n",
       "1           1           True        True            True           True\n",
       "2           2          False       False           False          False\n",
       "3           3           True        True            True           True\n",
       "4           4           True        True            True           True"
      ]
     },
     "execution_count": 3,
     "metadata": {},
     "output_type": "execute_result"
    }
   ],
   "source": [
    "df.head()"
   ]
  },
  {
   "cell_type": "code",
   "execution_count": 4,
   "id": "a390a24a",
   "metadata": {},
   "outputs": [
    {
     "data": {
      "text/plain": [
       "Index(['Unnamed: 0', 'Prediction_rf', 'Malignancy', 'Prediction_knn',\n",
       "       'Prediction_dt'],\n",
       "      dtype='object')"
      ]
     },
     "execution_count": 4,
     "metadata": {},
     "output_type": "execute_result"
    }
   ],
   "source": [
    "df.columns"
   ]
  },
  {
   "cell_type": "code",
   "execution_count": 5,
   "id": "423e92d5",
   "metadata": {},
   "outputs": [],
   "source": [
    "# Identify the features used to predict the classification of the malignancy of the node\n",
    "# X - vector of valiables used to predict\n",
    "# y - target variable\n",
    "\n",
    "X=df[['Prediction_dt', 'Prediction_rf', 'Prediction_knn']]\n",
    "y=df['Malignancy']"
   ]
  },
  {
   "cell_type": "code",
   "execution_count": 6,
   "id": "4aa6d712",
   "metadata": {},
   "outputs": [],
   "source": [
    "# Devide the dataset in train (80%) and test (20%) subsets\n",
    "# Define a random state do fix this division\n",
    "\n",
    "X_train, X_test, y_train, y_test=train_test_split(X,y,test_size=0.2,random_state=1)"
   ]
  },
  {
   "cell_type": "code",
   "execution_count": 7,
   "id": "452b943f",
   "metadata": {},
   "outputs": [],
   "source": [
    "# Construction of a decision tree classifier with the stop criterion of \n",
    "# at least 0.001 of minimum impurity decrease to avoind overfitting\n",
    "\n",
    "dt = tree.DecisionTreeClassifier(min_impurity_decrease=0.0001)\n",
    "dt = dt.fit(X_train, y_train)\n",
    "df['Prediction_dt']=dt.predict(X)"
   ]
  },
  {
   "cell_type": "code",
   "execution_count": 8,
   "id": "21027c26",
   "metadata": {},
   "outputs": [
    {
     "data": {
      "image/svg+xml": [
       "<?xml version=\"1.0\" encoding=\"UTF-8\" standalone=\"no\"?>\n",
       "<!DOCTYPE svg PUBLIC \"-//W3C//DTD SVG 1.1//EN\"\n",
       " \"http://www.w3.org/Graphics/SVG/1.1/DTD/svg11.dtd\">\n",
       "<!-- Generated by graphviz version 2.43.0 (0)\n",
       " -->\n",
       "<!-- Title: Tree Pages: 1 -->\n",
       "<svg width=\"863pt\" height=\"313pt\"\n",
       " viewBox=\"0.00 0.00 863.00 313.00\" xmlns=\"http://www.w3.org/2000/svg\" xmlns:xlink=\"http://www.w3.org/1999/xlink\">\n",
       "<g id=\"graph0\" class=\"graph\" transform=\"scale(1 1) rotate(0) translate(4 309)\">\n",
       "<title>Tree</title>\n",
       "<polygon fill=\"white\" stroke=\"transparent\" points=\"-4,4 -4,-309 859,-309 859,4 -4,4\"/>\n",
       "<!-- 0 -->\n",
       "<g id=\"node1\" class=\"node\">\n",
       "<title>0</title>\n",
       "<polygon fill=\"#eca16c\" stroke=\"black\" points=\"467,-305 291,-305 291,-252 467,-252 467,-305\"/>\n",
       "<text text-anchor=\"middle\" x=\"379\" y=\"-289.8\" font-family=\"Helvetica,sans-Serif\" font-size=\"14.00\">Prediction_rf &lt;= 0.5</text>\n",
       "<text text-anchor=\"middle\" x=\"379\" y=\"-274.8\" font-family=\"Helvetica,sans-Serif\" font-size=\"14.00\">samples = 100.0%</text>\n",
       "<text text-anchor=\"middle\" x=\"379\" y=\"-259.8\" font-family=\"Helvetica,sans-Serif\" font-size=\"14.00\">value = [0.797, 0.203]</text>\n",
       "</g>\n",
       "<!-- 1 -->\n",
       "<g id=\"node2\" class=\"node\">\n",
       "<title>1</title>\n",
       "<polygon fill=\"#e89152\" stroke=\"black\" points=\"370,-216 194,-216 194,-163 370,-163 370,-216\"/>\n",
       "<text text-anchor=\"middle\" x=\"282\" y=\"-200.8\" font-family=\"Helvetica,sans-Serif\" font-size=\"14.00\">Prediction_dt &lt;= 0.5</text>\n",
       "<text text-anchor=\"middle\" x=\"282\" y=\"-185.8\" font-family=\"Helvetica,sans-Serif\" font-size=\"14.00\">samples = 87.8%</text>\n",
       "<text text-anchor=\"middle\" x=\"282\" y=\"-170.8\" font-family=\"Helvetica,sans-Serif\" font-size=\"14.00\">value = [0.886, 0.114]</text>\n",
       "</g>\n",
       "<!-- 0&#45;&gt;1 -->\n",
       "<g id=\"edge1\" class=\"edge\">\n",
       "<title>0&#45;&gt;1</title>\n",
       "<path fill=\"none\" stroke=\"black\" d=\"M350.42,-251.87C340.35,-242.83 328.89,-232.55 318.26,-223.03\"/>\n",
       "<polygon fill=\"black\" stroke=\"black\" points=\"320.49,-220.32 310.71,-216.25 315.82,-225.53 320.49,-220.32\"/>\n",
       "<text text-anchor=\"middle\" x=\"312.07\" y=\"-237.51\" font-family=\"Helvetica,sans-Serif\" font-size=\"14.00\">True</text>\n",
       "</g>\n",
       "<!-- 6 -->\n",
       "<g id=\"node7\" class=\"node\">\n",
       "<title>6</title>\n",
       "<polygon fill=\"#5dafea\" stroke=\"black\" points=\"564,-216 388,-216 388,-163 564,-163 564,-216\"/>\n",
       "<text text-anchor=\"middle\" x=\"476\" y=\"-200.8\" font-family=\"Helvetica,sans-Serif\" font-size=\"14.00\">Prediction_knn &lt;= 0.5</text>\n",
       "<text text-anchor=\"middle\" x=\"476\" y=\"-185.8\" font-family=\"Helvetica,sans-Serif\" font-size=\"14.00\">samples = 12.2%</text>\n",
       "<text text-anchor=\"middle\" x=\"476\" y=\"-170.8\" font-family=\"Helvetica,sans-Serif\" font-size=\"14.00\">value = [0.154, 0.846]</text>\n",
       "</g>\n",
       "<!-- 0&#45;&gt;6 -->\n",
       "<g id=\"edge6\" class=\"edge\">\n",
       "<title>0&#45;&gt;6</title>\n",
       "<path fill=\"none\" stroke=\"black\" d=\"M407.58,-251.87C417.65,-242.83 429.11,-232.55 439.74,-223.03\"/>\n",
       "<polygon fill=\"black\" stroke=\"black\" points=\"442.18,-225.53 447.29,-216.25 437.51,-220.32 442.18,-225.53\"/>\n",
       "<text text-anchor=\"middle\" x=\"445.93\" y=\"-237.51\" font-family=\"Helvetica,sans-Serif\" font-size=\"14.00\">False</text>\n",
       "</g>\n",
       "<!-- 2 -->\n",
       "<g id=\"node3\" class=\"node\">\n",
       "<title>2</title>\n",
       "<polygon fill=\"#e89050\" stroke=\"black\" points=\"176,-127 0,-127 0,-74 176,-74 176,-127\"/>\n",
       "<text text-anchor=\"middle\" x=\"88\" y=\"-111.8\" font-family=\"Helvetica,sans-Serif\" font-size=\"14.00\">Prediction_knn &lt;= 0.5</text>\n",
       "<text text-anchor=\"middle\" x=\"88\" y=\"-96.8\" font-family=\"Helvetica,sans-Serif\" font-size=\"14.00\">samples = 85.5%</text>\n",
       "<text text-anchor=\"middle\" x=\"88\" y=\"-81.8\" font-family=\"Helvetica,sans-Serif\" font-size=\"14.00\">value = [0.895, 0.105]</text>\n",
       "</g>\n",
       "<!-- 1&#45;&gt;2 -->\n",
       "<g id=\"edge2\" class=\"edge\">\n",
       "<title>1&#45;&gt;2</title>\n",
       "<path fill=\"none\" stroke=\"black\" d=\"M225.1,-162.98C202.9,-153.03 177.28,-141.54 154.25,-131.21\"/>\n",
       "<polygon fill=\"black\" stroke=\"black\" points=\"155.45,-127.91 144.89,-127.01 152.59,-134.3 155.45,-127.91\"/>\n",
       "</g>\n",
       "<!-- 5 -->\n",
       "<g id=\"node6\" class=\"node\">\n",
       "<title>5</title>\n",
       "<polygon fill=\"#f9e3d3\" stroke=\"black\" points=\"370,-119.5 194,-119.5 194,-81.5 370,-81.5 370,-119.5\"/>\n",
       "<text text-anchor=\"middle\" x=\"282\" y=\"-104.3\" font-family=\"Helvetica,sans-Serif\" font-size=\"14.00\">samples = 2.3%</text>\n",
       "<text text-anchor=\"middle\" x=\"282\" y=\"-89.3\" font-family=\"Helvetica,sans-Serif\" font-size=\"14.00\">value = [0.562, 0.438]</text>\n",
       "</g>\n",
       "<!-- 1&#45;&gt;5 -->\n",
       "<g id=\"edge5\" class=\"edge\">\n",
       "<title>1&#45;&gt;5</title>\n",
       "<path fill=\"none\" stroke=\"black\" d=\"M282,-162.87C282,-152.42 282,-140.3 282,-129.61\"/>\n",
       "<polygon fill=\"black\" stroke=\"black\" points=\"285.5,-129.51 282,-119.51 278.5,-129.51 285.5,-129.51\"/>\n",
       "</g>\n",
       "<!-- 3 -->\n",
       "<g id=\"node4\" class=\"node\">\n",
       "<title>3</title>\n",
       "<polygon fill=\"#e88f4f\" stroke=\"black\" points=\"176,-38 0,-38 0,0 176,0 176,-38\"/>\n",
       "<text text-anchor=\"middle\" x=\"88\" y=\"-22.8\" font-family=\"Helvetica,sans-Serif\" font-size=\"14.00\">samples = 84.7%</text>\n",
       "<text text-anchor=\"middle\" x=\"88\" y=\"-7.8\" font-family=\"Helvetica,sans-Serif\" font-size=\"14.00\">value = [0.899, 0.101]</text>\n",
       "</g>\n",
       "<!-- 2&#45;&gt;3 -->\n",
       "<g id=\"edge3\" class=\"edge\">\n",
       "<title>2&#45;&gt;3</title>\n",
       "<path fill=\"none\" stroke=\"black\" d=\"M88,-73.91C88,-65.74 88,-56.65 88,-48.3\"/>\n",
       "<polygon fill=\"black\" stroke=\"black\" points=\"91.5,-48.24 88,-38.24 84.5,-48.24 91.5,-48.24\"/>\n",
       "</g>\n",
       "<!-- 4 -->\n",
       "<g id=\"node5\" class=\"node\">\n",
       "<title>4</title>\n",
       "<polygon fill=\"#e9f4fc\" stroke=\"black\" points=\"370,-38 194,-38 194,0 370,0 370,-38\"/>\n",
       "<text text-anchor=\"middle\" x=\"282\" y=\"-22.8\" font-family=\"Helvetica,sans-Serif\" font-size=\"14.00\">samples = 0.8%</text>\n",
       "<text text-anchor=\"middle\" x=\"282\" y=\"-7.8\" font-family=\"Helvetica,sans-Serif\" font-size=\"14.00\">value = [0.471, 0.529]</text>\n",
       "</g>\n",
       "<!-- 2&#45;&gt;4 -->\n",
       "<g id=\"edge4\" class=\"edge\">\n",
       "<title>2&#45;&gt;4</title>\n",
       "<path fill=\"none\" stroke=\"black\" d=\"M150.45,-73.91C175.58,-63.61 204.27,-51.85 228.43,-41.95\"/>\n",
       "<polygon fill=\"black\" stroke=\"black\" points=\"229.87,-45.15 237.79,-38.12 227.21,-38.67 229.87,-45.15\"/>\n",
       "</g>\n",
       "<!-- 7 -->\n",
       "<g id=\"node8\" class=\"node\">\n",
       "<title>7</title>\n",
       "<polygon fill=\"#8dc7f0\" stroke=\"black\" points=\"564,-119.5 388,-119.5 388,-81.5 564,-81.5 564,-119.5\"/>\n",
       "<text text-anchor=\"middle\" x=\"476\" y=\"-104.3\" font-family=\"Helvetica,sans-Serif\" font-size=\"14.00\">samples = 2.7%</text>\n",
       "<text text-anchor=\"middle\" x=\"476\" y=\"-89.3\" font-family=\"Helvetica,sans-Serif\" font-size=\"14.00\">value = [0.298, 0.702]</text>\n",
       "</g>\n",
       "<!-- 6&#45;&gt;7 -->\n",
       "<g id=\"edge7\" class=\"edge\">\n",
       "<title>6&#45;&gt;7</title>\n",
       "<path fill=\"none\" stroke=\"black\" d=\"M476,-162.87C476,-152.42 476,-140.3 476,-129.61\"/>\n",
       "<polygon fill=\"black\" stroke=\"black\" points=\"479.5,-129.51 476,-119.51 472.5,-129.51 479.5,-129.51\"/>\n",
       "</g>\n",
       "<!-- 8 -->\n",
       "<g id=\"node9\" class=\"node\">\n",
       "<title>8</title>\n",
       "<polygon fill=\"#52aae8\" stroke=\"black\" points=\"758,-127 582,-127 582,-74 758,-74 758,-127\"/>\n",
       "<text text-anchor=\"middle\" x=\"670\" y=\"-111.8\" font-family=\"Helvetica,sans-Serif\" font-size=\"14.00\">Prediction_dt &lt;= 0.5</text>\n",
       "<text text-anchor=\"middle\" x=\"670\" y=\"-96.8\" font-family=\"Helvetica,sans-Serif\" font-size=\"14.00\">samples = 9.5%</text>\n",
       "<text text-anchor=\"middle\" x=\"670\" y=\"-81.8\" font-family=\"Helvetica,sans-Serif\" font-size=\"14.00\">value = [0.114, 0.886]</text>\n",
       "</g>\n",
       "<!-- 6&#45;&gt;8 -->\n",
       "<g id=\"edge8\" class=\"edge\">\n",
       "<title>6&#45;&gt;8</title>\n",
       "<path fill=\"none\" stroke=\"black\" d=\"M532.9,-162.98C555.1,-153.03 580.72,-141.54 603.75,-131.21\"/>\n",
       "<polygon fill=\"black\" stroke=\"black\" points=\"605.41,-134.3 613.11,-127.01 602.55,-127.91 605.41,-134.3\"/>\n",
       "</g>\n",
       "<!-- 9 -->\n",
       "<g id=\"node10\" class=\"node\">\n",
       "<title>9</title>\n",
       "<polygon fill=\"#66b3eb\" stroke=\"black\" points=\"661,-38 485,-38 485,0 661,0 661,-38\"/>\n",
       "<text text-anchor=\"middle\" x=\"573\" y=\"-22.8\" font-family=\"Helvetica,sans-Serif\" font-size=\"14.00\">samples = 1.8%</text>\n",
       "<text text-anchor=\"middle\" x=\"573\" y=\"-7.8\" font-family=\"Helvetica,sans-Serif\" font-size=\"14.00\">value = [0.184, 0.816]</text>\n",
       "</g>\n",
       "<!-- 8&#45;&gt;9 -->\n",
       "<g id=\"edge9\" class=\"edge\">\n",
       "<title>8&#45;&gt;9</title>\n",
       "<path fill=\"none\" stroke=\"black\" d=\"M638.77,-73.91C627.37,-64.56 614.49,-54 603.17,-44.73\"/>\n",
       "<polygon fill=\"black\" stroke=\"black\" points=\"605.21,-41.87 595.25,-38.24 600.77,-47.28 605.21,-41.87\"/>\n",
       "</g>\n",
       "<!-- 10 -->\n",
       "<g id=\"node11\" class=\"node\">\n",
       "<title>10</title>\n",
       "<polygon fill=\"#4ea8e8\" stroke=\"black\" points=\"855,-38 679,-38 679,0 855,0 855,-38\"/>\n",
       "<text text-anchor=\"middle\" x=\"767\" y=\"-22.8\" font-family=\"Helvetica,sans-Serif\" font-size=\"14.00\">samples = 7.7%</text>\n",
       "<text text-anchor=\"middle\" x=\"767\" y=\"-7.8\" font-family=\"Helvetica,sans-Serif\" font-size=\"14.00\">value = [0.098, 0.902]</text>\n",
       "</g>\n",
       "<!-- 8&#45;&gt;10 -->\n",
       "<g id=\"edge10\" class=\"edge\">\n",
       "<title>8&#45;&gt;10</title>\n",
       "<path fill=\"none\" stroke=\"black\" d=\"M701.23,-73.91C712.63,-64.56 725.51,-54 736.83,-44.73\"/>\n",
       "<polygon fill=\"black\" stroke=\"black\" points=\"739.23,-47.28 744.75,-38.24 734.79,-41.87 739.23,-47.28\"/>\n",
       "</g>\n",
       "</g>\n",
       "</svg>\n"
      ],
      "text/plain": [
       "<graphviz.sources.Source at 0x7fad6f311eb0>"
      ]
     },
     "metadata": {},
     "output_type": "display_data"
    }
   ],
   "source": [
    "# print of the more significant separations with percentage of the subset (train) and proportion for each separation\n",
    "\n",
    "dt_data = export_graphviz(dt,feature_names=X_train.columns,filled=True,max_depth=4,impurity=False,proportion=True)\n",
    "graph = graphviz.Source(dt_data)\n",
    "display(graph)"
   ]
  },
  {
   "cell_type": "code",
   "execution_count": 9,
   "id": "9920e3a3",
   "metadata": {},
   "outputs": [
    {
     "name": "stdout",
     "output_type": "stream",
     "text": [
      "Confusion Matrix:\n"
     ]
    },
    {
     "data": {
      "text/plain": [
       "array([[389,  19],\n",
       "       [ 56,  67]])"
      ]
     },
     "execution_count": 9,
     "metadata": {},
     "output_type": "execute_result"
    }
   ],
   "source": [
    "# test of the decision tree obtained using the test subset\n",
    "y_predict=dt.predict(X_test)\n",
    "\n",
    "print(\"Confusion Matrix:\")\n",
    "confusion_matrix(y_test, y_predict)"
   ]
  },
  {
   "cell_type": "code",
   "execution_count": 10,
   "id": "fac6026d",
   "metadata": {},
   "outputs": [
    {
     "name": "stdout",
     "output_type": "stream",
     "text": [
      "Accuracy:\n"
     ]
    },
    {
     "data": {
      "text/plain": [
       "0.8587570621468926"
      ]
     },
     "execution_count": 10,
     "metadata": {},
     "output_type": "execute_result"
    }
   ],
   "source": [
    "print(\"Accuracy:\")\n",
    "accuracy_score(y_test, y_predict)"
   ]
  },
  {
   "cell_type": "code",
   "execution_count": null,
   "id": "2c484c0c",
   "metadata": {},
   "outputs": [],
   "source": [
    "# The obtained result is a little higher than the results of each model"
   ]
  }
 ],
 "metadata": {
  "kernelspec": {
   "display_name": "Python 3 (ipykernel)",
   "language": "python",
   "name": "python3"
  },
  "language_info": {
   "codemirror_mode": {
    "name": "ipython",
    "version": 3
   },
   "file_extension": ".py",
   "mimetype": "text/x-python",
   "name": "python",
   "nbconvert_exporter": "python",
   "pygments_lexer": "ipython3",
   "version": "3.9.7"
  }
 },
 "nbformat": 4,
 "nbformat_minor": 5
}
