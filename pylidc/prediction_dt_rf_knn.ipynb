{
 "cells": [
  {
   "cell_type": "code",
   "execution_count": 1,
   "id": "fd1fb35d",
   "metadata": {},
   "outputs": [],
   "source": [
    "import numpy as np\n",
    "import scipy\n",
    "import pandas as pd\n",
    "import matplotlib.pyplot as plt\n",
    "import seaborn as sns\n",
    "from sklearn import tree\n",
    "from sklearn.model_selection import train_test_split\n",
    "from sklearn.metrics import accuracy_score\n",
    "from sklearn.metrics import confusion_matrix\n",
    "from sklearn.ensemble import RandomForestClassifier\n",
    "from sklearn.datasets import make_classification\n",
    "from sklearn.neighbors import KNeighborsClassifier\n",
    "from sklearn.tree import export_graphviz\n",
    "from IPython.display import Image\n",
    "import graphviz"
   ]
  },
  {
   "cell_type": "code",
   "execution_count": 2,
   "id": "83b5d5c3",
   "metadata": {},
   "outputs": [],
   "source": [
    "#Create the dataframe from de CSV file\n",
    "df=pd.read_csv('pylidc_csv.csv')"
   ]
  },
  {
   "cell_type": "code",
   "execution_count": 3,
   "id": "64067dd1",
   "metadata": {},
   "outputs": [],
   "source": [
    "#In this first section we present some information on the data"
   ]
  },
  {
   "cell_type": "code",
   "execution_count": 4,
   "id": "42c7c13e",
   "metadata": {},
   "outputs": [
    {
     "data": {
      "text/html": [
       "<div>\n",
       "<style scoped>\n",
       "    .dataframe tbody tr th:only-of-type {\n",
       "        vertical-align: middle;\n",
       "    }\n",
       "\n",
       "    .dataframe tbody tr th {\n",
       "        vertical-align: top;\n",
       "    }\n",
       "\n",
       "    .dataframe thead th {\n",
       "        text-align: right;\n",
       "    }\n",
       "</style>\n",
       "<table border=\"1\" class=\"dataframe\">\n",
       "  <thead>\n",
       "    <tr style=\"text-align: right;\">\n",
       "      <th></th>\n",
       "      <th>Unnamed: 0</th>\n",
       "      <th>Nod_id</th>\n",
       "      <th>Patient_id</th>\n",
       "      <th>slice thickness</th>\n",
       "      <th>N nods</th>\n",
       "      <th>Spiculation_Min</th>\n",
       "      <th>Spiculation_Med</th>\n",
       "      <th>Spiculation_Max</th>\n",
       "      <th>Internal_Structure</th>\n",
       "      <th>Calcification</th>\n",
       "      <th>...</th>\n",
       "      <th>Lobulation_max</th>\n",
       "      <th>Texture</th>\n",
       "      <th>Malignancy_min</th>\n",
       "      <th>Malignancy_mean</th>\n",
       "      <th>Malignancy_max</th>\n",
       "      <th>Malignancy_n4</th>\n",
       "      <th>Malignancy_n5</th>\n",
       "      <th>Subtlety_Min</th>\n",
       "      <th>Subtlety_Med</th>\n",
       "      <th>Subtlety_Max</th>\n",
       "    </tr>\n",
       "  </thead>\n",
       "  <tbody>\n",
       "    <tr>\n",
       "      <th>0</th>\n",
       "      <td>1</td>\n",
       "      <td>LIDC-IDRI-0078-1</td>\n",
       "      <td>LIDC-IDRI-0078</td>\n",
       "      <td>3.0</td>\n",
       "      <td>4</td>\n",
       "      <td>1</td>\n",
       "      <td>2.25</td>\n",
       "      <td>4</td>\n",
       "      <td>1</td>\n",
       "      <td>6</td>\n",
       "      <td>...</td>\n",
       "      <td>4</td>\n",
       "      <td>5</td>\n",
       "      <td>3</td>\n",
       "      <td>3.75</td>\n",
       "      <td>5</td>\n",
       "      <td>1</td>\n",
       "      <td>1</td>\n",
       "      <td>4.0</td>\n",
       "      <td>4.50</td>\n",
       "      <td>5.0</td>\n",
       "    </tr>\n",
       "    <tr>\n",
       "      <th>1</th>\n",
       "      <td>2</td>\n",
       "      <td>LIDC-IDRI-0078-2</td>\n",
       "      <td>LIDC-IDRI-0078</td>\n",
       "      <td>3.0</td>\n",
       "      <td>4</td>\n",
       "      <td>1</td>\n",
       "      <td>2.25</td>\n",
       "      <td>4</td>\n",
       "      <td>1</td>\n",
       "      <td>6</td>\n",
       "      <td>...</td>\n",
       "      <td>4</td>\n",
       "      <td>4</td>\n",
       "      <td>3</td>\n",
       "      <td>3.75</td>\n",
       "      <td>5</td>\n",
       "      <td>1</td>\n",
       "      <td>1</td>\n",
       "      <td>4.0</td>\n",
       "      <td>4.75</td>\n",
       "      <td>5.0</td>\n",
       "    </tr>\n",
       "    <tr>\n",
       "      <th>2</th>\n",
       "      <td>3</td>\n",
       "      <td>LIDC-IDRI-0078-3</td>\n",
       "      <td>LIDC-IDRI-0078</td>\n",
       "      <td>3.0</td>\n",
       "      <td>4</td>\n",
       "      <td>1</td>\n",
       "      <td>1.00</td>\n",
       "      <td>1</td>\n",
       "      <td>1</td>\n",
       "      <td>5</td>\n",
       "      <td>...</td>\n",
       "      <td>1</td>\n",
       "      <td>5</td>\n",
       "      <td>1</td>\n",
       "      <td>1.00</td>\n",
       "      <td>1</td>\n",
       "      <td>0</td>\n",
       "      <td>0</td>\n",
       "      <td>4.0</td>\n",
       "      <td>4.00</td>\n",
       "      <td>4.0</td>\n",
       "    </tr>\n",
       "    <tr>\n",
       "      <th>3</th>\n",
       "      <td>4</td>\n",
       "      <td>LIDC-IDRI-0078-4</td>\n",
       "      <td>LIDC-IDRI-0078</td>\n",
       "      <td>3.0</td>\n",
       "      <td>4</td>\n",
       "      <td>1</td>\n",
       "      <td>2.75</td>\n",
       "      <td>4</td>\n",
       "      <td>1</td>\n",
       "      <td>4</td>\n",
       "      <td>...</td>\n",
       "      <td>4</td>\n",
       "      <td>5</td>\n",
       "      <td>3</td>\n",
       "      <td>4.25</td>\n",
       "      <td>5</td>\n",
       "      <td>1</td>\n",
       "      <td>2</td>\n",
       "      <td>5.0</td>\n",
       "      <td>5.00</td>\n",
       "      <td>5.0</td>\n",
       "    </tr>\n",
       "    <tr>\n",
       "      <th>4</th>\n",
       "      <td>5</td>\n",
       "      <td>LIDC-IDRI-0069-1</td>\n",
       "      <td>LIDC-IDRI-0069</td>\n",
       "      <td>2.0</td>\n",
       "      <td>3</td>\n",
       "      <td>1</td>\n",
       "      <td>4.00</td>\n",
       "      <td>5</td>\n",
       "      <td>1</td>\n",
       "      <td>6</td>\n",
       "      <td>...</td>\n",
       "      <td>5</td>\n",
       "      <td>5</td>\n",
       "      <td>2</td>\n",
       "      <td>3.25</td>\n",
       "      <td>5</td>\n",
       "      <td>0</td>\n",
       "      <td>1</td>\n",
       "      <td>2.0</td>\n",
       "      <td>2.50</td>\n",
       "      <td>3.0</td>\n",
       "    </tr>\n",
       "  </tbody>\n",
       "</table>\n",
       "<p>5 rows × 26 columns</p>\n",
       "</div>"
      ],
      "text/plain": [
       "   Unnamed: 0            Nod_id      Patient_id  slice thickness  N nods  \\\n",
       "0           1  LIDC-IDRI-0078-1  LIDC-IDRI-0078              3.0       4   \n",
       "1           2  LIDC-IDRI-0078-2  LIDC-IDRI-0078              3.0       4   \n",
       "2           3  LIDC-IDRI-0078-3  LIDC-IDRI-0078              3.0       4   \n",
       "3           4  LIDC-IDRI-0078-4  LIDC-IDRI-0078              3.0       4   \n",
       "4           5  LIDC-IDRI-0069-1  LIDC-IDRI-0069              2.0       3   \n",
       "\n",
       "   Spiculation_Min  Spiculation_Med  Spiculation_Max  Internal_Structure  \\\n",
       "0                1             2.25                4                   1   \n",
       "1                1             2.25                4                   1   \n",
       "2                1             1.00                1                   1   \n",
       "3                1             2.75                4                   1   \n",
       "4                1             4.00                5                   1   \n",
       "\n",
       "   Calcification  ...  Lobulation_max  Texture  Malignancy_min  \\\n",
       "0              6  ...               4        5               3   \n",
       "1              6  ...               4        4               3   \n",
       "2              5  ...               1        5               1   \n",
       "3              4  ...               4        5               3   \n",
       "4              6  ...               5        5               2   \n",
       "\n",
       "   Malignancy_mean  Malignancy_max  Malignancy_n4  Malignancy_n5  \\\n",
       "0             3.75               5              1              1   \n",
       "1             3.75               5              1              1   \n",
       "2             1.00               1              0              0   \n",
       "3             4.25               5              1              2   \n",
       "4             3.25               5              0              1   \n",
       "\n",
       "   Subtlety_Min  Subtlety_Med  Subtlety_Max  \n",
       "0           4.0          4.50           5.0  \n",
       "1           4.0          4.75           5.0  \n",
       "2           4.0          4.00           4.0  \n",
       "3           5.0          5.00           5.0  \n",
       "4           2.0          2.50           3.0  \n",
       "\n",
       "[5 rows x 26 columns]"
      ]
     },
     "execution_count": 4,
     "metadata": {},
     "output_type": "execute_result"
    }
   ],
   "source": [
    "df.head(5)"
   ]
  },
  {
   "cell_type": "code",
   "execution_count": 5,
   "id": "313ffe35",
   "metadata": {},
   "outputs": [
    {
     "name": "stdout",
     "output_type": "stream",
     "text": [
      "Number of nods  Relative frequency\n",
      "        1           0.11\n",
      "        2           0.16\n",
      "        3           0.14\n",
      "        4           0.11\n",
      "        5           0.09\n",
      "        6           0.09\n",
      "        7           0.06\n",
      "        8           0.07\n",
      "        9           0.03\n",
      "   Total:           0.87\n"
     ]
    }
   ],
   "source": [
    "#The number of nods for each patient is distrubuted according to the following frequency table \n",
    "sum=0\n",
    "print(\"Number of nods \", \"Relative frequency\")\n",
    "for j in range(1,10):\n",
    "    sum+=df['N nods'].value_counts()[j]/len(df)\n",
    "    print(\"       \",j, \"         \" ,(df['N nods'].value_counts()[j]/len(df)).round(2))\n",
    "print(\"   Total:          \",sum.round(2))"
   ]
  },
  {
   "cell_type": "code",
   "execution_count": 6,
   "id": "b686908f",
   "metadata": {},
   "outputs": [
    {
     "name": "stdout",
     "output_type": "stream",
     "text": [
      "Number of patients\n",
      "875\n"
     ]
    }
   ],
   "source": [
    "print('Number of patients')\n",
    "print(df[\"Patient_id\"].nunique())"
   ]
  },
  {
   "cell_type": "code",
   "execution_count": 7,
   "id": "08b05666",
   "metadata": {},
   "outputs": [],
   "source": [
    "#To better understand the way to classify a nod to be malignant or not we present the related variables "
   ]
  },
  {
   "cell_type": "code",
   "execution_count": 8,
   "id": "6c0d039b",
   "metadata": {},
   "outputs": [
    {
     "name": "stdout",
     "output_type": "stream",
     "text": [
      "AxesSubplot(0.125,0.125;0.775x0.755)\n"
     ]
    },
    {
     "data": {
      "image/png": "[encoded data removed]",
      "text/plain": [
       "<Figure size 432x288 with 1 Axes>"
      ]
     },
     "metadata": {
      "needs_background": "light"
     },
     "output_type": "display_data"
    }
   ],
   "source": [
    "print(sns.countplot(x='Malignancy_min',data=df))"
   ]
  },
  {
   "cell_type": "code",
   "execution_count": 9,
   "id": "8c37ec2c",
   "metadata": {},
   "outputs": [
    {
     "name": "stdout",
     "output_type": "stream",
     "text": [
      "AxesSubplot(0.125,0.125;0.775x0.755)\n"
     ]
    },
    {
     "data": {
      "image/png": "[encoded data removed]",
      "text/plain": [
       "<Figure size 432x288 with 1 Axes>"
      ]
     },
     "metadata": {
      "needs_background": "light"
     },
     "output_type": "display_data"
    }
   ],
   "source": [
    "print(sns.histplot(x='Malignancy_mean',data=df,bins=[0,0.5,1.5,2.5,3.5,4.5,5.5]))"
   ]
  },
  {
   "cell_type": "code",
   "execution_count": 10,
   "id": "39722177",
   "metadata": {},
   "outputs": [
    {
     "name": "stdout",
     "output_type": "stream",
     "text": [
      "AxesSubplot(0.125,0.125;0.775x0.755)\n"
     ]
    },
    {
     "data": {
      "image/png": "[encoded data removed]",
      "text/plain": [
       "<Figure size 432x288 with 1 Axes>"
      ]
     },
     "metadata": {
      "needs_background": "light"
     },
     "output_type": "display_data"
    }
   ],
   "source": [
    "print(sns.countplot(x='Malignancy_max',data=df))"
   ]
  },
  {
   "cell_type": "code",
   "execution_count": 11,
   "id": "49e830a6",
   "metadata": {},
   "outputs": [
    {
     "name": "stdout",
     "output_type": "stream",
     "text": [
      "AxesSubplot(0.125,0.125;0.775x0.755)\n"
     ]
    },
    {
     "data": {
      "image/png": "[encoded data removed]",
      "text/plain": [
       "<Figure size 432x288 with 1 Axes>"
      ]
     },
     "metadata": {
      "needs_background": "light"
     },
     "output_type": "display_data"
    }
   ],
   "source": [
    "print(sns.countplot(x='Malignancy_n4',data=df))"
   ]
  },
  {
   "cell_type": "code",
   "execution_count": 12,
   "id": "b9471528",
   "metadata": {},
   "outputs": [
    {
     "name": "stdout",
     "output_type": "stream",
     "text": [
      "AxesSubplot(0.125,0.125;0.775x0.755)\n"
     ]
    },
    {
     "data": {
      "image/png": "[encoded data removed]",
      "text/plain": [
       "<Figure size 432x288 with 1 Axes>"
      ]
     },
     "metadata": {
      "needs_background": "light"
     },
     "output_type": "display_data"
    }
   ],
   "source": [
    "print(sns.countplot(x='Malignancy_n5',data=df))"
   ]
  },
  {
   "cell_type": "code",
   "execution_count": 13,
   "id": "0562ba7a",
   "metadata": {},
   "outputs": [],
   "source": [
    "#Noticing that the distribution of the mean value and the max value is similar we explored it a litle further \n",
    "df['dif']=df['Malignancy_max']-df['Malignancy_mean']"
   ]
  },
  {
   "cell_type": "code",
   "execution_count": 14,
   "id": "0182b905",
   "metadata": {},
   "outputs": [
    {
     "name": "stdout",
     "output_type": "stream",
     "text": [
      "AxesSubplot(0.125,0.125;0.775x0.755)\n"
     ]
    },
    {
     "data": {
      "image/png": "[encoded data removed]",
      "text/plain": [
       "<Figure size 432x288 with 1 Axes>"
      ]
     },
     "metadata": {
      "needs_background": "light"
     },
     "output_type": "display_data"
    }
   ],
   "source": [
    "print(sns.histplot(x='dif',data=df))"
   ]
  },
  {
   "cell_type": "code",
   "execution_count": 15,
   "id": "91548fd5",
   "metadata": {},
   "outputs": [],
   "source": [
    "# Despite the similarities between the mean and the max value we decided to create a joint criterion for the \n",
    "# malignancy classification. Therefore a node is considered malignant if there is at least one classification of 5 or\n",
    "# if the mean value over the classifications is at least 3.5\n",
    "\n",
    "df[\"Malignancy\"]=np.where((df['Malignancy_mean']>= 3.5)|(df['Malignancy_max']==5), True, False)"
   ]
  },
  {
   "cell_type": "code",
   "execution_count": 16,
   "id": "fc79fa70",
   "metadata": {},
   "outputs": [
    {
     "data": {
      "text/html": [
       "<div>\n",
       "<style scoped>\n",
       "    .dataframe tbody tr th:only-of-type {\n",
       "        vertical-align: middle;\n",
       "    }\n",
       "\n",
       "    .dataframe tbody tr th {\n",
       "        vertical-align: top;\n",
       "    }\n",
       "\n",
       "    .dataframe thead th {\n",
       "        text-align: right;\n",
       "    }\n",
       "</style>\n",
       "<table border=\"1\" class=\"dataframe\">\n",
       "  <thead>\n",
       "    <tr style=\"text-align: right;\">\n",
       "      <th></th>\n",
       "      <th>Malignancy_mean</th>\n",
       "      <th>Malignancy</th>\n",
       "      <th>Malignancy_max</th>\n",
       "    </tr>\n",
       "  </thead>\n",
       "  <tbody>\n",
       "    <tr>\n",
       "      <th>0</th>\n",
       "      <td>3.75</td>\n",
       "      <td>True</td>\n",
       "      <td>5</td>\n",
       "    </tr>\n",
       "    <tr>\n",
       "      <th>1</th>\n",
       "      <td>3.75</td>\n",
       "      <td>True</td>\n",
       "      <td>5</td>\n",
       "    </tr>\n",
       "    <tr>\n",
       "      <th>2</th>\n",
       "      <td>1.00</td>\n",
       "      <td>False</td>\n",
       "      <td>1</td>\n",
       "    </tr>\n",
       "    <tr>\n",
       "      <th>3</th>\n",
       "      <td>4.25</td>\n",
       "      <td>True</td>\n",
       "      <td>5</td>\n",
       "    </tr>\n",
       "    <tr>\n",
       "      <th>4</th>\n",
       "      <td>3.25</td>\n",
       "      <td>True</td>\n",
       "      <td>5</td>\n",
       "    </tr>\n",
       "  </tbody>\n",
       "</table>\n",
       "</div>"
      ],
      "text/plain": [
       "   Malignancy_mean  Malignancy  Malignancy_max\n",
       "0             3.75        True               5\n",
       "1             3.75        True               5\n",
       "2             1.00       False               1\n",
       "3             4.25        True               5\n",
       "4             3.25        True               5"
      ]
     },
     "execution_count": 16,
     "metadata": {},
     "output_type": "execute_result"
    }
   ],
   "source": [
    "df[{'Malignancy_mean','Malignancy_max','Malignancy'}].head(5)"
   ]
  },
  {
   "cell_type": "code",
   "execution_count": 17,
   "id": "13010172",
   "metadata": {},
   "outputs": [],
   "source": [
    "# Identify the features used to predict the classification of the malignancy of the node\n",
    "# X - vector of valiables used to predict\n",
    "# y - target variable\n",
    "\n",
    "X=df[['N nods','Spiculation_Min', 'Spiculation_Med', 'Spiculation_Max',\n",
    "       'Internal_Structure', 'Calcification', 'Sphericity', 'Margin_min',\n",
    "       'Margin_mean', 'Margin_max', 'Lobulation_min', 'Lobulation_mean',\n",
    "       'Lobulation_max', 'Texture']]\n",
    "y=df['Malignancy']"
   ]
  },
  {
   "cell_type": "code",
   "execution_count": 18,
   "id": "0a1ed2cc",
   "metadata": {},
   "outputs": [],
   "source": [
    "# Devide the dataset in train (80%) and test (20%) subsets\n",
    "# Define a random state do fix this division\n",
    "\n",
    "X_train, X_test, y_train, y_test=train_test_split(X,y,test_size=0.2,random_state=1)"
   ]
  },
  {
   "cell_type": "code",
   "execution_count": 19,
   "id": "d241bd4e",
   "metadata": {},
   "outputs": [],
   "source": [
    "# Construction of a decision tree classifier with the stop criterion of \n",
    "# at least 0.001 of minimum impurity decrease to avoind overfitting\n",
    "\n",
    "dt = tree.DecisionTreeClassifier(min_impurity_decrease=0.001)\n",
    "dt = dt.fit(X_train, y_train)\n",
    "df['Prediction_dt']=dt.predict(X)"
   ]
  },
  {
   "cell_type": "code",
   "execution_count": 20,
   "id": "a86a7ba4",
   "metadata": {},
   "outputs": [
    {
     "data": {
      "image/svg+xml": [
       "<?xml version=\"1.0\" encoding=\"UTF-8\" standalone=\"no\"?>\n",
       "<!DOCTYPE svg PUBLIC \"-//W3C//DTD SVG 1.1//EN\"\n",
       " \"http://www.w3.org/Graphics/SVG/1.1/DTD/svg11.dtd\">\n",
       "<!-- Generated by graphviz version 2.43.0 (0)\n",
       " -->\n",
       "<!-- Title: Tree Pages: 1 -->\n",
       "<svg width=\"838pt\" height=\"311pt\"\n",
       " viewBox=\"0.00 0.00 838.00 311.00\" xmlns=\"http://www.w3.org/2000/svg\" xmlns:xlink=\"http://www.w3.org/1999/xlink\">\n",
       "<g id=\"graph0\" class=\"graph\" transform=\"scale(1 1) rotate(0) translate(4 307)\">\n",
       "<title>Tree</title>\n",
       "<polygon fill=\"white\" stroke=\"transparent\" points=\"-4,4 -4,-307 834,-307 834,4 -4,4\"/>\n",
       "<!-- 0 -->\n",
       "<g id=\"node1\" class=\"node\">\n",
       "<title>0</title>\n",
       "<polygon fill=\"#eca16c\" stroke=\"black\" points=\"541,-303 333,-303 333,-250 541,-250 541,-303\"/>\n",
       "<text text-anchor=\"middle\" x=\"437\" y=\"-287.8\" font-family=\"Helvetica,sans-Serif\" font-size=\"14.00\">Lobulation_mean &lt;= 2.225</text>\n",
       "<text text-anchor=\"middle\" x=\"437\" y=\"-272.8\" font-family=\"Helvetica,sans-Serif\" font-size=\"14.00\">samples = 100.0%</text>\n",
       "<text text-anchor=\"middle\" x=\"437\" y=\"-257.8\" font-family=\"Helvetica,sans-Serif\" font-size=\"14.00\">value = [0.797, 0.203]</text>\n",
       "</g>\n",
       "<!-- 1 -->\n",
       "<g id=\"node2\" class=\"node\">\n",
       "<title>1</title>\n",
       "<polygon fill=\"#e99355\" stroke=\"black\" points=\"427,-214 233,-214 233,-161 427,-161 427,-214\"/>\n",
       "<text text-anchor=\"middle\" x=\"330\" y=\"-198.8\" font-family=\"Helvetica,sans-Serif\" font-size=\"14.00\">Spiculation_Med &lt;= 1.45</text>\n",
       "<text text-anchor=\"middle\" x=\"330\" y=\"-183.8\" font-family=\"Helvetica,sans-Serif\" font-size=\"14.00\">samples = 81.2%</text>\n",
       "<text text-anchor=\"middle\" x=\"330\" y=\"-168.8\" font-family=\"Helvetica,sans-Serif\" font-size=\"14.00\">value = [0.876, 0.124]</text>\n",
       "</g>\n",
       "<!-- 0&#45;&gt;1 -->\n",
       "<g id=\"edge1\" class=\"edge\">\n",
       "<title>0&#45;&gt;1</title>\n",
       "<path fill=\"none\" stroke=\"black\" d=\"M405.48,-249.87C394.26,-240.75 381.48,-230.35 369.66,-220.75\"/>\n",
       "<polygon fill=\"black\" stroke=\"black\" points=\"371.64,-217.84 361.67,-214.25 367.22,-223.27 371.64,-217.84\"/>\n",
       "<text text-anchor=\"middle\" x=\"364.23\" y=\"-235.42\" font-family=\"Helvetica,sans-Serif\" font-size=\"14.00\">True</text>\n",
       "</g>\n",
       "<!-- 26 -->\n",
       "<g id=\"node9\" class=\"node\">\n",
       "<title>26</title>\n",
       "<polygon fill=\"#dfeffb\" stroke=\"black\" points=\"632.5,-214 455.5,-214 455.5,-161 632.5,-161 632.5,-214\"/>\n",
       "<text text-anchor=\"middle\" x=\"544\" y=\"-198.8\" font-family=\"Helvetica,sans-Serif\" font-size=\"14.00\">Lobulation_min &lt;= 2.5</text>\n",
       "<text text-anchor=\"middle\" x=\"544\" y=\"-183.8\" font-family=\"Helvetica,sans-Serif\" font-size=\"14.00\">samples = 18.8%</text>\n",
       "<text text-anchor=\"middle\" x=\"544\" y=\"-168.8\" font-family=\"Helvetica,sans-Serif\" font-size=\"14.00\">value = [0.456, 0.544]</text>\n",
       "</g>\n",
       "<!-- 0&#45;&gt;26 -->\n",
       "<g id=\"edge8\" class=\"edge\">\n",
       "<title>0&#45;&gt;26</title>\n",
       "<path fill=\"none\" stroke=\"black\" d=\"M468.52,-249.87C479.74,-240.75 492.52,-230.35 504.34,-220.75\"/>\n",
       "<polygon fill=\"black\" stroke=\"black\" points=\"506.78,-223.27 512.33,-214.25 502.36,-217.84 506.78,-223.27\"/>\n",
       "<text text-anchor=\"middle\" x=\"509.77\" y=\"-235.42\" font-family=\"Helvetica,sans-Serif\" font-size=\"14.00\">False</text>\n",
       "</g>\n",
       "<!-- 2 -->\n",
       "<g id=\"node3\" class=\"node\">\n",
       "<title>2</title>\n",
       "<polygon fill=\"#e78c4a\" stroke=\"black\" points=\"208,-125 0,-125 0,-72 208,-72 208,-125\"/>\n",
       "<text text-anchor=\"middle\" x=\"104\" y=\"-109.8\" font-family=\"Helvetica,sans-Serif\" font-size=\"14.00\">Lobulation_mean &lt;= 1.125</text>\n",
       "<text text-anchor=\"middle\" x=\"104\" y=\"-94.8\" font-family=\"Helvetica,sans-Serif\" font-size=\"14.00\">samples = 60.2%</text>\n",
       "<text text-anchor=\"middle\" x=\"104\" y=\"-79.8\" font-family=\"Helvetica,sans-Serif\" font-size=\"14.00\">value = [0.922, 0.078]</text>\n",
       "</g>\n",
       "<!-- 1&#45;&gt;2 -->\n",
       "<g id=\"edge2\" class=\"edge\">\n",
       "<title>1&#45;&gt;2</title>\n",
       "<path fill=\"none\" stroke=\"black\" d=\"M263.72,-160.98C237.39,-150.85 206.95,-139.13 179.75,-128.66\"/>\n",
       "<polygon fill=\"black\" stroke=\"black\" points=\"180.87,-125.34 170.28,-125.01 178.35,-131.87 180.87,-125.34\"/>\n",
       "</g>\n",
       "<!-- 9 -->\n",
       "<g id=\"node6\" class=\"node\">\n",
       "<title>9</title>\n",
       "<polygon fill=\"#eead7e\" stroke=\"black\" points=\"434,-125 226,-125 226,-72 434,-72 434,-125\"/>\n",
       "<text text-anchor=\"middle\" x=\"330\" y=\"-109.8\" font-family=\"Helvetica,sans-Serif\" font-size=\"14.00\">Lobulation_mean &lt;= 1.708</text>\n",
       "<text text-anchor=\"middle\" x=\"330\" y=\"-94.8\" font-family=\"Helvetica,sans-Serif\" font-size=\"14.00\">samples = 21.0%</text>\n",
       "<text text-anchor=\"middle\" x=\"330\" y=\"-79.8\" font-family=\"Helvetica,sans-Serif\" font-size=\"14.00\">value = [0.742, 0.258]</text>\n",
       "</g>\n",
       "<!-- 1&#45;&gt;9 -->\n",
       "<g id=\"edge5\" class=\"edge\">\n",
       "<title>1&#45;&gt;9</title>\n",
       "<path fill=\"none\" stroke=\"black\" d=\"M330,-160.87C330,-152.89 330,-143.93 330,-135.38\"/>\n",
       "<polygon fill=\"black\" stroke=\"black\" points=\"333.5,-135.25 330,-125.25 326.5,-135.25 333.5,-135.25\"/>\n",
       "</g>\n",
       "<!-- 3 -->\n",
       "<g id=\"node4\" class=\"node\">\n",
       "<title>3</title>\n",
       "<polygon fill=\"#c0c0c0\" stroke=\"black\" points=\"95,-36 41,-36 41,0 95,0 95,-36\"/>\n",
       "<text text-anchor=\"middle\" x=\"68\" y=\"-14.3\" font-family=\"Helvetica,sans-Serif\" font-size=\"14.00\">(...)</text>\n",
       "</g>\n",
       "<!-- 2&#45;&gt;3 -->\n",
       "<g id=\"edge3\" class=\"edge\">\n",
       "<title>2&#45;&gt;3</title>\n",
       "<path fill=\"none\" stroke=\"black\" d=\"M92.21,-71.8C88.34,-63.35 84.03,-53.95 80.13,-45.45\"/>\n",
       "<polygon fill=\"black\" stroke=\"black\" points=\"83.3,-43.96 75.95,-36.33 76.93,-46.88 83.3,-43.96\"/>\n",
       "</g>\n",
       "<!-- 4 -->\n",
       "<g id=\"node5\" class=\"node\">\n",
       "<title>4</title>\n",
       "<polygon fill=\"#c0c0c0\" stroke=\"black\" points=\"167,-36 113,-36 113,0 167,0 167,-36\"/>\n",
       "<text text-anchor=\"middle\" x=\"140\" y=\"-14.3\" font-family=\"Helvetica,sans-Serif\" font-size=\"14.00\">(...)</text>\n",
       "</g>\n",
       "<!-- 2&#45;&gt;4 -->\n",
       "<g id=\"edge4\" class=\"edge\">\n",
       "<title>2&#45;&gt;4</title>\n",
       "<path fill=\"none\" stroke=\"black\" d=\"M115.79,-71.8C119.66,-63.35 123.97,-53.95 127.87,-45.45\"/>\n",
       "<polygon fill=\"black\" stroke=\"black\" points=\"131.07,-46.88 132.05,-36.33 124.7,-43.96 131.07,-46.88\"/>\n",
       "</g>\n",
       "<!-- 10 -->\n",
       "<g id=\"node7\" class=\"node\">\n",
       "<title>10</title>\n",
       "<polygon fill=\"#c0c0c0\" stroke=\"black\" points=\"320,-36 266,-36 266,0 320,0 320,-36\"/>\n",
       "<text text-anchor=\"middle\" x=\"293\" y=\"-14.3\" font-family=\"Helvetica,sans-Serif\" font-size=\"14.00\">(...)</text>\n",
       "</g>\n",
       "<!-- 9&#45;&gt;10 -->\n",
       "<g id=\"edge6\" class=\"edge\">\n",
       "<title>9&#45;&gt;10</title>\n",
       "<path fill=\"none\" stroke=\"black\" d=\"M317.88,-71.8C313.9,-63.35 309.47,-53.95 305.47,-45.45\"/>\n",
       "<polygon fill=\"black\" stroke=\"black\" points=\"308.6,-43.88 301.17,-36.33 302.27,-46.87 308.6,-43.88\"/>\n",
       "</g>\n",
       "<!-- 13 -->\n",
       "<g id=\"node8\" class=\"node\">\n",
       "<title>13</title>\n",
       "<polygon fill=\"#c0c0c0\" stroke=\"black\" points=\"392,-36 338,-36 338,0 392,0 392,-36\"/>\n",
       "<text text-anchor=\"middle\" x=\"365\" y=\"-14.3\" font-family=\"Helvetica,sans-Serif\" font-size=\"14.00\">(...)</text>\n",
       "</g>\n",
       "<!-- 9&#45;&gt;13 -->\n",
       "<g id=\"edge7\" class=\"edge\">\n",
       "<title>9&#45;&gt;13</title>\n",
       "<path fill=\"none\" stroke=\"black\" d=\"M341.46,-71.8C345.19,-63.44 349.33,-54.15 353.09,-45.72\"/>\n",
       "<polygon fill=\"black\" stroke=\"black\" points=\"356.4,-46.89 357.27,-36.33 350,-44.04 356.4,-46.89\"/>\n",
       "</g>\n",
       "<!-- 27 -->\n",
       "<g id=\"node10\" class=\"node\">\n",
       "<title>27</title>\n",
       "<polygon fill=\"#9fd0f2\" stroke=\"black\" points=\"636,-125 452,-125 452,-72 636,-72 636,-125\"/>\n",
       "<text text-anchor=\"middle\" x=\"544\" y=\"-109.8\" font-family=\"Helvetica,sans-Serif\" font-size=\"14.00\">Spiculation_Max &lt;= 3.5</text>\n",
       "<text text-anchor=\"middle\" x=\"544\" y=\"-94.8\" font-family=\"Helvetica,sans-Serif\" font-size=\"14.00\">samples = 13.0%</text>\n",
       "<text text-anchor=\"middle\" x=\"544\" y=\"-79.8\" font-family=\"Helvetica,sans-Serif\" font-size=\"14.00\">value = [0.341, 0.659]</text>\n",
       "</g>\n",
       "<!-- 26&#45;&gt;27 -->\n",
       "<g id=\"edge9\" class=\"edge\">\n",
       "<title>26&#45;&gt;27</title>\n",
       "<path fill=\"none\" stroke=\"black\" d=\"M544,-160.87C544,-152.89 544,-143.93 544,-135.38\"/>\n",
       "<polygon fill=\"black\" stroke=\"black\" points=\"547.5,-135.25 544,-125.25 540.5,-135.25 547.5,-135.25\"/>\n",
       "</g>\n",
       "<!-- 34 -->\n",
       "<g id=\"node13\" class=\"node\">\n",
       "<title>34</title>\n",
       "<polygon fill=\"#efb388\" stroke=\"black\" points=\"830,-125 654,-125 654,-72 830,-72 830,-125\"/>\n",
       "<text text-anchor=\"middle\" x=\"742\" y=\"-109.8\" font-family=\"Helvetica,sans-Serif\" font-size=\"14.00\">Texture &lt;= 2.5</text>\n",
       "<text text-anchor=\"middle\" x=\"742\" y=\"-94.8\" font-family=\"Helvetica,sans-Serif\" font-size=\"14.00\">samples = 5.8%</text>\n",
       "<text text-anchor=\"middle\" x=\"742\" y=\"-79.8\" font-family=\"Helvetica,sans-Serif\" font-size=\"14.00\">value = [0.715, 0.285]</text>\n",
       "</g>\n",
       "<!-- 26&#45;&gt;34 -->\n",
       "<g id=\"edge12\" class=\"edge\">\n",
       "<title>26&#45;&gt;34</title>\n",
       "<path fill=\"none\" stroke=\"black\" d=\"M602.07,-160.98C624.84,-150.98 651.11,-139.44 674.7,-129.07\"/>\n",
       "<polygon fill=\"black\" stroke=\"black\" points=\"676.19,-132.24 683.93,-125.01 673.37,-125.83 676.19,-132.24\"/>\n",
       "</g>\n",
       "<!-- 28 -->\n",
       "<g id=\"node11\" class=\"node\">\n",
       "<title>28</title>\n",
       "<polygon fill=\"#c0c0c0\" stroke=\"black\" points=\"535,-36 481,-36 481,0 535,0 535,-36\"/>\n",
       "<text text-anchor=\"middle\" x=\"508\" y=\"-14.3\" font-family=\"Helvetica,sans-Serif\" font-size=\"14.00\">(...)</text>\n",
       "</g>\n",
       "<!-- 27&#45;&gt;28 -->\n",
       "<g id=\"edge10\" class=\"edge\">\n",
       "<title>27&#45;&gt;28</title>\n",
       "<path fill=\"none\" stroke=\"black\" d=\"M532.21,-71.8C528.34,-63.35 524.03,-53.95 520.13,-45.45\"/>\n",
       "<polygon fill=\"black\" stroke=\"black\" points=\"523.3,-43.96 515.95,-36.33 516.93,-46.88 523.3,-43.96\"/>\n",
       "</g>\n",
       "<!-- 31 -->\n",
       "<g id=\"node12\" class=\"node\">\n",
       "<title>31</title>\n",
       "<polygon fill=\"#c0c0c0\" stroke=\"black\" points=\"607,-36 553,-36 553,0 607,0 607,-36\"/>\n",
       "<text text-anchor=\"middle\" x=\"580\" y=\"-14.3\" font-family=\"Helvetica,sans-Serif\" font-size=\"14.00\">(...)</text>\n",
       "</g>\n",
       "<!-- 27&#45;&gt;31 -->\n",
       "<g id=\"edge11\" class=\"edge\">\n",
       "<title>27&#45;&gt;31</title>\n",
       "<path fill=\"none\" stroke=\"black\" d=\"M555.79,-71.8C559.66,-63.35 563.97,-53.95 567.87,-45.45\"/>\n",
       "<polygon fill=\"black\" stroke=\"black\" points=\"571.07,-46.88 572.05,-36.33 564.7,-43.96 571.07,-46.88\"/>\n",
       "</g>\n",
       "<!-- 35 -->\n",
       "<g id=\"node14\" class=\"node\">\n",
       "<title>35</title>\n",
       "<polygon fill=\"#c0c0c0\" stroke=\"black\" points=\"733,-36 679,-36 679,0 733,0 733,-36\"/>\n",
       "<text text-anchor=\"middle\" x=\"706\" y=\"-14.3\" font-family=\"Helvetica,sans-Serif\" font-size=\"14.00\">(...)</text>\n",
       "</g>\n",
       "<!-- 34&#45;&gt;35 -->\n",
       "<g id=\"edge13\" class=\"edge\">\n",
       "<title>34&#45;&gt;35</title>\n",
       "<path fill=\"none\" stroke=\"black\" d=\"M730.21,-71.8C726.34,-63.35 722.03,-53.95 718.13,-45.45\"/>\n",
       "<polygon fill=\"black\" stroke=\"black\" points=\"721.3,-43.96 713.95,-36.33 714.93,-46.88 721.3,-43.96\"/>\n",
       "</g>\n",
       "<!-- 36 -->\n",
       "<g id=\"node15\" class=\"node\">\n",
       "<title>36</title>\n",
       "<polygon fill=\"#c0c0c0\" stroke=\"black\" points=\"805,-36 751,-36 751,0 805,0 805,-36\"/>\n",
       "<text text-anchor=\"middle\" x=\"778\" y=\"-14.3\" font-family=\"Helvetica,sans-Serif\" font-size=\"14.00\">(...)</text>\n",
       "</g>\n",
       "<!-- 34&#45;&gt;36 -->\n",
       "<g id=\"edge14\" class=\"edge\">\n",
       "<title>34&#45;&gt;36</title>\n",
       "<path fill=\"none\" stroke=\"black\" d=\"M753.79,-71.8C757.66,-63.35 761.97,-53.95 765.87,-45.45\"/>\n",
       "<polygon fill=\"black\" stroke=\"black\" points=\"769.07,-46.88 770.05,-36.33 762.7,-43.96 769.07,-46.88\"/>\n",
       "</g>\n",
       "</g>\n",
       "</svg>\n"
      ],
      "text/plain": [
       "<graphviz.sources.Source at 0x7fdabcd97ca0>"
      ]
     },
     "metadata": {},
     "output_type": "display_data"
    }
   ],
   "source": [
    "# print of the more significant separations with percentage of the subset (train) and proportion for each separation\n",
    "\n",
    "dt_data = export_graphviz(dt,feature_names=X_train.columns,filled=True,max_depth=2,impurity=False,proportion=True)\n",
    "graph = graphviz.Source(dt_data)\n",
    "display(graph)"
   ]
  },
  {
   "cell_type": "code",
   "execution_count": 21,
   "id": "00ef03d0",
   "metadata": {},
   "outputs": [
    {
     "name": "stdout",
     "output_type": "stream",
     "text": [
      "Confusion Matrix:\n"
     ]
    },
    {
     "data": {
      "text/plain": [
       "array([[390,  18],\n",
       "       [ 78,  45]])"
      ]
     },
     "execution_count": 21,
     "metadata": {},
     "output_type": "execute_result"
    }
   ],
   "source": [
    "# test of the decision tree obtained using the test subset\n",
    "y_predict=dt.predict(X_test)\n",
    "\n",
    "print(\"Confusion Matrix:\")\n",
    "confusion_matrix(y_test, y_predict)"
   ]
  },
  {
   "cell_type": "code",
   "execution_count": 22,
   "id": "b274708e",
   "metadata": {},
   "outputs": [
    {
     "name": "stdout",
     "output_type": "stream",
     "text": [
      "Accuracy:\n"
     ]
    },
    {
     "data": {
      "text/plain": [
       "0.8192090395480226"
      ]
     },
     "execution_count": 22,
     "metadata": {},
     "output_type": "execute_result"
    }
   ],
   "source": [
    "print(\"Accuracy:\")\n",
    "accuracy_score(y_test, y_predict)"
   ]
  },
  {
   "cell_type": "code",
   "execution_count": 23,
   "id": "1ff69984",
   "metadata": {},
   "outputs": [],
   "source": [
    "# Random Forest construction with trees similar to the ones obtained previously\n",
    "# for different values of hyperparameter - number of features (max_features) \n",
    "\n",
    "rf = RandomForestClassifier(max_features=1,min_impurity_decrease=0.001)\n",
    "rf.fit(X_train, y_train)\n",
    "y_pred = rf.predict(X_test)\n",
    "accuracy = accuracy_score(y_test, y_pred)\n",
    "#print(\"Number of featrures: \", 1 ,\" Accuracy: \", accuracy)\n",
    "best=1\n",
    "best_ac=accuracy\n",
    "x_rf=[1]\n",
    "y_rf=[accuracy]\n",
    "    \n",
    "for i in range(2,10):\n",
    "    rf = RandomForestClassifier(max_features=i,min_impurity_decrease=0.001,n_estimators=100)\n",
    "    rf.fit(X_train, y_train)\n",
    "    y_pred = rf.predict(X_test)\n",
    "    accuracy = accuracy_score(y_test, y_pred)\n",
    "    #print(\"Number of featrures: \", i ,\" Accuracy: \", accuracy)\n",
    "    x_rf.append(i)\n",
    "    y_rf.append(accuracy)\n",
    "    if(accuracy>best_ac):\n",
    "        best=i\n",
    "        best_ac=accuracy\n",
    "\n",
    "#print(\"Number of featrures: \", best ,\" Accuracy: \", best_ac)"
   ]
  },
  {
   "cell_type": "code",
   "execution_count": 24,
   "id": "aa88fc8f",
   "metadata": {},
   "outputs": [
    {
     "name": "stdout",
     "output_type": "stream",
     "text": [
      "Best number of features:  7  with accuracy= 0.8531073446327684\n"
     ]
    },
    {
     "data": {
      "image/png": "[encoded data removed]",
      "text/plain": [
       "<Figure size 432x288 with 1 Axes>"
      ]
     },
     "metadata": {
      "needs_background": "light"
     },
     "output_type": "display_data"
    }
   ],
   "source": [
    "# Evaluate the hyperparameter and identify the best value for the accuracy\n",
    "\n",
    "s = pd.Series(y_rf,x_rf)\n",
    "plt.title('Accuracy for different number of features')\n",
    "plt.xlabel('Number of features')\n",
    "plt.ylabel('Accuracy')\n",
    "\n",
    "s.plot.line()  \n",
    "print(\"Best number of features: \", best ,\" with accuracy=\", best_ac)"
   ]
  },
  {
   "cell_type": "code",
   "execution_count": 25,
   "id": "7b46ad20",
   "metadata": {},
   "outputs": [
    {
     "data": {
      "image/svg+xml": [
       "<?xml version=\"1.0\" encoding=\"UTF-8\" standalone=\"no\"?>\n",
       "<!DOCTYPE svg PUBLIC \"-//W3C//DTD SVG 1.1//EN\"\n",
       " \"http://www.w3.org/Graphics/SVG/1.1/DTD/svg11.dtd\">\n",
       "<!-- Generated by graphviz version 2.43.0 (0)\n",
       " -->\n",
       "<!-- Title: Tree Pages: 1 -->\n",
       "<svg width=\"802pt\" height=\"311pt\"\n",
       " viewBox=\"0.00 0.00 802.00 311.00\" xmlns=\"http://www.w3.org/2000/svg\" xmlns:xlink=\"http://www.w3.org/1999/xlink\">\n",
       "<g id=\"graph0\" class=\"graph\" transform=\"scale(1 1) rotate(0) translate(4 307)\">\n",
       "<title>Tree</title>\n",
       "<polygon fill=\"white\" stroke=\"transparent\" points=\"-4,4 -4,-307 798,-307 798,4 -4,4\"/>\n",
       "<!-- 0 -->\n",
       "<g id=\"node1\" class=\"node\">\n",
       "<title>0</title>\n",
       "<polygon fill=\"#eba06a\" stroke=\"black\" points=\"499,-303 315,-303 315,-250 499,-250 499,-303\"/>\n",
       "<text text-anchor=\"middle\" x=\"407\" y=\"-287.8\" font-family=\"Helvetica,sans-Serif\" font-size=\"14.00\">Spiculation_Max &lt;= 2.5</text>\n",
       "<text text-anchor=\"middle\" x=\"407\" y=\"-272.8\" font-family=\"Helvetica,sans-Serif\" font-size=\"14.00\">samples = 100.0%</text>\n",
       "<text text-anchor=\"middle\" x=\"407\" y=\"-257.8\" font-family=\"Helvetica,sans-Serif\" font-size=\"14.00\">value = [0.803, 0.197]</text>\n",
       "</g>\n",
       "<!-- 1 -->\n",
       "<g id=\"node2\" class=\"node\">\n",
       "<title>1</title>\n",
       "<polygon fill=\"#e89151\" stroke=\"black\" points=\"398,-214 190,-214 190,-161 398,-161 398,-214\"/>\n",
       "<text text-anchor=\"middle\" x=\"294\" y=\"-198.8\" font-family=\"Helvetica,sans-Serif\" font-size=\"14.00\">Lobulation_mean &lt;= 1.125</text>\n",
       "<text text-anchor=\"middle\" x=\"294\" y=\"-183.8\" font-family=\"Helvetica,sans-Serif\" font-size=\"14.00\">samples = 77.1%</text>\n",
       "<text text-anchor=\"middle\" x=\"294\" y=\"-168.8\" font-family=\"Helvetica,sans-Serif\" font-size=\"14.00\">value = [0.89, 0.11]</text>\n",
       "</g>\n",
       "<!-- 0&#45;&gt;1 -->\n",
       "<g id=\"edge1\" class=\"edge\">\n",
       "<title>0&#45;&gt;1</title>\n",
       "<path fill=\"none\" stroke=\"black\" d=\"M373.71,-249.87C361.74,-240.66 348.1,-230.15 335.53,-220.47\"/>\n",
       "<polygon fill=\"black\" stroke=\"black\" points=\"337.5,-217.58 327.45,-214.25 333.23,-223.12 337.5,-217.58\"/>\n",
       "<text text-anchor=\"middle\" x=\"330.67\" y=\"-235.34\" font-family=\"Helvetica,sans-Serif\" font-size=\"14.00\">True</text>\n",
       "</g>\n",
       "<!-- 42 -->\n",
       "<g id=\"node9\" class=\"node\">\n",
       "<title>42</title>\n",
       "<polygon fill=\"#fffefd\" stroke=\"black\" points=\"624,-214 416,-214 416,-161 624,-161 624,-214\"/>\n",
       "<text text-anchor=\"middle\" x=\"520\" y=\"-198.8\" font-family=\"Helvetica,sans-Serif\" font-size=\"14.00\">Lobulation_mean &lt;= 1.708</text>\n",
       "<text text-anchor=\"middle\" x=\"520\" y=\"-183.8\" font-family=\"Helvetica,sans-Serif\" font-size=\"14.00\">samples = 22.9%</text>\n",
       "<text text-anchor=\"middle\" x=\"520\" y=\"-168.8\" font-family=\"Helvetica,sans-Serif\" font-size=\"14.00\">value = [0.502, 0.498]</text>\n",
       "</g>\n",
       "<!-- 0&#45;&gt;42 -->\n",
       "<g id=\"edge8\" class=\"edge\">\n",
       "<title>0&#45;&gt;42</title>\n",
       "<path fill=\"none\" stroke=\"black\" d=\"M440.29,-249.87C452.26,-240.66 465.9,-230.15 478.47,-220.47\"/>\n",
       "<polygon fill=\"black\" stroke=\"black\" points=\"480.77,-223.12 486.55,-214.25 476.5,-217.58 480.77,-223.12\"/>\n",
       "<text text-anchor=\"middle\" x=\"483.33\" y=\"-235.34\" font-family=\"Helvetica,sans-Serif\" font-size=\"14.00\">False</text>\n",
       "</g>\n",
       "<!-- 2 -->\n",
       "<g id=\"node3\" class=\"node\">\n",
       "<title>2</title>\n",
       "<polygon fill=\"#e68743\" stroke=\"black\" points=\"176,-125 0,-125 0,-72 176,-72 176,-125\"/>\n",
       "<text text-anchor=\"middle\" x=\"88\" y=\"-109.8\" font-family=\"Helvetica,sans-Serif\" font-size=\"14.00\">N nods &lt;= 18.0</text>\n",
       "<text text-anchor=\"middle\" x=\"88\" y=\"-94.8\" font-family=\"Helvetica,sans-Serif\" font-size=\"14.00\">samples = 43.2%</text>\n",
       "<text text-anchor=\"middle\" x=\"88\" y=\"-79.8\" font-family=\"Helvetica,sans-Serif\" font-size=\"14.00\">value = [0.951, 0.049]</text>\n",
       "</g>\n",
       "<!-- 1&#45;&gt;2 -->\n",
       "<g id=\"edge2\" class=\"edge\">\n",
       "<title>1&#45;&gt;2</title>\n",
       "<path fill=\"none\" stroke=\"black\" d=\"M233.59,-160.98C209.79,-150.94 182.32,-139.34 157.7,-128.94\"/>\n",
       "<polygon fill=\"black\" stroke=\"black\" points=\"158.99,-125.68 148.41,-125.01 156.26,-132.13 158.99,-125.68\"/>\n",
       "</g>\n",
       "<!-- 7 -->\n",
       "<g id=\"node6\" class=\"node\">\n",
       "<title>7</title>\n",
       "<polygon fill=\"#eb9e67\" stroke=\"black\" points=\"402,-125 194,-125 194,-72 402,-72 402,-125\"/>\n",
       "<text text-anchor=\"middle\" x=\"298\" y=\"-109.8\" font-family=\"Helvetica,sans-Serif\" font-size=\"14.00\">Lobulation_mean &lt;= 2.225</text>\n",
       "<text text-anchor=\"middle\" x=\"298\" y=\"-94.8\" font-family=\"Helvetica,sans-Serif\" font-size=\"14.00\">samples = 34.0%</text>\n",
       "<text text-anchor=\"middle\" x=\"298\" y=\"-79.8\" font-family=\"Helvetica,sans-Serif\" font-size=\"14.00\">value = [0.81, 0.19]</text>\n",
       "</g>\n",
       "<!-- 1&#45;&gt;7 -->\n",
       "<g id=\"edge5\" class=\"edge\">\n",
       "<title>1&#45;&gt;7</title>\n",
       "<path fill=\"none\" stroke=\"black\" d=\"M295.18,-160.87C295.55,-152.89 295.96,-143.93 296.35,-135.38\"/>\n",
       "<polygon fill=\"black\" stroke=\"black\" points=\"299.85,-135.4 296.82,-125.25 292.86,-135.08 299.85,-135.4\"/>\n",
       "</g>\n",
       "<!-- 3 -->\n",
       "<g id=\"node4\" class=\"node\">\n",
       "<title>3</title>\n",
       "<polygon fill=\"#c0c0c0\" stroke=\"black\" points=\"97,-36 43,-36 43,0 97,0 97,-36\"/>\n",
       "<text text-anchor=\"middle\" x=\"70\" y=\"-14.3\" font-family=\"Helvetica,sans-Serif\" font-size=\"14.00\">(...)</text>\n",
       "</g>\n",
       "<!-- 2&#45;&gt;3 -->\n",
       "<g id=\"edge3\" class=\"edge\">\n",
       "<title>2&#45;&gt;3</title>\n",
       "<path fill=\"none\" stroke=\"black\" d=\"M82.11,-71.8C80.23,-63.62 78.15,-54.55 76.25,-46.27\"/>\n",
       "<polygon fill=\"black\" stroke=\"black\" points=\"79.62,-45.3 73.97,-36.33 72.8,-46.86 79.62,-45.3\"/>\n",
       "</g>\n",
       "<!-- 4 -->\n",
       "<g id=\"node5\" class=\"node\">\n",
       "<title>4</title>\n",
       "<polygon fill=\"#c0c0c0\" stroke=\"black\" points=\"169,-36 115,-36 115,0 169,0 169,-36\"/>\n",
       "<text text-anchor=\"middle\" x=\"142\" y=\"-14.3\" font-family=\"Helvetica,sans-Serif\" font-size=\"14.00\">(...)</text>\n",
       "</g>\n",
       "<!-- 2&#45;&gt;4 -->\n",
       "<g id=\"edge4\" class=\"edge\">\n",
       "<title>2&#45;&gt;4</title>\n",
       "<path fill=\"none\" stroke=\"black\" d=\"M105.68,-71.8C111.68,-63.08 118.38,-53.34 124.37,-44.63\"/>\n",
       "<polygon fill=\"black\" stroke=\"black\" points=\"127.29,-46.55 130.08,-36.33 121.53,-42.59 127.29,-46.55\"/>\n",
       "</g>\n",
       "<!-- 8 -->\n",
       "<g id=\"node7\" class=\"node\">\n",
       "<title>8</title>\n",
       "<polygon fill=\"#c0c0c0\" stroke=\"black\" points=\"271,-36 217,-36 217,0 271,0 271,-36\"/>\n",
       "<text text-anchor=\"middle\" x=\"244\" y=\"-14.3\" font-family=\"Helvetica,sans-Serif\" font-size=\"14.00\">(...)</text>\n",
       "</g>\n",
       "<!-- 7&#45;&gt;8 -->\n",
       "<g id=\"edge6\" class=\"edge\">\n",
       "<title>7&#45;&gt;8</title>\n",
       "<path fill=\"none\" stroke=\"black\" d=\"M280.32,-71.8C274.32,-63.08 267.62,-53.34 261.63,-44.63\"/>\n",
       "<polygon fill=\"black\" stroke=\"black\" points=\"264.47,-42.59 255.92,-36.33 258.71,-46.55 264.47,-42.59\"/>\n",
       "</g>\n",
       "<!-- 27 -->\n",
       "<g id=\"node8\" class=\"node\">\n",
       "<title>27</title>\n",
       "<polygon fill=\"#c0c0c0\" stroke=\"black\" points=\"343,-36 289,-36 289,0 343,0 343,-36\"/>\n",
       "<text text-anchor=\"middle\" x=\"316\" y=\"-14.3\" font-family=\"Helvetica,sans-Serif\" font-size=\"14.00\">(...)</text>\n",
       "</g>\n",
       "<!-- 7&#45;&gt;27 -->\n",
       "<g id=\"edge7\" class=\"edge\">\n",
       "<title>7&#45;&gt;27</title>\n",
       "<path fill=\"none\" stroke=\"black\" d=\"M303.89,-71.8C305.77,-63.62 307.85,-54.55 309.75,-46.27\"/>\n",
       "<polygon fill=\"black\" stroke=\"black\" points=\"313.2,-46.86 312.03,-36.33 306.38,-45.3 313.2,-46.86\"/>\n",
       "</g>\n",
       "<!-- 43 -->\n",
       "<g id=\"node10\" class=\"node\">\n",
       "<title>43</title>\n",
       "<polygon fill=\"#eca470\" stroke=\"black\" points=\"600,-125 424,-125 424,-72 600,-72 600,-125\"/>\n",
       "<text text-anchor=\"middle\" x=\"512\" y=\"-109.8\" font-family=\"Helvetica,sans-Serif\" font-size=\"14.00\">Sphericity &lt;= 4.5</text>\n",
       "<text text-anchor=\"middle\" x=\"512\" y=\"-94.8\" font-family=\"Helvetica,sans-Serif\" font-size=\"14.00\">samples = 6.0%</text>\n",
       "<text text-anchor=\"middle\" x=\"512\" y=\"-79.8\" font-family=\"Helvetica,sans-Serif\" font-size=\"14.00\">value = [0.781, 0.219]</text>\n",
       "</g>\n",
       "<!-- 42&#45;&gt;43 -->\n",
       "<g id=\"edge9\" class=\"edge\">\n",
       "<title>42&#45;&gt;43</title>\n",
       "<path fill=\"none\" stroke=\"black\" d=\"M517.64,-160.87C516.91,-152.89 516.09,-143.93 515.3,-135.38\"/>\n",
       "<polygon fill=\"black\" stroke=\"black\" points=\"518.77,-134.89 514.37,-125.25 511.8,-135.53 518.77,-134.89\"/>\n",
       "</g>\n",
       "<!-- 48 -->\n",
       "<g id=\"node13\" class=\"node\">\n",
       "<title>48</title>\n",
       "<polygon fill=\"#bddef6\" stroke=\"black\" points=\"794,-125 618,-125 618,-72 794,-72 794,-125\"/>\n",
       "<text text-anchor=\"middle\" x=\"706\" y=\"-109.8\" font-family=\"Helvetica,sans-Serif\" font-size=\"14.00\">N nods &lt;= 8.5</text>\n",
       "<text text-anchor=\"middle\" x=\"706\" y=\"-94.8\" font-family=\"Helvetica,sans-Serif\" font-size=\"14.00\">samples = 16.9%</text>\n",
       "<text text-anchor=\"middle\" x=\"706\" y=\"-79.8\" font-family=\"Helvetica,sans-Serif\" font-size=\"14.00\">value = [0.399, 0.601]</text>\n",
       "</g>\n",
       "<!-- 42&#45;&gt;48 -->\n",
       "<g id=\"edge12\" class=\"edge\">\n",
       "<title>42&#45;&gt;48</title>\n",
       "<path fill=\"none\" stroke=\"black\" d=\"M574.55,-160.98C595.75,-151.07 620.18,-139.64 642.19,-129.35\"/>\n",
       "<polygon fill=\"black\" stroke=\"black\" points=\"643.88,-132.42 651.45,-125.01 640.91,-126.08 643.88,-132.42\"/>\n",
       "</g>\n",
       "<!-- 44 -->\n",
       "<g id=\"node11\" class=\"node\">\n",
       "<title>44</title>\n",
       "<polygon fill=\"#c0c0c0\" stroke=\"black\" points=\"503,-36 449,-36 449,0 503,0 503,-36\"/>\n",
       "<text text-anchor=\"middle\" x=\"476\" y=\"-14.3\" font-family=\"Helvetica,sans-Serif\" font-size=\"14.00\">(...)</text>\n",
       "</g>\n",
       "<!-- 43&#45;&gt;44 -->\n",
       "<g id=\"edge10\" class=\"edge\">\n",
       "<title>43&#45;&gt;44</title>\n",
       "<path fill=\"none\" stroke=\"black\" d=\"M500.21,-71.8C496.34,-63.35 492.03,-53.95 488.13,-45.45\"/>\n",
       "<polygon fill=\"black\" stroke=\"black\" points=\"491.3,-43.96 483.95,-36.33 484.93,-46.88 491.3,-43.96\"/>\n",
       "</g>\n",
       "<!-- 45 -->\n",
       "<g id=\"node12\" class=\"node\">\n",
       "<title>45</title>\n",
       "<polygon fill=\"#c0c0c0\" stroke=\"black\" points=\"575,-36 521,-36 521,0 575,0 575,-36\"/>\n",
       "<text text-anchor=\"middle\" x=\"548\" y=\"-14.3\" font-family=\"Helvetica,sans-Serif\" font-size=\"14.00\">(...)</text>\n",
       "</g>\n",
       "<!-- 43&#45;&gt;45 -->\n",
       "<g id=\"edge11\" class=\"edge\">\n",
       "<title>43&#45;&gt;45</title>\n",
       "<path fill=\"none\" stroke=\"black\" d=\"M523.79,-71.8C527.66,-63.35 531.97,-53.95 535.87,-45.45\"/>\n",
       "<polygon fill=\"black\" stroke=\"black\" points=\"539.07,-46.88 540.05,-36.33 532.7,-43.96 539.07,-46.88\"/>\n",
       "</g>\n",
       "<!-- 49 -->\n",
       "<g id=\"node14\" class=\"node\">\n",
       "<title>49</title>\n",
       "<polygon fill=\"#c0c0c0\" stroke=\"black\" points=\"697,-36 643,-36 643,0 697,0 697,-36\"/>\n",
       "<text text-anchor=\"middle\" x=\"670\" y=\"-14.3\" font-family=\"Helvetica,sans-Serif\" font-size=\"14.00\">(...)</text>\n",
       "</g>\n",
       "<!-- 48&#45;&gt;49 -->\n",
       "<g id=\"edge13\" class=\"edge\">\n",
       "<title>48&#45;&gt;49</title>\n",
       "<path fill=\"none\" stroke=\"black\" d=\"M694.21,-71.8C690.34,-63.35 686.03,-53.95 682.13,-45.45\"/>\n",
       "<polygon fill=\"black\" stroke=\"black\" points=\"685.3,-43.96 677.95,-36.33 678.93,-46.88 685.3,-43.96\"/>\n",
       "</g>\n",
       "<!-- 64 -->\n",
       "<g id=\"node15\" class=\"node\">\n",
       "<title>64</title>\n",
       "<polygon fill=\"#c0c0c0\" stroke=\"black\" points=\"769,-36 715,-36 715,0 769,0 769,-36\"/>\n",
       "<text text-anchor=\"middle\" x=\"742\" y=\"-14.3\" font-family=\"Helvetica,sans-Serif\" font-size=\"14.00\">(...)</text>\n",
       "</g>\n",
       "<!-- 48&#45;&gt;64 -->\n",
       "<g id=\"edge14\" class=\"edge\">\n",
       "<title>48&#45;&gt;64</title>\n",
       "<path fill=\"none\" stroke=\"black\" d=\"M717.79,-71.8C721.66,-63.35 725.97,-53.95 729.87,-45.45\"/>\n",
       "<polygon fill=\"black\" stroke=\"black\" points=\"733.07,-46.88 734.05,-36.33 726.7,-43.96 733.07,-46.88\"/>\n",
       "</g>\n",
       "</g>\n",
       "</svg>\n"
      ],
      "text/plain": [
       "<graphviz.sources.Source at 0x7fdabf1cccd0>"
      ]
     },
     "metadata": {},
     "output_type": "display_data"
    },
    {
     "data": {
      "image/svg+xml": [
       "<?xml version=\"1.0\" encoding=\"UTF-8\" standalone=\"no\"?>\n",
       "<!DOCTYPE svg PUBLIC \"-//W3C//DTD SVG 1.1//EN\"\n",
       " \"http://www.w3.org/Graphics/SVG/1.1/DTD/svg11.dtd\">\n",
       "<!-- Generated by graphviz version 2.43.0 (0)\n",
       " -->\n",
       "<!-- Title: Tree Pages: 1 -->\n",
       "<svg width=\"772pt\" height=\"311pt\"\n",
       " viewBox=\"0.00 0.00 772.00 311.00\" xmlns=\"http://www.w3.org/2000/svg\" xmlns:xlink=\"http://www.w3.org/1999/xlink\">\n",
       "<g id=\"graph0\" class=\"graph\" transform=\"scale(1 1) rotate(0) translate(4 307)\">\n",
       "<title>Tree</title>\n",
       "<polygon fill=\"white\" stroke=\"transparent\" points=\"-4,4 -4,-307 768,-307 768,4 -4,4\"/>\n",
       "<!-- 0 -->\n",
       "<g id=\"node1\" class=\"node\">\n",
       "<title>0</title>\n",
       "<polygon fill=\"#eca16b\" stroke=\"black\" points=\"486,-303 278,-303 278,-250 486,-250 486,-303\"/>\n",
       "<text text-anchor=\"middle\" x=\"382\" y=\"-287.8\" font-family=\"Helvetica,sans-Serif\" font-size=\"14.00\">Lobulation_mean &lt;= 2.225</text>\n",
       "<text text-anchor=\"middle\" x=\"382\" y=\"-272.8\" font-family=\"Helvetica,sans-Serif\" font-size=\"14.00\">samples = 100.0%</text>\n",
       "<text text-anchor=\"middle\" x=\"382\" y=\"-257.8\" font-family=\"Helvetica,sans-Serif\" font-size=\"14.00\">value = [0.799, 0.201]</text>\n",
       "</g>\n",
       "<!-- 1 -->\n",
       "<g id=\"node2\" class=\"node\">\n",
       "<title>1</title>\n",
       "<polygon fill=\"#e89153\" stroke=\"black\" points=\"376,-214 182,-214 182,-161 376,-161 376,-214\"/>\n",
       "<text text-anchor=\"middle\" x=\"279\" y=\"-198.8\" font-family=\"Helvetica,sans-Serif\" font-size=\"14.00\">Spiculation_Med &lt;= 1.45</text>\n",
       "<text text-anchor=\"middle\" x=\"279\" y=\"-183.8\" font-family=\"Helvetica,sans-Serif\" font-size=\"14.00\">samples = 81.4%</text>\n",
       "<text text-anchor=\"middle\" x=\"279\" y=\"-168.8\" font-family=\"Helvetica,sans-Serif\" font-size=\"14.00\">value = [0.884, 0.116]</text>\n",
       "</g>\n",
       "<!-- 0&#45;&gt;1 -->\n",
       "<g id=\"edge1\" class=\"edge\">\n",
       "<title>0&#45;&gt;1</title>\n",
       "<path fill=\"none\" stroke=\"black\" d=\"M351.65,-249.87C340.85,-240.75 328.55,-230.35 317.18,-220.75\"/>\n",
       "<polygon fill=\"black\" stroke=\"black\" points=\"319.38,-218.03 309.49,-214.25 314.87,-223.38 319.38,-218.03\"/>\n",
       "<text text-anchor=\"middle\" x=\"311.58\" y=\"-235.46\" font-family=\"Helvetica,sans-Serif\" font-size=\"14.00\">True</text>\n",
       "</g>\n",
       "<!-- 38 -->\n",
       "<g id=\"node7\" class=\"node\">\n",
       "<title>38</title>\n",
       "<polygon fill=\"#cee6f8\" stroke=\"black\" points=\"575.5,-214 394.5,-214 394.5,-161 575.5,-161 575.5,-214\"/>\n",
       "<text text-anchor=\"middle\" x=\"485\" y=\"-198.8\" font-family=\"Helvetica,sans-Serif\" font-size=\"14.00\">Lobulation_max &lt;= 3.5</text>\n",
       "<text text-anchor=\"middle\" x=\"485\" y=\"-183.8\" font-family=\"Helvetica,sans-Serif\" font-size=\"14.00\">samples = 18.6%</text>\n",
       "<text text-anchor=\"middle\" x=\"485\" y=\"-168.8\" font-family=\"Helvetica,sans-Serif\" font-size=\"14.00\">value = [0.429, 0.571]</text>\n",
       "</g>\n",
       "<!-- 0&#45;&gt;38 -->\n",
       "<g id=\"edge6\" class=\"edge\">\n",
       "<title>0&#45;&gt;38</title>\n",
       "<path fill=\"none\" stroke=\"black\" d=\"M412.35,-249.87C423.15,-240.75 435.45,-230.35 446.82,-220.75\"/>\n",
       "<polygon fill=\"black\" stroke=\"black\" points=\"449.13,-223.38 454.51,-214.25 444.62,-218.03 449.13,-223.38\"/>\n",
       "<text text-anchor=\"middle\" x=\"452.42\" y=\"-235.46\" font-family=\"Helvetica,sans-Serif\" font-size=\"14.00\">False</text>\n",
       "</g>\n",
       "<!-- 2 -->\n",
       "<g id=\"node3\" class=\"node\">\n",
       "<title>2</title>\n",
       "<polygon fill=\"#e78a47\" stroke=\"black\" points=\"176,-117.5 0,-117.5 0,-79.5 176,-79.5 176,-117.5\"/>\n",
       "<text text-anchor=\"middle\" x=\"88\" y=\"-102.3\" font-family=\"Helvetica,sans-Serif\" font-size=\"14.00\">samples = 60.9%</text>\n",
       "<text text-anchor=\"middle\" x=\"88\" y=\"-87.3\" font-family=\"Helvetica,sans-Serif\" font-size=\"14.00\">value = [0.936, 0.064]</text>\n",
       "</g>\n",
       "<!-- 1&#45;&gt;2 -->\n",
       "<g id=\"edge2\" class=\"edge\">\n",
       "<title>1&#45;&gt;2</title>\n",
       "<path fill=\"none\" stroke=\"black\" d=\"M222.98,-160.98C195.73,-148.57 163.27,-133.78 137.01,-121.82\"/>\n",
       "<polygon fill=\"black\" stroke=\"black\" points=\"138.19,-118.52 127.64,-117.55 135.29,-124.89 138.19,-118.52\"/>\n",
       "</g>\n",
       "<!-- 3 -->\n",
       "<g id=\"node4\" class=\"node\">\n",
       "<title>3</title>\n",
       "<polygon fill=\"#eeae80\" stroke=\"black\" points=\"370,-125 194,-125 194,-72 370,-72 370,-125\"/>\n",
       "<text text-anchor=\"middle\" x=\"282\" y=\"-109.8\" font-family=\"Helvetica,sans-Serif\" font-size=\"14.00\">N nods &lt;= 2.5</text>\n",
       "<text text-anchor=\"middle\" x=\"282\" y=\"-94.8\" font-family=\"Helvetica,sans-Serif\" font-size=\"14.00\">samples = 20.5%</text>\n",
       "<text text-anchor=\"middle\" x=\"282\" y=\"-79.8\" font-family=\"Helvetica,sans-Serif\" font-size=\"14.00\">value = [0.737, 0.263]</text>\n",
       "</g>\n",
       "<!-- 1&#45;&gt;3 -->\n",
       "<g id=\"edge3\" class=\"edge\">\n",
       "<title>1&#45;&gt;3</title>\n",
       "<path fill=\"none\" stroke=\"black\" d=\"M279.88,-160.87C280.16,-152.89 280.47,-143.93 280.76,-135.38\"/>\n",
       "<polygon fill=\"black\" stroke=\"black\" points=\"284.27,-135.36 281.11,-125.25 277.27,-135.12 284.27,-135.36\"/>\n",
       "</g>\n",
       "<!-- 4 -->\n",
       "<g id=\"node5\" class=\"node\">\n",
       "<title>4</title>\n",
       "<polygon fill=\"#c0c0c0\" stroke=\"black\" points=\"273,-36 219,-36 219,0 273,0 273,-36\"/>\n",
       "<text text-anchor=\"middle\" x=\"246\" y=\"-14.3\" font-family=\"Helvetica,sans-Serif\" font-size=\"14.00\">(...)</text>\n",
       "</g>\n",
       "<!-- 3&#45;&gt;4 -->\n",
       "<g id=\"edge4\" class=\"edge\">\n",
       "<title>3&#45;&gt;4</title>\n",
       "<path fill=\"none\" stroke=\"black\" d=\"M270.21,-71.8C266.34,-63.35 262.03,-53.95 258.13,-45.45\"/>\n",
       "<polygon fill=\"black\" stroke=\"black\" points=\"261.3,-43.96 253.95,-36.33 254.93,-46.88 261.3,-43.96\"/>\n",
       "</g>\n",
       "<!-- 15 -->\n",
       "<g id=\"node6\" class=\"node\">\n",
       "<title>15</title>\n",
       "<polygon fill=\"#c0c0c0\" stroke=\"black\" points=\"345,-36 291,-36 291,0 345,0 345,-36\"/>\n",
       "<text text-anchor=\"middle\" x=\"318\" y=\"-14.3\" font-family=\"Helvetica,sans-Serif\" font-size=\"14.00\">(...)</text>\n",
       "</g>\n",
       "<!-- 3&#45;&gt;15 -->\n",
       "<g id=\"edge5\" class=\"edge\">\n",
       "<title>3&#45;&gt;15</title>\n",
       "<path fill=\"none\" stroke=\"black\" d=\"M293.79,-71.8C297.66,-63.35 301.97,-53.95 305.87,-45.45\"/>\n",
       "<polygon fill=\"black\" stroke=\"black\" points=\"309.07,-46.88 310.05,-36.33 302.7,-43.96 309.07,-46.88\"/>\n",
       "</g>\n",
       "<!-- 39 -->\n",
       "<g id=\"node8\" class=\"node\">\n",
       "<title>39</title>\n",
       "<polygon fill=\"#f4cbad\" stroke=\"black\" points=\"570,-125 394,-125 394,-72 570,-72 570,-125\"/>\n",
       "<text text-anchor=\"middle\" x=\"482\" y=\"-109.8\" font-family=\"Helvetica,sans-Serif\" font-size=\"14.00\">Margin_max &lt;= 3.5</text>\n",
       "<text text-anchor=\"middle\" x=\"482\" y=\"-94.8\" font-family=\"Helvetica,sans-Serif\" font-size=\"14.00\">samples = 5.2%</text>\n",
       "<text text-anchor=\"middle\" x=\"482\" y=\"-79.8\" font-family=\"Helvetica,sans-Serif\" font-size=\"14.00\">value = [0.631, 0.369]</text>\n",
       "</g>\n",
       "<!-- 38&#45;&gt;39 -->\n",
       "<g id=\"edge7\" class=\"edge\">\n",
       "<title>38&#45;&gt;39</title>\n",
       "<path fill=\"none\" stroke=\"black\" d=\"M484.12,-160.87C483.84,-152.89 483.53,-143.93 483.24,-135.38\"/>\n",
       "<polygon fill=\"black\" stroke=\"black\" points=\"486.73,-135.12 482.89,-125.25 479.73,-135.36 486.73,-135.12\"/>\n",
       "</g>\n",
       "<!-- 52 -->\n",
       "<g id=\"node11\" class=\"node\">\n",
       "<title>52</title>\n",
       "<polygon fill=\"#9fcff2\" stroke=\"black\" points=\"764,-125 588,-125 588,-72 764,-72 764,-125\"/>\n",
       "<text text-anchor=\"middle\" x=\"676\" y=\"-109.8\" font-family=\"Helvetica,sans-Serif\" font-size=\"14.00\">Margin_max &lt;= 2.5</text>\n",
       "<text text-anchor=\"middle\" x=\"676\" y=\"-94.8\" font-family=\"Helvetica,sans-Serif\" font-size=\"14.00\">samples = 13.4%</text>\n",
       "<text text-anchor=\"middle\" x=\"676\" y=\"-79.8\" font-family=\"Helvetica,sans-Serif\" font-size=\"14.00\">value = [0.339, 0.661]</text>\n",
       "</g>\n",
       "<!-- 38&#45;&gt;52 -->\n",
       "<g id=\"edge10\" class=\"edge\">\n",
       "<title>38&#45;&gt;52</title>\n",
       "<path fill=\"none\" stroke=\"black\" d=\"M541.02,-160.98C562.88,-151.03 588.1,-139.54 610.77,-129.21\"/>\n",
       "<polygon fill=\"black\" stroke=\"black\" points=\"612.34,-132.34 619.99,-125.01 609.43,-125.97 612.34,-132.34\"/>\n",
       "</g>\n",
       "<!-- 40 -->\n",
       "<g id=\"node9\" class=\"node\">\n",
       "<title>40</title>\n",
       "<polygon fill=\"#c0c0c0\" stroke=\"black\" points=\"491,-36 437,-36 437,0 491,0 491,-36\"/>\n",
       "<text text-anchor=\"middle\" x=\"464\" y=\"-14.3\" font-family=\"Helvetica,sans-Serif\" font-size=\"14.00\">(...)</text>\n",
       "</g>\n",
       "<!-- 39&#45;&gt;40 -->\n",
       "<g id=\"edge8\" class=\"edge\">\n",
       "<title>39&#45;&gt;40</title>\n",
       "<path fill=\"none\" stroke=\"black\" d=\"M476.11,-71.8C474.23,-63.62 472.15,-54.55 470.25,-46.27\"/>\n",
       "<polygon fill=\"black\" stroke=\"black\" points=\"473.62,-45.3 467.97,-36.33 466.8,-46.86 473.62,-45.3\"/>\n",
       "</g>\n",
       "<!-- 45 -->\n",
       "<g id=\"node10\" class=\"node\">\n",
       "<title>45</title>\n",
       "<polygon fill=\"#c0c0c0\" stroke=\"black\" points=\"563,-36 509,-36 509,0 563,0 563,-36\"/>\n",
       "<text text-anchor=\"middle\" x=\"536\" y=\"-14.3\" font-family=\"Helvetica,sans-Serif\" font-size=\"14.00\">(...)</text>\n",
       "</g>\n",
       "<!-- 39&#45;&gt;45 -->\n",
       "<g id=\"edge9\" class=\"edge\">\n",
       "<title>39&#45;&gt;45</title>\n",
       "<path fill=\"none\" stroke=\"black\" d=\"M499.68,-71.8C505.68,-63.08 512.38,-53.34 518.37,-44.63\"/>\n",
       "<polygon fill=\"black\" stroke=\"black\" points=\"521.29,-46.55 524.08,-36.33 515.53,-42.59 521.29,-46.55\"/>\n",
       "</g>\n",
       "<!-- 53 -->\n",
       "<g id=\"node12\" class=\"node\">\n",
       "<title>53</title>\n",
       "<polygon fill=\"#c0c0c0\" stroke=\"black\" points=\"649,-36 595,-36 595,0 649,0 649,-36\"/>\n",
       "<text text-anchor=\"middle\" x=\"622\" y=\"-14.3\" font-family=\"Helvetica,sans-Serif\" font-size=\"14.00\">(...)</text>\n",
       "</g>\n",
       "<!-- 52&#45;&gt;53 -->\n",
       "<g id=\"edge11\" class=\"edge\">\n",
       "<title>52&#45;&gt;53</title>\n",
       "<path fill=\"none\" stroke=\"black\" d=\"M658.32,-71.8C652.32,-63.08 645.62,-53.34 639.63,-44.63\"/>\n",
       "<polygon fill=\"black\" stroke=\"black\" points=\"642.47,-42.59 633.92,-36.33 636.71,-46.55 642.47,-42.59\"/>\n",
       "</g>\n",
       "<!-- 54 -->\n",
       "<g id=\"node13\" class=\"node\">\n",
       "<title>54</title>\n",
       "<polygon fill=\"#c0c0c0\" stroke=\"black\" points=\"721,-36 667,-36 667,0 721,0 721,-36\"/>\n",
       "<text text-anchor=\"middle\" x=\"694\" y=\"-14.3\" font-family=\"Helvetica,sans-Serif\" font-size=\"14.00\">(...)</text>\n",
       "</g>\n",
       "<!-- 52&#45;&gt;54 -->\n",
       "<g id=\"edge12\" class=\"edge\">\n",
       "<title>52&#45;&gt;54</title>\n",
       "<path fill=\"none\" stroke=\"black\" d=\"M681.89,-71.8C683.77,-63.62 685.85,-54.55 687.75,-46.27\"/>\n",
       "<polygon fill=\"black\" stroke=\"black\" points=\"691.2,-46.86 690.03,-36.33 684.38,-45.3 691.2,-46.86\"/>\n",
       "</g>\n",
       "</g>\n",
       "</svg>\n"
      ],
      "text/plain": [
       "<graphviz.sources.Source at 0x7fdabccb4340>"
      ]
     },
     "metadata": {},
     "output_type": "display_data"
    }
   ],
   "source": [
    "# print of the more significant separations with percentage of the subset (train) and proportion for each separation\n",
    "# for the two first trees\n",
    "\n",
    "rf = RandomForestClassifier(max_features=best,min_impurity_decrease=0.001)\n",
    "rf.fit(X_train, y_train)\n",
    "df['Prediction_rf']=rf.predict(X)\n",
    "\n",
    "for i in range(2):\n",
    "    tree = rf.estimators_[i]\n",
    "    dot_data = export_graphviz(tree,feature_names=X_train.columns,filled=True,max_depth=2,impurity=False,proportion=True)\n",
    "    graph = graphviz.Source(dot_data)\n",
    "    display(graph)"
   ]
  },
  {
   "cell_type": "code",
   "execution_count": 26,
   "id": "4066b217",
   "metadata": {},
   "outputs": [
    {
     "name": "stdout",
     "output_type": "stream",
     "text": [
      "0.8493408662900188\n"
     ]
    }
   ],
   "source": [
    "y_pred = rf.predict(X_test)\n",
    "accuracy = accuracy_score(y_test, y_pred)\n",
    "print(accuracy)"
   ]
  },
  {
   "cell_type": "code",
   "execution_count": 27,
   "id": "31ce8241",
   "metadata": {},
   "outputs": [],
   "source": [
    "#KNN"
   ]
  },
  {
   "cell_type": "code",
   "execution_count": 28,
   "id": "896c78f5",
   "metadata": {},
   "outputs": [],
   "source": [
    "# Knn construction for different values of hyperparameter - number of neighbors (n_neighbors) \n",
    "\n",
    "\n",
    "knn = KNeighborsClassifier(n_neighbors=1)\n",
    "knn.fit(X_train, y_train) \n",
    "y_pred = knn.predict(X_test)\n",
    "accuracy = accuracy_score(y_test, y_pred)\n",
    "#print(\"Number of neighbors: \",\"1\", \"Accuracy: \", accuracy)\n",
    "best=1\n",
    "best_ac=accuracy\n",
    "x_knn=[1]\n",
    "y_knn=[accuracy]\n",
    "\n",
    "for i in range(2,10):\n",
    "    knn = KNeighborsClassifier(n_neighbors=i)\n",
    "    knn.fit(X_train, y_train) \n",
    "    y_pred = knn.predict(X_test)\n",
    "    accuracy = accuracy_score(y_test, y_pred)\n",
    "    #print(\"Number of neighbors: \",i, \"Accuracy: \", accuracy)\n",
    "    x_knn.append(i)\n",
    "    y_knn.append(accuracy)\n",
    "    if(accuracy>best_ac):\n",
    "        best=i\n",
    "        best_ac=accuracy"
   ]
  },
  {
   "cell_type": "code",
   "execution_count": 29,
   "id": "d25afdd7",
   "metadata": {},
   "outputs": [
    {
     "name": "stdout",
     "output_type": "stream",
     "text": [
      "Best number of neighbors:  8  with accuracy= 0.8418079096045198\n"
     ]
    },
    {
     "data": {
      "image/png": "[encoded data removed]",
      "text/plain": [
       "<Figure size 432x288 with 1 Axes>"
      ]
     },
     "metadata": {
      "needs_background": "light"
     },
     "output_type": "display_data"
    }
   ],
   "source": [
    "# Evaluate the hyperparameter and identify the best value for the accuracy\n",
    "\n",
    "s = pd.Series(y_knn,x_knn)\n",
    "plt.title('Accuracy for different number of neighbors')\n",
    "plt.xlabel('K')\n",
    "plt.ylabel('Accuracy')\n",
    "\n",
    "s.plot.line()  \n",
    "print(\"Best number of neighbors: \", best ,\" with accuracy=\", best_ac)"
   ]
  },
  {
   "cell_type": "code",
   "execution_count": 30,
   "id": "7a68d0ea",
   "metadata": {},
   "outputs": [
    {
     "data": {
      "text/html": [
       "<style>#sk-container-id-1 {color: black;background-color: white;}#sk-container-id-1 pre{padding: 0;}#sk-container-id-1 div.sk-toggleable {background-color: white;}#sk-container-id-1 label.sk-toggleable__label {cursor: pointer;display: block;width: 100%;margin-bottom: 0;padding: 0.3em;box-sizing: border-box;text-align: center;}#sk-container-id-1 label.sk-toggleable__label-arrow:before {content: \"▸\";float: left;margin-right: 0.25em;color: #696969;}#sk-container-id-1 label.sk-toggleable__label-arrow:hover:before {color: black;}#sk-container-id-1 div.sk-estimator:hover label.sk-toggleable__label-arrow:before {color: black;}#sk-container-id-1 div.sk-toggleable__content {max-height: 0;max-width: 0;overflow: hidden;text-align: left;background-color: #f0f8ff;}#sk-container-id-1 div.sk-toggleable__content pre {margin: 0.2em;color: black;border-radius: 0.25em;background-color: #f0f8ff;}#sk-container-id-1 input.sk-toggleable__control:checked~div.sk-toggleable__content {max-height: 200px;max-width: 100%;overflow: auto;}#sk-container-id-1 input.sk-toggleable__control:checked~label.sk-toggleable__label-arrow:before {content: \"▾\";}#sk-container-id-1 div.sk-estimator input.sk-toggleable__control:checked~label.sk-toggleable__label {background-color: #d4ebff;}#sk-container-id-1 div.sk-label input.sk-toggleable__control:checked~label.sk-toggleable__label {background-color: #d4ebff;}#sk-container-id-1 input.sk-hidden--visually {border: 0;clip: rect(1px 1px 1px 1px);clip: rect(1px, 1px, 1px, 1px);height: 1px;margin: -1px;overflow: hidden;padding: 0;position: absolute;width: 1px;}#sk-container-id-1 div.sk-estimator {font-family: monospace;background-color: #f0f8ff;border: 1px dotted black;border-radius: 0.25em;box-sizing: border-box;margin-bottom: 0.5em;}#sk-container-id-1 div.sk-estimator:hover {background-color: #d4ebff;}#sk-container-id-1 div.sk-parallel-item::after {content: \"\";width: 100%;border-bottom: 1px solid gray;flex-grow: 1;}#sk-container-id-1 div.sk-label:hover label.sk-toggleable__label {background-color: #d4ebff;}#sk-container-id-1 div.sk-serial::before {content: \"\";position: absolute;border-left: 1px solid gray;box-sizing: border-box;top: 0;bottom: 0;left: 50%;z-index: 0;}#sk-container-id-1 div.sk-serial {display: flex;flex-direction: column;align-items: center;background-color: white;padding-right: 0.2em;padding-left: 0.2em;position: relative;}#sk-container-id-1 div.sk-item {position: relative;z-index: 1;}#sk-container-id-1 div.sk-parallel {display: flex;align-items: stretch;justify-content: center;background-color: white;position: relative;}#sk-container-id-1 div.sk-item::before, #sk-container-id-1 div.sk-parallel-item::before {content: \"\";position: absolute;border-left: 1px solid gray;box-sizing: border-box;top: 0;bottom: 0;left: 50%;z-index: -1;}#sk-container-id-1 div.sk-parallel-item {display: flex;flex-direction: column;z-index: 1;position: relative;background-color: white;}#sk-container-id-1 div.sk-parallel-item:first-child::after {align-self: flex-end;width: 50%;}#sk-container-id-1 div.sk-parallel-item:last-child::after {align-self: flex-start;width: 50%;}#sk-container-id-1 div.sk-parallel-item:only-child::after {width: 0;}#sk-container-id-1 div.sk-dashed-wrapped {border: 1px dashed gray;margin: 0 0.4em 0.5em 0.4em;box-sizing: border-box;padding-bottom: 0.4em;background-color: white;}#sk-container-id-1 div.sk-label label {font-family: monospace;font-weight: bold;display: inline-block;line-height: 1.2em;}#sk-container-id-1 div.sk-label-container {text-align: center;}#sk-container-id-1 div.sk-container {/* jupyter's `normalize.less` sets `[hidden] { display: none; }` but bootstrap.min.css set `[hidden] { display: none !important; }` so we also need the `!important` here to be able to override the default hidden behavior on the sphinx rendered scikit-learn.org. See: https://github.com/scikit-learn/scikit-learn/issues/21755 */display: inline-block !important;position: relative;}#sk-container-id-1 div.sk-text-repr-fallback {display: none;}</style><div id=\"sk-container-id-1\" class=\"sk-top-container\"><div class=\"sk-text-repr-fallback\"><pre>KNeighborsClassifier(n_neighbors=8)</pre><b>In a Jupyter environment, please rerun this cell to show the HTML representation or trust the notebook. <br />On GitHub, the HTML representation is unable to render, please try loading this page with nbviewer.org.</b></div><div class=\"sk-container\" hidden><div class=\"sk-item\"><div class=\"sk-estimator sk-toggleable\"><input class=\"sk-toggleable__control sk-hidden--visually\" id=\"sk-estimator-id-1\" type=\"checkbox\" checked><label for=\"sk-estimator-id-1\" class=\"sk-toggleable__label sk-toggleable__label-arrow\">KNeighborsClassifier</label><div class=\"sk-toggleable__content\"><pre>KNeighborsClassifier(n_neighbors=8)</pre></div></div></div></div></div>"
      ],
      "text/plain": [
       "KNeighborsClassifier(n_neighbors=8)"
      ]
     },
     "execution_count": 30,
     "metadata": {},
     "output_type": "execute_result"
    }
   ],
   "source": [
    "# Explore the results of the clustering \n",
    "knn = KNeighborsClassifier(n_neighbors=best)\n",
    "knn.fit(X_train, y_train) "
   ]
  },
  {
   "cell_type": "code",
   "execution_count": 31,
   "id": "8a8880e1",
   "metadata": {},
   "outputs": [],
   "source": [
    "df['Prediction_knn']=knn.predict(X)"
   ]
  },
  {
   "cell_type": "code",
   "execution_count": 32,
   "id": "e58318c9",
   "metadata": {},
   "outputs": [],
   "source": [
    "# We decided to analyze and compare the behaviour of the differente variables and its relation with\n",
    "# the prediction of the random forest model (this is the model with the best accuracy) and Malignancy"
   ]
  },
  {
   "cell_type": "code",
   "execution_count": 33,
   "id": "ff793c41",
   "metadata": {},
   "outputs": [
    {
     "name": "stdout",
     "output_type": "stream",
     "text": [
      "AxesSubplot(0.125,0.125;0.775x0.755)\n"
     ]
    },
    {
     "data": {
      "image/png": "[encoded data removed]",
      "text/plain": [
       "<Figure size 432x288 with 1 Axes>"
      ]
     },
     "metadata": {
      "needs_background": "light"
     },
     "output_type": "display_data"
    }
   ],
   "source": [
    "print(sns.histplot(x='Spiculation_Med',data=df[df[\"Prediction_rf\"]==True],bins=[0,0.5,1.5,2.5,3.5,4.5,5.5]))"
   ]
  },
  {
   "cell_type": "code",
   "execution_count": 34,
   "id": "2b5655a6",
   "metadata": {},
   "outputs": [
    {
     "name": "stdout",
     "output_type": "stream",
     "text": [
      "AxesSubplot(0.125,0.125;0.775x0.755)\n"
     ]
    },
    {
     "data": {
      "image/png": "[encoded data removed]",
      "text/plain": [
       "<Figure size 432x288 with 1 Axes>"
      ]
     },
     "metadata": {
      "needs_background": "light"
     },
     "output_type": "display_data"
    }
   ],
   "source": [
    "print(sns.histplot(x='Spiculation_Med',data=df[df[\"Prediction_rf\"]==False],bins=[0,0.5,1.5,2.5,3.5,4.5,5.5]))"
   ]
  },
  {
   "cell_type": "code",
   "execution_count": 35,
   "id": "107df751",
   "metadata": {},
   "outputs": [
    {
     "name": "stdout",
     "output_type": "stream",
     "text": [
      "AxesSubplot(0.125,0.125;0.775x0.755)\n"
     ]
    },
    {
     "data": {
      "image/png": "[encoded data removed]",
      "text/plain": [
       "<Figure size 432x288 with 1 Axes>"
      ]
     },
     "metadata": {
      "needs_background": "light"
     },
     "output_type": "display_data"
    }
   ],
   "source": [
    "print(sns.countplot(x='Spiculation_Min',data=df[df[\"Prediction_rf\"]==True]))"
   ]
  },
  {
   "cell_type": "code",
   "execution_count": 36,
   "id": "1107c745",
   "metadata": {},
   "outputs": [
    {
     "name": "stdout",
     "output_type": "stream",
     "text": [
      "AxesSubplot(0.125,0.125;0.775x0.755)\n"
     ]
    },
    {
     "data": {
      "image/png": "[encoded data removed]",
      "text/plain": [
       "<Figure size 432x288 with 1 Axes>"
      ]
     },
     "metadata": {
      "needs_background": "light"
     },
     "output_type": "display_data"
    }
   ],
   "source": [
    "print(sns.countplot(x='Spiculation_Min',data=df[df[\"Prediction_rf\"]==False]))"
   ]
  },
  {
   "cell_type": "code",
   "execution_count": 37,
   "id": "91518eae",
   "metadata": {},
   "outputs": [
    {
     "name": "stdout",
     "output_type": "stream",
     "text": [
      "AxesSubplot(0.125,0.125;0.775x0.755)\n"
     ]
    },
    {
     "data": {
      "image/png": "[encoded data removed]",
      "text/plain": [
       "<Figure size 432x288 with 1 Axes>"
      ]
     },
     "metadata": {
      "needs_background": "light"
     },
     "output_type": "display_data"
    }
   ],
   "source": [
    "print(sns.countplot(x='Spiculation_Max',data=df[df[\"Prediction_rf\"]==True]))"
   ]
  },
  {
   "cell_type": "code",
   "execution_count": 38,
   "id": "c7aeeeb7",
   "metadata": {},
   "outputs": [
    {
     "name": "stdout",
     "output_type": "stream",
     "text": [
      "AxesSubplot(0.125,0.125;0.775x0.755)\n"
     ]
    },
    {
     "data": {
      "image/png": "[encoded data removed]",
      "text/plain": [
       "<Figure size 432x288 with 1 Axes>"
      ]
     },
     "metadata": {
      "needs_background": "light"
     },
     "output_type": "display_data"
    }
   ],
   "source": [
    "print(sns.countplot(x='Spiculation_Max',data=df[df[\"Prediction_rf\"]==False]))"
   ]
  },
  {
   "cell_type": "code",
   "execution_count": 39,
   "id": "a9310448",
   "metadata": {},
   "outputs": [],
   "source": [
    "# Regarding the Spiculation and its relation with the prediction of malignancy, the variable that best distinguish \n",
    "# the classes is its max value. \n",
    "# In the following plots we can see that the separation between classes of malignancy is less evident."
   ]
  },
  {
   "cell_type": "code",
   "execution_count": 40,
   "id": "17574814",
   "metadata": {},
   "outputs": [
    {
     "name": "stdout",
     "output_type": "stream",
     "text": [
      "AxesSubplot(0.125,0.125;0.775x0.755)\n"
     ]
    },
    {
     "data": {
      "image/png": "[encoded data removed]",
      "text/plain": [
       "<Figure size 432x288 with 1 Axes>"
      ]
     },
     "metadata": {
      "needs_background": "light"
     },
     "output_type": "display_data"
    }
   ],
   "source": [
    "print(sns.countplot(x='Spiculation_Max',data=df[df[\"Malignancy\"]==True]))"
   ]
  },
  {
   "cell_type": "code",
   "execution_count": 41,
   "id": "3c15bd8a",
   "metadata": {},
   "outputs": [
    {
     "name": "stdout",
     "output_type": "stream",
     "text": [
      "AxesSubplot(0.125,0.125;0.775x0.755)\n"
     ]
    },
    {
     "data": {
      "image/png": "[encoded data removed]",
      "text/plain": [
       "<Figure size 432x288 with 1 Axes>"
      ]
     },
     "metadata": {
      "needs_background": "light"
     },
     "output_type": "display_data"
    }
   ],
   "source": [
    "print(sns.countplot(x='Spiculation_Max',data=df[df[\"Malignancy\"]==False]))"
   ]
  },
  {
   "cell_type": "code",
   "execution_count": 42,
   "id": "dc4071fe",
   "metadata": {},
   "outputs": [
    {
     "data": {
      "text/plain": [
       "1    2644\n",
       "4       4\n",
       "2       3\n",
       "Name: Internal_Structure, dtype: int64"
      ]
     },
     "execution_count": 42,
     "metadata": {},
     "output_type": "execute_result"
    }
   ],
   "source": [
    "# The information on the Internal_Structure variable has little value since \n",
    "# almost all elements have the same classification\n",
    "df['Internal_Structure'].value_counts()"
   ]
  },
  {
   "cell_type": "code",
   "execution_count": 43,
   "id": "940604e8",
   "metadata": {},
   "outputs": [
    {
     "name": "stdout",
     "output_type": "stream",
     "text": [
      "AxesSubplot(0.125,0.125;0.775x0.755)\n"
     ]
    },
    {
     "data": {
      "image/png": "[encoded data removed]",
      "text/plain": [
       "<Figure size 432x288 with 1 Axes>"
      ]
     },
     "metadata": {
      "needs_background": "light"
     },
     "output_type": "display_data"
    }
   ],
   "source": [
    "# Regarding Calcification the distributions obtained for the predictions and the real value of malignancy \n",
    "# are very similar\n",
    "\n",
    "print(sns.countplot(x='Calcification',data=df[df[\"Prediction_rf\"]==False]))"
   ]
  },
  {
   "cell_type": "code",
   "execution_count": 44,
   "id": "ade93e86",
   "metadata": {},
   "outputs": [
    {
     "name": "stdout",
     "output_type": "stream",
     "text": [
      "AxesSubplot(0.125,0.125;0.775x0.755)\n"
     ]
    },
    {
     "data": {
      "image/png": "[encoded data removed]",
      "text/plain": [
       "<Figure size 432x288 with 1 Axes>"
      ]
     },
     "metadata": {
      "needs_background": "light"
     },
     "output_type": "display_data"
    }
   ],
   "source": [
    "print(sns.countplot(x='Calcification',data=df[df[\"Malignancy\"]==False]))"
   ]
  },
  {
   "cell_type": "code",
   "execution_count": 45,
   "id": "533576a2",
   "metadata": {},
   "outputs": [
    {
     "name": "stdout",
     "output_type": "stream",
     "text": [
      "AxesSubplot(0.125,0.125;0.775x0.755)\n"
     ]
    },
    {
     "data": {
      "image/png": "[encoded data removed]",
      "text/plain": [
       "<Figure size 432x288 with 1 Axes>"
      ]
     },
     "metadata": {
      "needs_background": "light"
     },
     "output_type": "display_data"
    }
   ],
   "source": [
    "print(sns.countplot(x='Calcification',data=df[df[\"Prediction_rf\"]==True]))"
   ]
  },
  {
   "cell_type": "code",
   "execution_count": 46,
   "id": "2d3f9ce3",
   "metadata": {},
   "outputs": [
    {
     "name": "stdout",
     "output_type": "stream",
     "text": [
      "AxesSubplot(0.125,0.125;0.775x0.755)\n"
     ]
    },
    {
     "data": {
      "image/png": "[encoded data removed]",
      "text/plain": [
       "<Figure size 432x288 with 1 Axes>"
      ]
     },
     "metadata": {
      "needs_background": "light"
     },
     "output_type": "display_data"
    }
   ],
   "source": [
    "print(sns.countplot(x='Calcification',data=df[df[\"Malignancy\"]==True]))"
   ]
  },
  {
   "cell_type": "code",
   "execution_count": 47,
   "id": "c5cb8ff8",
   "metadata": {},
   "outputs": [
    {
     "name": "stdout",
     "output_type": "stream",
     "text": [
      "AxesSubplot(0.125,0.125;0.775x0.755)\n"
     ]
    },
    {
     "data": {
      "image/png": "[encoded data removed]",
      "text/plain": [
       "<Figure size 432x288 with 1 Axes>"
      ]
     },
     "metadata": {
      "needs_background": "light"
     },
     "output_type": "display_data"
    }
   ],
   "source": [
    "# Regarding Sphericity the distributions obtained for the predictions and the real value of malignancy \n",
    "# are very similar. Nevertheless it seams that it brings little information on the classification of the node.\n",
    "\n",
    "print(sns.countplot(x='Sphericity',data=df[df[\"Prediction_rf\"]==False]))"
   ]
  },
  {
   "cell_type": "code",
   "execution_count": 48,
   "id": "5ab24ae6",
   "metadata": {},
   "outputs": [
    {
     "name": "stdout",
     "output_type": "stream",
     "text": [
      "AxesSubplot(0.125,0.125;0.775x0.755)\n"
     ]
    },
    {
     "data": {
      "image/png": "[encoded data removed]",
      "text/plain": [
       "<Figure size 432x288 with 1 Axes>"
      ]
     },
     "metadata": {
      "needs_background": "light"
     },
     "output_type": "display_data"
    }
   ],
   "source": [
    "print(sns.countplot(x='Sphericity',data=df[df[\"Malignancy\"]==False]))"
   ]
  },
  {
   "cell_type": "code",
   "execution_count": 49,
   "id": "9100fbdf",
   "metadata": {},
   "outputs": [
    {
     "name": "stdout",
     "output_type": "stream",
     "text": [
      "AxesSubplot(0.125,0.125;0.775x0.755)\n"
     ]
    },
    {
     "data": {
      "image/png": "[encoded data removed]",
      "text/plain": [
       "<Figure size 432x288 with 1 Axes>"
      ]
     },
     "metadata": {
      "needs_background": "light"
     },
     "output_type": "display_data"
    }
   ],
   "source": [
    "print(sns.countplot(x='Sphericity',data=df[df[\"Prediction_rf\"]==True]))"
   ]
  },
  {
   "cell_type": "code",
   "execution_count": 50,
   "id": "ea97a669",
   "metadata": {},
   "outputs": [
    {
     "name": "stdout",
     "output_type": "stream",
     "text": [
      "AxesSubplot(0.125,0.125;0.775x0.755)\n"
     ]
    },
    {
     "data": {
      "image/png": "[encoded data removed]",
      "text/plain": [
       "<Figure size 432x288 with 1 Axes>"
      ]
     },
     "metadata": {
      "needs_background": "light"
     },
     "output_type": "display_data"
    }
   ],
   "source": [
    "print(sns.countplot(x='Sphericity',data=df[df[\"Malignancy\"]==True]))"
   ]
  },
  {
   "cell_type": "code",
   "execution_count": 51,
   "id": "c066ea22",
   "metadata": {},
   "outputs": [
    {
     "name": "stdout",
     "output_type": "stream",
     "text": [
      "AxesSubplot(0.125,0.125;0.775x0.755)\n"
     ]
    },
    {
     "data": {
      "image/png": "[encoded data removed]",
      "text/plain": [
       "<Figure size 432x288 with 1 Axes>"
      ]
     },
     "metadata": {
      "needs_background": "light"
     },
     "output_type": "display_data"
    }
   ],
   "source": [
    "# Regarding Margin_min the distributions obtained for the predictions and the real value of malignancy \n",
    "# are very similar and it seams that it might be interesting to be considered in the classification process\n",
    "\n",
    "print(sns.countplot(x='Margin_min',data=df[df[\"Prediction_rf\"]==False]))"
   ]
  },
  {
   "cell_type": "code",
   "execution_count": 52,
   "id": "07ac1d6b",
   "metadata": {},
   "outputs": [
    {
     "name": "stdout",
     "output_type": "stream",
     "text": [
      "AxesSubplot(0.125,0.125;0.775x0.755)\n"
     ]
    },
    {
     "data": {
      "image/png": "[encoded data removed]",
      "text/plain": [
       "<Figure size 432x288 with 1 Axes>"
      ]
     },
     "metadata": {
      "needs_background": "light"
     },
     "output_type": "display_data"
    }
   ],
   "source": [
    "print(sns.countplot(x='Margin_min',data=df[df[\"Malignancy\"]==False]))"
   ]
  },
  {
   "cell_type": "code",
   "execution_count": 53,
   "id": "94709466",
   "metadata": {},
   "outputs": [
    {
     "name": "stdout",
     "output_type": "stream",
     "text": [
      "AxesSubplot(0.125,0.125;0.775x0.755)\n"
     ]
    },
    {
     "data": {
      "image/png": "[encoded data removed]",
      "text/plain": [
       "<Figure size 432x288 with 1 Axes>"
      ]
     },
     "metadata": {
      "needs_background": "light"
     },
     "output_type": "display_data"
    }
   ],
   "source": [
    "print(sns.countplot(x='Margin_min',data=df[df[\"Prediction_rf\"]==True]))"
   ]
  },
  {
   "cell_type": "code",
   "execution_count": 54,
   "id": "fd09c268",
   "metadata": {},
   "outputs": [
    {
     "name": "stdout",
     "output_type": "stream",
     "text": [
      "AxesSubplot(0.125,0.125;0.775x0.755)\n"
     ]
    },
    {
     "data": {
      "image/png": "[encoded data removed]",
      "text/plain": [
       "<Figure size 432x288 with 1 Axes>"
      ]
     },
     "metadata": {
      "needs_background": "light"
     },
     "output_type": "display_data"
    }
   ],
   "source": [
    "print(sns.countplot(x='Margin_min',data=df[df[\"Malignancy\"]==True]))"
   ]
  },
  {
   "cell_type": "code",
   "execution_count": 55,
   "id": "76d81363",
   "metadata": {},
   "outputs": [
    {
     "name": "stdout",
     "output_type": "stream",
     "text": [
      "AxesSubplot(0.125,0.125;0.775x0.755)\n"
     ]
    },
    {
     "data": {
      "image/png": "[encoded data removed]",
      "text/plain": [
       "<Figure size 432x288 with 1 Axes>"
      ]
     },
     "metadata": {
      "needs_background": "light"
     },
     "output_type": "display_data"
    }
   ],
   "source": [
    "# Regarding Margin_mean the distributions obtained for the predictions and the real value of malignancy are\n",
    "# very similar and it seams that it might be less interesting than the minimum value to the classification process\n",
    "\n",
    "\n",
    "print(sns.histplot(x='Margin_mean',data=df[df[\"Prediction_rf\"]==False],bins=[0,0.5,1.5,2.5,3.5,4.5,5.5]))"
   ]
  },
  {
   "cell_type": "code",
   "execution_count": 56,
   "id": "2d60356c",
   "metadata": {},
   "outputs": [
    {
     "name": "stdout",
     "output_type": "stream",
     "text": [
      "AxesSubplot(0.125,0.125;0.775x0.755)\n"
     ]
    },
    {
     "data": {
      "image/png": "[encoded data removed]",
      "text/plain": [
       "<Figure size 432x288 with 1 Axes>"
      ]
     },
     "metadata": {
      "needs_background": "light"
     },
     "output_type": "display_data"
    }
   ],
   "source": [
    "print(sns.histplot(x='Margin_mean',data=df[df[\"Malignancy\"]==False],bins=[0,0.5,1.5,2.5,3.5,4.5,5.5]))"
   ]
  },
  {
   "cell_type": "code",
   "execution_count": 57,
   "id": "ed08cbd8",
   "metadata": {},
   "outputs": [
    {
     "name": "stdout",
     "output_type": "stream",
     "text": [
      "AxesSubplot(0.125,0.125;0.775x0.755)\n"
     ]
    },
    {
     "data": {
      "image/png": "[encoded data removed]",
      "text/plain": [
       "<Figure size 432x288 with 1 Axes>"
      ]
     },
     "metadata": {
      "needs_background": "light"
     },
     "output_type": "display_data"
    }
   ],
   "source": [
    "print(sns.histplot(x='Margin_mean',data=df[df[\"Prediction_rf\"]==True],bins=[0,0.5,1.5,2.5,3.5,4.5,5.5]))"
   ]
  },
  {
   "cell_type": "code",
   "execution_count": 58,
   "id": "ea464dc6",
   "metadata": {},
   "outputs": [
    {
     "name": "stdout",
     "output_type": "stream",
     "text": [
      "AxesSubplot(0.125,0.125;0.775x0.755)\n"
     ]
    },
    {
     "data": {
      "image/png": "[encoded data removed]",
      "text/plain": [
       "<Figure size 432x288 with 1 Axes>"
      ]
     },
     "metadata": {
      "needs_background": "light"
     },
     "output_type": "display_data"
    }
   ],
   "source": [
    "print(sns.histplot(x='Margin_mean',data=df[df[\"Malignancy\"]==True],bins=[0,0.5,1.5,2.5,3.5,4.5,5.5]))"
   ]
  },
  {
   "cell_type": "code",
   "execution_count": 59,
   "id": "05a60e70",
   "metadata": {},
   "outputs": [
    {
     "name": "stdout",
     "output_type": "stream",
     "text": [
      "AxesSubplot(0.125,0.125;0.775x0.755)\n"
     ]
    },
    {
     "data": {
      "image/png": "[encoded data removed]",
      "text/plain": [
       "<Figure size 432x288 with 1 Axes>"
      ]
     },
     "metadata": {
      "needs_background": "light"
     },
     "output_type": "display_data"
    }
   ],
   "source": [
    "# Regarding Margin_max the distributions obtained for the predictions and the real value of malignancy are very \n",
    "# similar and it it seams that it might be less interesting than the minimum value to the classification process\n",
    "\n",
    "print(sns.countplot(x='Margin_max',data=df[df[\"Prediction_rf\"]==False]))"
   ]
  },
  {
   "cell_type": "code",
   "execution_count": 60,
   "id": "1b63f87e",
   "metadata": {},
   "outputs": [
    {
     "name": "stdout",
     "output_type": "stream",
     "text": [
      "AxesSubplot(0.125,0.125;0.775x0.755)\n"
     ]
    },
    {
     "data": {
      "image/png": "[encoded data removed]",
      "text/plain": [
       "<Figure size 432x288 with 1 Axes>"
      ]
     },
     "metadata": {
      "needs_background": "light"
     },
     "output_type": "display_data"
    }
   ],
   "source": [
    "print(sns.countplot(x='Margin_max',data=df[df[\"Malignancy\"]==False]))"
   ]
  },
  {
   "cell_type": "code",
   "execution_count": 61,
   "id": "afc5233b",
   "metadata": {},
   "outputs": [
    {
     "name": "stdout",
     "output_type": "stream",
     "text": [
      "AxesSubplot(0.125,0.125;0.775x0.755)\n"
     ]
    },
    {
     "data": {
      "image/png": "[encoded data removed]",
      "text/plain": [
       "<Figure size 432x288 with 1 Axes>"
      ]
     },
     "metadata": {
      "needs_background": "light"
     },
     "output_type": "display_data"
    }
   ],
   "source": [
    "print(sns.countplot(x='Margin_max',data=df[df[\"Prediction_rf\"]==True]))"
   ]
  },
  {
   "cell_type": "code",
   "execution_count": 62,
   "id": "4a6eb014",
   "metadata": {},
   "outputs": [
    {
     "name": "stdout",
     "output_type": "stream",
     "text": [
      "AxesSubplot(0.125,0.125;0.775x0.755)\n"
     ]
    },
    {
     "data": {
      "image/png": "[encoded data removed]",
      "text/plain": [
       "<Figure size 432x288 with 1 Axes>"
      ]
     },
     "metadata": {
      "needs_background": "light"
     },
     "output_type": "display_data"
    }
   ],
   "source": [
    "print(sns.countplot(x='Margin_max',data=df[df[\"Malignancy\"]==True]))"
   ]
  },
  {
   "cell_type": "code",
   "execution_count": 63,
   "id": "a5b837b7",
   "metadata": {},
   "outputs": [
    {
     "name": "stdout",
     "output_type": "stream",
     "text": [
      "AxesSubplot(0.125,0.125;0.775x0.755)\n"
     ]
    },
    {
     "data": {
      "image/png": "[encoded data removed]",
      "text/plain": [
       "<Figure size 432x288 with 1 Axes>"
      ]
     },
     "metadata": {
      "needs_background": "light"
     },
     "output_type": "display_data"
    }
   ],
   "source": [
    "# Regarding Lobulation_min the distributions obtained for the predictions and the real value of malignancy \n",
    "# are very similar and it seams that it might be interesting to be considered in the classification process\n",
    "\n",
    "print(sns.countplot(x='Lobulation_min',data=df[df[\"Prediction_rf\"]==False]))"
   ]
  },
  {
   "cell_type": "code",
   "execution_count": 64,
   "id": "d8f40c8c",
   "metadata": {},
   "outputs": [
    {
     "name": "stdout",
     "output_type": "stream",
     "text": [
      "AxesSubplot(0.125,0.125;0.775x0.755)\n"
     ]
    },
    {
     "data": {
      "image/png": "[encoded data removed]",
      "text/plain": [
       "<Figure size 432x288 with 1 Axes>"
      ]
     },
     "metadata": {
      "needs_background": "light"
     },
     "output_type": "display_data"
    }
   ],
   "source": [
    "print(sns.countplot(x='Lobulation_min',data=df[df[\"Malignancy\"]==False]))"
   ]
  },
  {
   "cell_type": "code",
   "execution_count": 65,
   "id": "adb529d4",
   "metadata": {},
   "outputs": [
    {
     "name": "stdout",
     "output_type": "stream",
     "text": [
      "AxesSubplot(0.125,0.125;0.775x0.755)\n"
     ]
    },
    {
     "data": {
      "image/png": "[encoded data removed]",
      "text/plain": [
       "<Figure size 432x288 with 1 Axes>"
      ]
     },
     "metadata": {
      "needs_background": "light"
     },
     "output_type": "display_data"
    }
   ],
   "source": [
    "print(sns.countplot(x='Lobulation_min',data=df[df[\"Prediction_rf\"]==True]))"
   ]
  },
  {
   "cell_type": "code",
   "execution_count": 66,
   "id": "0d3d2117",
   "metadata": {},
   "outputs": [
    {
     "name": "stdout",
     "output_type": "stream",
     "text": [
      "AxesSubplot(0.125,0.125;0.775x0.755)\n"
     ]
    },
    {
     "data": {
      "image/png": "[encoded data removed]",
      "text/plain": [
       "<Figure size 432x288 with 1 Axes>"
      ]
     },
     "metadata": {
      "needs_background": "light"
     },
     "output_type": "display_data"
    }
   ],
   "source": [
    "print(sns.countplot(x='Lobulation_min',data=df[df[\"Malignancy\"]==True]))"
   ]
  },
  {
   "cell_type": "code",
   "execution_count": 67,
   "id": "7c827916",
   "metadata": {},
   "outputs": [
    {
     "name": "stdout",
     "output_type": "stream",
     "text": [
      "AxesSubplot(0.125,0.125;0.775x0.755)\n"
     ]
    },
    {
     "data": {
      "image/png": "[encoded data removed]",
      "text/plain": [
       "<Figure size 432x288 with 1 Axes>"
      ]
     },
     "metadata": {
      "needs_background": "light"
     },
     "output_type": "display_data"
    }
   ],
   "source": [
    "# Regarding Lobulation_mean the distributions obtained for the predictions and the real value of malignancy are\n",
    "# very similar and it seams that it also might be interesting to the classification process\n",
    "\n",
    "\n",
    "print(sns.histplot(x='Lobulation_mean',data=df[df[\"Prediction_rf\"]==False],bins=[0,0.5,1.5,2.5,3.5,4.5,5.5]))"
   ]
  },
  {
   "cell_type": "code",
   "execution_count": 68,
   "id": "6d1aa656",
   "metadata": {},
   "outputs": [
    {
     "name": "stdout",
     "output_type": "stream",
     "text": [
      "AxesSubplot(0.125,0.125;0.775x0.755)\n"
     ]
    },
    {
     "data": {
      "image/png": "[encoded data removed]",
      "text/plain": [
       "<Figure size 432x288 with 1 Axes>"
      ]
     },
     "metadata": {
      "needs_background": "light"
     },
     "output_type": "display_data"
    }
   ],
   "source": [
    "print(sns.histplot(x='Lobulation_mean',data=df[df[\"Malignancy\"]==False],bins=[0,0.5,1.5,2.5,3.5,4.5,5.5]))"
   ]
  },
  {
   "cell_type": "code",
   "execution_count": 69,
   "id": "6cb0231e",
   "metadata": {},
   "outputs": [
    {
     "name": "stdout",
     "output_type": "stream",
     "text": [
      "AxesSubplot(0.125,0.125;0.775x0.755)\n"
     ]
    },
    {
     "data": {
      "image/png": "[encoded data removed]",
      "text/plain": [
       "<Figure size 432x288 with 1 Axes>"
      ]
     },
     "metadata": {
      "needs_background": "light"
     },
     "output_type": "display_data"
    }
   ],
   "source": [
    "print(sns.histplot(x='Lobulation_mean',data=df[df[\"Prediction_rf\"]==True],bins=[0,0.5,1.5,2.5,3.5,4.5,5.5]))"
   ]
  },
  {
   "cell_type": "code",
   "execution_count": 70,
   "id": "37fb7b98",
   "metadata": {},
   "outputs": [
    {
     "name": "stdout",
     "output_type": "stream",
     "text": [
      "AxesSubplot(0.125,0.125;0.775x0.755)\n"
     ]
    },
    {
     "data": {
      "image/png": "[encoded data removed]",
      "text/plain": [
       "<Figure size 432x288 with 1 Axes>"
      ]
     },
     "metadata": {
      "needs_background": "light"
     },
     "output_type": "display_data"
    }
   ],
   "source": [
    "print(sns.histplot(x='Lobulation_mean',data=df[df[\"Malignancy\"]==True],bins=[0,0.5,1.5,2.5,3.5,4.5,5.5]))"
   ]
  },
  {
   "cell_type": "code",
   "execution_count": 71,
   "id": "b9dba7b9",
   "metadata": {},
   "outputs": [
    {
     "name": "stdout",
     "output_type": "stream",
     "text": [
      "AxesSubplot(0.125,0.125;0.775x0.755)\n"
     ]
    },
    {
     "data": {
      "image/png": "[encoded data removed]",
      "text/plain": [
       "<Figure size 432x288 with 1 Axes>"
      ]
     },
     "metadata": {
      "needs_background": "light"
     },
     "output_type": "display_data"
    }
   ],
   "source": [
    "# Regarding Lobulation_max the distributions obtained for the predictions and the real value of malignancy \n",
    "# are similar and it seams that it might be interesting to be considered in the classification process\n",
    "\n",
    "print(sns.countplot(x='Lobulation_max',data=df[df[\"Prediction_rf\"]==False]))"
   ]
  },
  {
   "cell_type": "code",
   "execution_count": 72,
   "id": "d978a5ff",
   "metadata": {},
   "outputs": [
    {
     "name": "stdout",
     "output_type": "stream",
     "text": [
      "AxesSubplot(0.125,0.125;0.775x0.755)\n"
     ]
    },
    {
     "data": {
      "image/png": "[encoded data removed]",
      "text/plain": [
       "<Figure size 432x288 with 1 Axes>"
      ]
     },
     "metadata": {
      "needs_background": "light"
     },
     "output_type": "display_data"
    }
   ],
   "source": [
    "print(sns.countplot(x='Lobulation_max',data=df[df[\"Malignancy\"]==False]))"
   ]
  },
  {
   "cell_type": "code",
   "execution_count": 73,
   "id": "8b1f7a76",
   "metadata": {},
   "outputs": [
    {
     "name": "stdout",
     "output_type": "stream",
     "text": [
      "AxesSubplot(0.125,0.125;0.775x0.755)\n"
     ]
    },
    {
     "data": {
      "image/png": "[encoded data removed]",
      "text/plain": [
       "<Figure size 432x288 with 1 Axes>"
      ]
     },
     "metadata": {
      "needs_background": "light"
     },
     "output_type": "display_data"
    }
   ],
   "source": [
    "print(sns.countplot(x='Lobulation_max',data=df[df[\"Prediction_rf\"]==True]))"
   ]
  },
  {
   "cell_type": "code",
   "execution_count": 74,
   "id": "42473396",
   "metadata": {},
   "outputs": [
    {
     "name": "stdout",
     "output_type": "stream",
     "text": [
      "AxesSubplot(0.125,0.125;0.775x0.755)\n"
     ]
    },
    {
     "data": {
      "image/png": "[encoded data removed]",
      "text/plain": [
       "<Figure size 432x288 with 1 Axes>"
      ]
     },
     "metadata": {
      "needs_background": "light"
     },
     "output_type": "display_data"
    }
   ],
   "source": [
    "print(sns.countplot(x='Lobulation_max',data=df[df[\"Malignancy\"]==True]))"
   ]
  },
  {
   "cell_type": "code",
   "execution_count": 75,
   "id": "10315947",
   "metadata": {},
   "outputs": [
    {
     "data": {
      "text/html": [
       "<div>\n",
       "<style scoped>\n",
       "    .dataframe tbody tr th:only-of-type {\n",
       "        vertical-align: middle;\n",
       "    }\n",
       "\n",
       "    .dataframe tbody tr th {\n",
       "        vertical-align: top;\n",
       "    }\n",
       "\n",
       "    .dataframe thead th {\n",
       "        text-align: right;\n",
       "    }\n",
       "</style>\n",
       "<table border=\"1\" class=\"dataframe\">\n",
       "  <thead>\n",
       "    <tr style=\"text-align: right;\">\n",
       "      <th></th>\n",
       "      <th>Lobulation_min</th>\n",
       "      <th>Lobulation_mean</th>\n",
       "      <th>Lobulation_max</th>\n",
       "    </tr>\n",
       "  </thead>\n",
       "  <tbody>\n",
       "    <tr>\n",
       "      <th>Lobulation_min</th>\n",
       "      <td>1.000000</td>\n",
       "      <td>0.795013</td>\n",
       "      <td>0.508459</td>\n",
       "    </tr>\n",
       "    <tr>\n",
       "      <th>Lobulation_mean</th>\n",
       "      <td>0.795013</td>\n",
       "      <td>1.000000</td>\n",
       "      <td>0.896387</td>\n",
       "    </tr>\n",
       "    <tr>\n",
       "      <th>Lobulation_max</th>\n",
       "      <td>0.508459</td>\n",
       "      <td>0.896387</td>\n",
       "      <td>1.000000</td>\n",
       "    </tr>\n",
       "  </tbody>\n",
       "</table>\n",
       "</div>"
      ],
      "text/plain": [
       "                 Lobulation_min  Lobulation_mean  Lobulation_max\n",
       "Lobulation_min         1.000000         0.795013        0.508459\n",
       "Lobulation_mean        0.795013         1.000000        0.896387\n",
       "Lobulation_max         0.508459         0.896387        1.000000"
      ]
     },
     "execution_count": 75,
     "metadata": {},
     "output_type": "execute_result"
    }
   ],
   "source": [
    "# To simplify the model, we calculated the correlation between all the Lobulation variables \n",
    "# Since the correlation betweem the mean value and the other two is high we will keep only this\n",
    "\n",
    "df[['Lobulation_min', 'Lobulation_mean','Lobulation_max']].corr()"
   ]
  },
  {
   "cell_type": "code",
   "execution_count": 76,
   "id": "1d48d1b5",
   "metadata": {},
   "outputs": [
    {
     "name": "stdout",
     "output_type": "stream",
     "text": [
      "AxesSubplot(0.125,0.125;0.775x0.755)\n"
     ]
    },
    {
     "data": {
      "image/png": "[encoded data removed]",
      "text/plain": [
       "<Figure size 432x288 with 1 Axes>"
      ]
     },
     "metadata": {
      "needs_background": "light"
     },
     "output_type": "display_data"
    }
   ],
   "source": [
    "# Regarding Texture the distributions obtained for the predictions and the real value of malignancy \n",
    "# are similar but it seams that it might not be interesting to be considered in the classification process\n",
    "\n",
    "print(sns.countplot(x='Texture',data=df[df[\"Prediction_rf\"]==False]))"
   ]
  },
  {
   "cell_type": "code",
   "execution_count": 77,
   "id": "30e7ce3d",
   "metadata": {},
   "outputs": [
    {
     "name": "stdout",
     "output_type": "stream",
     "text": [
      "AxesSubplot(0.125,0.125;0.775x0.755)\n"
     ]
    },
    {
     "data": {
      "image/png": "[encoded data removed]",
      "text/plain": [
       "<Figure size 432x288 with 1 Axes>"
      ]
     },
     "metadata": {
      "needs_background": "light"
     },
     "output_type": "display_data"
    }
   ],
   "source": [
    "print(sns.countplot(x='Texture',data=df[df[\"Malignancy\"]==False]))"
   ]
  },
  {
   "cell_type": "code",
   "execution_count": 78,
   "id": "b5118ba9",
   "metadata": {},
   "outputs": [
    {
     "name": "stdout",
     "output_type": "stream",
     "text": [
      "AxesSubplot(0.125,0.125;0.775x0.755)\n"
     ]
    },
    {
     "data": {
      "image/png": "[encoded data removed]",
      "text/plain": [
       "<Figure size 432x288 with 1 Axes>"
      ]
     },
     "metadata": {
      "needs_background": "light"
     },
     "output_type": "display_data"
    }
   ],
   "source": [
    "print(sns.countplot(x='Texture',data=df[df[\"Prediction_rf\"]==True]))"
   ]
  },
  {
   "cell_type": "code",
   "execution_count": 79,
   "id": "490f78e5",
   "metadata": {},
   "outputs": [
    {
     "name": "stdout",
     "output_type": "stream",
     "text": [
      "AxesSubplot(0.125,0.125;0.775x0.755)\n"
     ]
    },
    {
     "data": {
      "image/png": "[encoded data removed]",
      "text/plain": [
       "<Figure size 432x288 with 1 Axes>"
      ]
     },
     "metadata": {
      "needs_background": "light"
     },
     "output_type": "display_data"
    }
   ],
   "source": [
    "print(sns.countplot(x='Texture',data=df[df[\"Malignancy\"]==True]))"
   ]
  },
  {
   "cell_type": "code",
   "execution_count": 80,
   "id": "c7e3ab0a",
   "metadata": {},
   "outputs": [
    {
     "name": "stdout",
     "output_type": "stream",
     "text": [
      "AxesSubplot(0.125,0.125;0.775x0.755)\n"
     ]
    },
    {
     "data": {
      "image/png": "[encoded data removed]",
      "text/plain": [
       "<Figure size 432x288 with 1 Axes>"
      ]
     },
     "metadata": {
      "needs_background": "light"
     },
     "output_type": "display_data"
    }
   ],
   "source": [
    "# Regarding N nods the distributions obtained for the predictions and the real value of malignancy \n",
    "# are similar but it seams that it might not be interesting to be considered in the classification process\n",
    "\n",
    "print(sns.countplot(x='N nods',data=df[df[\"Prediction_rf\"]==False]))"
   ]
  },
  {
   "cell_type": "code",
   "execution_count": 81,
   "id": "3fe70b08",
   "metadata": {},
   "outputs": [
    {
     "name": "stdout",
     "output_type": "stream",
     "text": [
      "AxesSubplot(0.125,0.125;0.775x0.755)\n"
     ]
    },
    {
     "data": {
      "image/png": "[encoded data removed]",
      "text/plain": [
       "<Figure size 432x288 with 1 Axes>"
      ]
     },
     "metadata": {
      "needs_background": "light"
     },
     "output_type": "display_data"
    }
   ],
   "source": [
    "print(sns.countplot(x='N nods',data=df[df[\"Malignancy\"]==False]))"
   ]
  },
  {
   "cell_type": "code",
   "execution_count": 82,
   "id": "8f30c0cc",
   "metadata": {},
   "outputs": [
    {
     "name": "stdout",
     "output_type": "stream",
     "text": [
      "AxesSubplot(0.125,0.125;0.775x0.755)\n"
     ]
    },
    {
     "data": {
      "image/png": "[encoded data removed]",
      "text/plain": [
       "<Figure size 432x288 with 1 Axes>"
      ]
     },
     "metadata": {
      "needs_background": "light"
     },
     "output_type": "display_data"
    }
   ],
   "source": [
    "print(sns.countplot(x='N nods',data=df[df[\"Prediction_rf\"]==True]))"
   ]
  },
  {
   "cell_type": "code",
   "execution_count": 83,
   "id": "0187aba6",
   "metadata": {},
   "outputs": [
    {
     "name": "stdout",
     "output_type": "stream",
     "text": [
      "AxesSubplot(0.125,0.125;0.775x0.755)\n"
     ]
    },
    {
     "data": {
      "image/png": "[encoded data removed]",
      "text/plain": [
       "<Figure size 432x288 with 1 Axes>"
      ]
     },
     "metadata": {
      "needs_background": "light"
     },
     "output_type": "display_data"
    }
   ],
   "source": [
    "print(sns.countplot(x='N nods',data=df[df[\"Malignancy\"]==True]))"
   ]
  },
  {
   "cell_type": "code",
   "execution_count": 84,
   "id": "33f5bf05",
   "metadata": {},
   "outputs": [],
   "source": [
    "# To cunstruct the same models but using only the features that we considered interesting we created \n",
    "# a CSV file to be explored in a diferente notebook (prediction_clean.ipynb)\n",
    "\n",
    "df[{'Spiculation_Max','Calcification','Margin_min','Lobulation_mean','Malignancy'}].to_csv(\"clean.csv\")"
   ]
  },
  {
   "cell_type": "code",
   "execution_count": 85,
   "id": "fc5bfc00",
   "metadata": {},
   "outputs": [
    {
     "data": {
      "text/html": [
       "<div>\n",
       "<style scoped>\n",
       "    .dataframe tbody tr th:only-of-type {\n",
       "        vertical-align: middle;\n",
       "    }\n",
       "\n",
       "    .dataframe tbody tr th {\n",
       "        vertical-align: top;\n",
       "    }\n",
       "\n",
       "    .dataframe thead th {\n",
       "        text-align: right;\n",
       "    }\n",
       "</style>\n",
       "<table border=\"1\" class=\"dataframe\">\n",
       "  <thead>\n",
       "    <tr style=\"text-align: right;\">\n",
       "      <th></th>\n",
       "      <th>Prediction_dt</th>\n",
       "      <th>Prediction_rf</th>\n",
       "      <th>Malignancy</th>\n",
       "      <th>Prediction_knn</th>\n",
       "    </tr>\n",
       "  </thead>\n",
       "  <tbody>\n",
       "    <tr>\n",
       "      <th>0</th>\n",
       "      <td>True</td>\n",
       "      <td>True</td>\n",
       "      <td>True</td>\n",
       "      <td>True</td>\n",
       "    </tr>\n",
       "    <tr>\n",
       "      <th>1</th>\n",
       "      <td>True</td>\n",
       "      <td>True</td>\n",
       "      <td>True</td>\n",
       "      <td>True</td>\n",
       "    </tr>\n",
       "    <tr>\n",
       "      <th>2</th>\n",
       "      <td>False</td>\n",
       "      <td>False</td>\n",
       "      <td>False</td>\n",
       "      <td>False</td>\n",
       "    </tr>\n",
       "    <tr>\n",
       "      <th>3</th>\n",
       "      <td>True</td>\n",
       "      <td>True</td>\n",
       "      <td>True</td>\n",
       "      <td>True</td>\n",
       "    </tr>\n",
       "    <tr>\n",
       "      <th>4</th>\n",
       "      <td>True</td>\n",
       "      <td>True</td>\n",
       "      <td>True</td>\n",
       "      <td>True</td>\n",
       "    </tr>\n",
       "    <tr>\n",
       "      <th>5</th>\n",
       "      <td>False</td>\n",
       "      <td>False</td>\n",
       "      <td>False</td>\n",
       "      <td>False</td>\n",
       "    </tr>\n",
       "    <tr>\n",
       "      <th>6</th>\n",
       "      <td>False</td>\n",
       "      <td>True</td>\n",
       "      <td>True</td>\n",
       "      <td>True</td>\n",
       "    </tr>\n",
       "    <tr>\n",
       "      <th>7</th>\n",
       "      <td>False</td>\n",
       "      <td>True</td>\n",
       "      <td>False</td>\n",
       "      <td>False</td>\n",
       "    </tr>\n",
       "    <tr>\n",
       "      <th>8</th>\n",
       "      <td>False</td>\n",
       "      <td>False</td>\n",
       "      <td>False</td>\n",
       "      <td>False</td>\n",
       "    </tr>\n",
       "    <tr>\n",
       "      <th>9</th>\n",
       "      <td>False</td>\n",
       "      <td>False</td>\n",
       "      <td>False</td>\n",
       "      <td>True</td>\n",
       "    </tr>\n",
       "  </tbody>\n",
       "</table>\n",
       "</div>"
      ],
      "text/plain": [
       "   Prediction_dt  Prediction_rf  Malignancy  Prediction_knn\n",
       "0           True           True        True            True\n",
       "1           True           True        True            True\n",
       "2          False          False       False           False\n",
       "3           True           True        True            True\n",
       "4           True           True        True            True\n",
       "5          False          False       False           False\n",
       "6          False           True        True            True\n",
       "7          False           True       False           False\n",
       "8          False          False       False           False\n",
       "9          False          False       False            True"
      ]
     },
     "execution_count": 85,
     "metadata": {},
     "output_type": "execute_result"
    }
   ],
   "source": [
    "# Since the prediction given from the different models are different in some situations \n",
    "# we decided to combine the predictions of all three\n",
    "\n",
    "df[{'Prediction_dt','Prediction_rf','Prediction_knn','Malignancy'}].head(10)"
   ]
  },
  {
   "cell_type": "code",
   "execution_count": 86,
   "id": "cd8751af",
   "metadata": {},
   "outputs": [
    {
     "data": {
      "text/html": [
       "<div>\n",
       "<style scoped>\n",
       "    .dataframe tbody tr th:only-of-type {\n",
       "        vertical-align: middle;\n",
       "    }\n",
       "\n",
       "    .dataframe tbody tr th {\n",
       "        vertical-align: top;\n",
       "    }\n",
       "\n",
       "    .dataframe thead th {\n",
       "        text-align: right;\n",
       "    }\n",
       "</style>\n",
       "<table border=\"1\" class=\"dataframe\">\n",
       "  <thead>\n",
       "    <tr style=\"text-align: right;\">\n",
       "      <th>Prediction_dt</th>\n",
       "      <th>False</th>\n",
       "      <th>True</th>\n",
       "    </tr>\n",
       "    <tr>\n",
       "      <th>Malignancy</th>\n",
       "      <th></th>\n",
       "      <th></th>\n",
       "    </tr>\n",
       "  </thead>\n",
       "  <tbody>\n",
       "    <tr>\n",
       "      <th>False</th>\n",
       "      <td>2029</td>\n",
       "      <td>68</td>\n",
       "    </tr>\n",
       "    <tr>\n",
       "      <th>True</th>\n",
       "      <td>324</td>\n",
       "      <td>230</td>\n",
       "    </tr>\n",
       "  </tbody>\n",
       "</table>\n",
       "</div>"
      ],
      "text/plain": [
       "Prediction_dt  False  True\n",
       "Malignancy                \n",
       "False           2029    68\n",
       "True             324   230"
      ]
     },
     "execution_count": 86,
     "metadata": {},
     "output_type": "execute_result"
    }
   ],
   "source": [
    "# The following corss tables show the differences between the models predictions and its relations to the real value \n",
    "pd.crosstab(df['Malignancy'], df['Prediction_dt'], rownames=['Malignancy'], colnames=['Prediction_dt'])"
   ]
  },
  {
   "cell_type": "code",
   "execution_count": 87,
   "id": "bf530e6e",
   "metadata": {},
   "outputs": [
    {
     "data": {
      "text/html": [
       "<div>\n",
       "<style scoped>\n",
       "    .dataframe tbody tr th:only-of-type {\n",
       "        vertical-align: middle;\n",
       "    }\n",
       "\n",
       "    .dataframe tbody tr th {\n",
       "        vertical-align: top;\n",
       "    }\n",
       "\n",
       "    .dataframe thead th {\n",
       "        text-align: right;\n",
       "    }\n",
       "</style>\n",
       "<table border=\"1\" class=\"dataframe\">\n",
       "  <thead>\n",
       "    <tr style=\"text-align: right;\">\n",
       "      <th>Prediction_rf</th>\n",
       "      <th>False</th>\n",
       "      <th>True</th>\n",
       "    </tr>\n",
       "    <tr>\n",
       "      <th>Malignancy</th>\n",
       "      <th></th>\n",
       "      <th></th>\n",
       "    </tr>\n",
       "  </thead>\n",
       "  <tbody>\n",
       "    <tr>\n",
       "      <th>False</th>\n",
       "      <td>2041</td>\n",
       "      <td>56</td>\n",
       "    </tr>\n",
       "    <tr>\n",
       "      <th>True</th>\n",
       "      <td>256</td>\n",
       "      <td>298</td>\n",
       "    </tr>\n",
       "  </tbody>\n",
       "</table>\n",
       "</div>"
      ],
      "text/plain": [
       "Prediction_rf  False  True\n",
       "Malignancy                \n",
       "False           2041    56\n",
       "True             256   298"
      ]
     },
     "execution_count": 87,
     "metadata": {},
     "output_type": "execute_result"
    }
   ],
   "source": [
    "pd.crosstab(df['Malignancy'], df['Prediction_rf'], rownames=['Malignancy'], colnames=['Prediction_rf'])"
   ]
  },
  {
   "cell_type": "code",
   "execution_count": 88,
   "id": "80bae35e",
   "metadata": {},
   "outputs": [
    {
     "data": {
      "text/html": [
       "<div>\n",
       "<style scoped>\n",
       "    .dataframe tbody tr th:only-of-type {\n",
       "        vertical-align: middle;\n",
       "    }\n",
       "\n",
       "    .dataframe tbody tr th {\n",
       "        vertical-align: top;\n",
       "    }\n",
       "\n",
       "    .dataframe thead th {\n",
       "        text-align: right;\n",
       "    }\n",
       "</style>\n",
       "<table border=\"1\" class=\"dataframe\">\n",
       "  <thead>\n",
       "    <tr style=\"text-align: right;\">\n",
       "      <th>Prediction_knn</th>\n",
       "      <th>False</th>\n",
       "      <th>True</th>\n",
       "    </tr>\n",
       "    <tr>\n",
       "      <th>Malignancy</th>\n",
       "      <th></th>\n",
       "      <th></th>\n",
       "    </tr>\n",
       "  </thead>\n",
       "  <tbody>\n",
       "    <tr>\n",
       "      <th>False</th>\n",
       "      <td>2048</td>\n",
       "      <td>49</td>\n",
       "    </tr>\n",
       "    <tr>\n",
       "      <th>True</th>\n",
       "      <td>309</td>\n",
       "      <td>245</td>\n",
       "    </tr>\n",
       "  </tbody>\n",
       "</table>\n",
       "</div>"
      ],
      "text/plain": [
       "Prediction_knn  False  True\n",
       "Malignancy                 \n",
       "False            2048    49\n",
       "True              309   245"
      ]
     },
     "execution_count": 88,
     "metadata": {},
     "output_type": "execute_result"
    }
   ],
   "source": [
    "pd.crosstab(df['Malignancy'], df['Prediction_knn'], rownames=['Malignancy'], colnames=['Prediction_knn'])"
   ]
  },
  {
   "cell_type": "code",
   "execution_count": 89,
   "id": "eb30d782",
   "metadata": {},
   "outputs": [
    {
     "data": {
      "text/html": [
       "<div>\n",
       "<style scoped>\n",
       "    .dataframe tbody tr th:only-of-type {\n",
       "        vertical-align: middle;\n",
       "    }\n",
       "\n",
       "    .dataframe tbody tr th {\n",
       "        vertical-align: top;\n",
       "    }\n",
       "\n",
       "    .dataframe thead th {\n",
       "        text-align: right;\n",
       "    }\n",
       "</style>\n",
       "<table border=\"1\" class=\"dataframe\">\n",
       "  <thead>\n",
       "    <tr style=\"text-align: right;\">\n",
       "      <th>Prediction_rf</th>\n",
       "      <th>False</th>\n",
       "      <th>True</th>\n",
       "    </tr>\n",
       "    <tr>\n",
       "      <th>Prediction_dt</th>\n",
       "      <th></th>\n",
       "      <th></th>\n",
       "    </tr>\n",
       "  </thead>\n",
       "  <tbody>\n",
       "    <tr>\n",
       "      <th>False</th>\n",
       "      <td>2246</td>\n",
       "      <td>107</td>\n",
       "    </tr>\n",
       "    <tr>\n",
       "      <th>True</th>\n",
       "      <td>51</td>\n",
       "      <td>247</td>\n",
       "    </tr>\n",
       "  </tbody>\n",
       "</table>\n",
       "</div>"
      ],
      "text/plain": [
       "Prediction_rf  False  True\n",
       "Prediction_dt             \n",
       "False           2246   107\n",
       "True              51   247"
      ]
     },
     "execution_count": 89,
     "metadata": {},
     "output_type": "execute_result"
    }
   ],
   "source": [
    "pd.crosstab(df['Prediction_dt'], df['Prediction_rf'], rownames=['Prediction_dt'], colnames=['Prediction_rf'])"
   ]
  },
  {
   "cell_type": "code",
   "execution_count": 90,
   "id": "53be2de2",
   "metadata": {},
   "outputs": [
    {
     "data": {
      "text/html": [
       "<div>\n",
       "<style scoped>\n",
       "    .dataframe tbody tr th:only-of-type {\n",
       "        vertical-align: middle;\n",
       "    }\n",
       "\n",
       "    .dataframe tbody tr th {\n",
       "        vertical-align: top;\n",
       "    }\n",
       "\n",
       "    .dataframe thead th {\n",
       "        text-align: right;\n",
       "    }\n",
       "</style>\n",
       "<table border=\"1\" class=\"dataframe\">\n",
       "  <thead>\n",
       "    <tr style=\"text-align: right;\">\n",
       "      <th>Prediction_knn</th>\n",
       "      <th>False</th>\n",
       "      <th>True</th>\n",
       "    </tr>\n",
       "    <tr>\n",
       "      <th>Prediction_dt</th>\n",
       "      <th></th>\n",
       "      <th></th>\n",
       "    </tr>\n",
       "  </thead>\n",
       "  <tbody>\n",
       "    <tr>\n",
       "      <th>False</th>\n",
       "      <td>2274</td>\n",
       "      <td>79</td>\n",
       "    </tr>\n",
       "    <tr>\n",
       "      <th>True</th>\n",
       "      <td>83</td>\n",
       "      <td>215</td>\n",
       "    </tr>\n",
       "  </tbody>\n",
       "</table>\n",
       "</div>"
      ],
      "text/plain": [
       "Prediction_knn  False  True\n",
       "Prediction_dt              \n",
       "False            2274    79\n",
       "True               83   215"
      ]
     },
     "execution_count": 90,
     "metadata": {},
     "output_type": "execute_result"
    }
   ],
   "source": [
    "pd.crosstab(df['Prediction_dt'], df['Prediction_knn'], rownames=['Prediction_dt'], colnames=['Prediction_knn'])"
   ]
  },
  {
   "cell_type": "code",
   "execution_count": 91,
   "id": "8660cb1a",
   "metadata": {},
   "outputs": [
    {
     "data": {
      "text/html": [
       "<div>\n",
       "<style scoped>\n",
       "    .dataframe tbody tr th:only-of-type {\n",
       "        vertical-align: middle;\n",
       "    }\n",
       "\n",
       "    .dataframe tbody tr th {\n",
       "        vertical-align: top;\n",
       "    }\n",
       "\n",
       "    .dataframe thead th {\n",
       "        text-align: right;\n",
       "    }\n",
       "</style>\n",
       "<table border=\"1\" class=\"dataframe\">\n",
       "  <thead>\n",
       "    <tr style=\"text-align: right;\">\n",
       "      <th>Prediction_rf</th>\n",
       "      <th>False</th>\n",
       "      <th>True</th>\n",
       "    </tr>\n",
       "    <tr>\n",
       "      <th>Prediction_knn</th>\n",
       "      <th></th>\n",
       "      <th></th>\n",
       "    </tr>\n",
       "  </thead>\n",
       "  <tbody>\n",
       "    <tr>\n",
       "      <th>False</th>\n",
       "      <td>2262</td>\n",
       "      <td>95</td>\n",
       "    </tr>\n",
       "    <tr>\n",
       "      <th>True</th>\n",
       "      <td>35</td>\n",
       "      <td>259</td>\n",
       "    </tr>\n",
       "  </tbody>\n",
       "</table>\n",
       "</div>"
      ],
      "text/plain": [
       "Prediction_rf   False  True\n",
       "Prediction_knn             \n",
       "False            2262    95\n",
       "True               35   259"
      ]
     },
     "execution_count": 91,
     "metadata": {},
     "output_type": "execute_result"
    }
   ],
   "source": [
    "pd.crosstab(df['Prediction_knn'], df['Prediction_rf'], rownames=['Prediction_knn'], colnames=['Prediction_rf'])"
   ]
  },
  {
   "cell_type": "code",
   "execution_count": 92,
   "id": "cb400e4c",
   "metadata": {},
   "outputs": [],
   "source": [
    "# To explore this idea we constructed a new csv file to be explored in a \n",
    "# different notebook (Combined_prediction.ipynb) \n",
    "\n",
    "df[{'Prediction_dt','Prediction_rf','Prediction_knn','Malignancy'}].to_csv(\"predictions.csv\")"
   ]
  }
 ],
 "metadata": {
  "kernelspec": {
   "display_name": "Python 3 (ipykernel)",
   "language": "python",
   "name": "python3"
  },
  "language_info": {
   "codemirror_mode": {
    "name": "ipython",
    "version": 3
   },
   "file_extension": ".py",
   "mimetype": "text/x-python",
   "name": "python",
   "nbconvert_exporter": "python",
   "pygments_lexer": "ipython3",
   "version": "3.9.7"
  }
 },
 "nbformat": 4,
 "nbformat_minor": 5
}
