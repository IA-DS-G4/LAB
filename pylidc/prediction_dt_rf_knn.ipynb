{
 "cells": [
  {
   "cell_type": "code",
   "execution_count": 1,
   "id": "fd1fb35d",
   "metadata": {},
   "outputs": [],
   "source": [
    "import numpy as np\n",
    "import scipy\n",
    "import pandas as pd\n",
    "import matplotlib.pyplot as plt\n",
    "import seaborn as sns\n",
    "from sklearn import tree\n",
    "from sklearn.model_selection import train_test_split\n",
    "from sklearn.metrics import accuracy_score\n",
    "from sklearn.metrics import confusion_matrix\n",
    "from sklearn.ensemble import RandomForestClassifier\n",
    "from sklearn.datasets import make_classification\n",
    "from sklearn.neighbors import KNeighborsClassifier\n",
    "from sklearn.tree import export_graphviz\n",
    "from IPython.display import Image\n",
    "import graphviz"
   ]
  },
  {
   "cell_type": "code",
   "execution_count": 2,
   "id": "83b5d5c3",
   "metadata": {},
   "outputs": [],
   "source": [
    "#Create the dataframe from de CSV file\n",
    "df=pd.read_csv('pylidc_csv.csv')"
   ]
  },
  {
   "cell_type": "code",
   "execution_count": 3,
   "id": "64067dd1",
   "metadata": {},
   "outputs": [],
   "source": [
    "#In this first section we present some information on the data"
   ]
  },
  {
   "cell_type": "code",
   "execution_count": 4,
   "id": "42c7c13e",
   "metadata": {},
   "outputs": [
    {
     "data": {
      "text/html": [
       "<div>\n",
       "<style scoped>\n",
       "    .dataframe tbody tr th:only-of-type {\n",
       "        vertical-align: middle;\n",
       "    }\n",
       "\n",
       "    .dataframe tbody tr th {\n",
       "        vertical-align: top;\n",
       "    }\n",
       "\n",
       "    .dataframe thead th {\n",
       "        text-align: right;\n",
       "    }\n",
       "</style>\n",
       "<table border=\"1\" class=\"dataframe\">\n",
       "  <thead>\n",
       "    <tr style=\"text-align: right;\">\n",
       "      <th></th>\n",
       "      <th>Unnamed: 0</th>\n",
       "      <th>Nod_id</th>\n",
       "      <th>Patient_id</th>\n",
       "      <th>slice thickness</th>\n",
       "      <th>N nods</th>\n",
       "      <th>Spiculation_Min</th>\n",
       "      <th>Spiculation_Med</th>\n",
       "      <th>Spiculation_Max</th>\n",
       "      <th>Internal_Structure</th>\n",
       "      <th>Calcification</th>\n",
       "      <th>...</th>\n",
       "      <th>Lobulation_max</th>\n",
       "      <th>Texture</th>\n",
       "      <th>Malignancy_min</th>\n",
       "      <th>Malignancy_mean</th>\n",
       "      <th>Malignancy_max</th>\n",
       "      <th>Malignancy_n4</th>\n",
       "      <th>Malignancy_n5</th>\n",
       "      <th>Subtlety_Min</th>\n",
       "      <th>Subtlety_Med</th>\n",
       "      <th>Subtlety_Max</th>\n",
       "    </tr>\n",
       "  </thead>\n",
       "  <tbody>\n",
       "    <tr>\n",
       "      <th>0</th>\n",
       "      <td>1</td>\n",
       "      <td>LIDC-IDRI-0078-1</td>\n",
       "      <td>LIDC-IDRI-0078</td>\n",
       "      <td>3.0</td>\n",
       "      <td>4</td>\n",
       "      <td>1</td>\n",
       "      <td>2.25</td>\n",
       "      <td>4</td>\n",
       "      <td>1</td>\n",
       "      <td>6</td>\n",
       "      <td>...</td>\n",
       "      <td>4</td>\n",
       "      <td>5</td>\n",
       "      <td>3</td>\n",
       "      <td>3.75</td>\n",
       "      <td>5</td>\n",
       "      <td>1</td>\n",
       "      <td>1</td>\n",
       "      <td>4.0</td>\n",
       "      <td>4.50</td>\n",
       "      <td>5.0</td>\n",
       "    </tr>\n",
       "    <tr>\n",
       "      <th>1</th>\n",
       "      <td>2</td>\n",
       "      <td>LIDC-IDRI-0078-2</td>\n",
       "      <td>LIDC-IDRI-0078</td>\n",
       "      <td>3.0</td>\n",
       "      <td>4</td>\n",
       "      <td>1</td>\n",
       "      <td>2.25</td>\n",
       "      <td>4</td>\n",
       "      <td>1</td>\n",
       "      <td>6</td>\n",
       "      <td>...</td>\n",
       "      <td>4</td>\n",
       "      <td>4</td>\n",
       "      <td>3</td>\n",
       "      <td>3.75</td>\n",
       "      <td>5</td>\n",
       "      <td>1</td>\n",
       "      <td>1</td>\n",
       "      <td>4.0</td>\n",
       "      <td>4.75</td>\n",
       "      <td>5.0</td>\n",
       "    </tr>\n",
       "    <tr>\n",
       "      <th>2</th>\n",
       "      <td>3</td>\n",
       "      <td>LIDC-IDRI-0078-3</td>\n",
       "      <td>LIDC-IDRI-0078</td>\n",
       "      <td>3.0</td>\n",
       "      <td>4</td>\n",
       "      <td>1</td>\n",
       "      <td>1.00</td>\n",
       "      <td>1</td>\n",
       "      <td>1</td>\n",
       "      <td>5</td>\n",
       "      <td>...</td>\n",
       "      <td>1</td>\n",
       "      <td>5</td>\n",
       "      <td>1</td>\n",
       "      <td>1.00</td>\n",
       "      <td>1</td>\n",
       "      <td>0</td>\n",
       "      <td>0</td>\n",
       "      <td>4.0</td>\n",
       "      <td>4.00</td>\n",
       "      <td>4.0</td>\n",
       "    </tr>\n",
       "    <tr>\n",
       "      <th>3</th>\n",
       "      <td>4</td>\n",
       "      <td>LIDC-IDRI-0078-4</td>\n",
       "      <td>LIDC-IDRI-0078</td>\n",
       "      <td>3.0</td>\n",
       "      <td>4</td>\n",
       "      <td>1</td>\n",
       "      <td>2.75</td>\n",
       "      <td>4</td>\n",
       "      <td>1</td>\n",
       "      <td>4</td>\n",
       "      <td>...</td>\n",
       "      <td>4</td>\n",
       "      <td>5</td>\n",
       "      <td>3</td>\n",
       "      <td>4.25</td>\n",
       "      <td>5</td>\n",
       "      <td>1</td>\n",
       "      <td>2</td>\n",
       "      <td>5.0</td>\n",
       "      <td>5.00</td>\n",
       "      <td>5.0</td>\n",
       "    </tr>\n",
       "    <tr>\n",
       "      <th>4</th>\n",
       "      <td>5</td>\n",
       "      <td>LIDC-IDRI-0069-1</td>\n",
       "      <td>LIDC-IDRI-0069</td>\n",
       "      <td>2.0</td>\n",
       "      <td>3</td>\n",
       "      <td>1</td>\n",
       "      <td>4.00</td>\n",
       "      <td>5</td>\n",
       "      <td>1</td>\n",
       "      <td>6</td>\n",
       "      <td>...</td>\n",
       "      <td>5</td>\n",
       "      <td>5</td>\n",
       "      <td>2</td>\n",
       "      <td>3.25</td>\n",
       "      <td>5</td>\n",
       "      <td>0</td>\n",
       "      <td>1</td>\n",
       "      <td>2.0</td>\n",
       "      <td>2.50</td>\n",
       "      <td>3.0</td>\n",
       "    </tr>\n",
       "  </tbody>\n",
       "</table>\n",
       "<p>5 rows × 26 columns</p>\n",
       "</div>"
      ],
      "text/plain": [
       "   Unnamed: 0            Nod_id      Patient_id  slice thickness  N nods  \\\n",
       "0           1  LIDC-IDRI-0078-1  LIDC-IDRI-0078              3.0       4   \n",
       "1           2  LIDC-IDRI-0078-2  LIDC-IDRI-0078              3.0       4   \n",
       "2           3  LIDC-IDRI-0078-3  LIDC-IDRI-0078              3.0       4   \n",
       "3           4  LIDC-IDRI-0078-4  LIDC-IDRI-0078              3.0       4   \n",
       "4           5  LIDC-IDRI-0069-1  LIDC-IDRI-0069              2.0       3   \n",
       "\n",
       "   Spiculation_Min  Spiculation_Med  Spiculation_Max  Internal_Structure  \\\n",
       "0                1             2.25                4                   1   \n",
       "1                1             2.25                4                   1   \n",
       "2                1             1.00                1                   1   \n",
       "3                1             2.75                4                   1   \n",
       "4                1             4.00                5                   1   \n",
       "\n",
       "   Calcification  ...  Lobulation_max  Texture  Malignancy_min  \\\n",
       "0              6  ...               4        5               3   \n",
       "1              6  ...               4        4               3   \n",
       "2              5  ...               1        5               1   \n",
       "3              4  ...               4        5               3   \n",
       "4              6  ...               5        5               2   \n",
       "\n",
       "   Malignancy_mean  Malignancy_max  Malignancy_n4  Malignancy_n5  \\\n",
       "0             3.75               5              1              1   \n",
       "1             3.75               5              1              1   \n",
       "2             1.00               1              0              0   \n",
       "3             4.25               5              1              2   \n",
       "4             3.25               5              0              1   \n",
       "\n",
       "   Subtlety_Min  Subtlety_Med  Subtlety_Max  \n",
       "0           4.0          4.50           5.0  \n",
       "1           4.0          4.75           5.0  \n",
       "2           4.0          4.00           4.0  \n",
       "3           5.0          5.00           5.0  \n",
       "4           2.0          2.50           3.0  \n",
       "\n",
       "[5 rows x 26 columns]"
      ]
     },
     "execution_count": 4,
     "metadata": {},
     "output_type": "execute_result"
    }
   ],
   "source": [
    "df.head(5)"
   ]
  },
  {
   "cell_type": "code",
   "execution_count": 5,
   "id": "313ffe35",
   "metadata": {},
   "outputs": [
    {
     "name": "stdout",
     "output_type": "stream",
     "text": [
      "Number of nods  Relative frequency\n",
      "        1           0.11\n",
      "        2           0.16\n",
      "        3           0.14\n",
      "        4           0.11\n",
      "        5           0.09\n",
      "        6           0.09\n",
      "        7           0.06\n",
      "        8           0.07\n",
      "        9           0.03\n",
      "   Total:           0.87\n"
     ]
    }
   ],
   "source": [
    "#The number of nods for each patient is distrubuted according to the following frequency table \n",
    "sum=0\n",
    "print(\"Number of nods \", \"Relative frequency\")\n",
    "for j in range(1,10):\n",
    "    sum+=df['N nods'].value_counts()[j]/len(df)\n",
    "    print(\"       \",j, \"         \" ,(df['N nods'].value_counts()[j]/len(df)).round(2))\n",
    "print(\"   Total:          \",sum.round(2))"
   ]
  },
  {
   "cell_type": "code",
   "execution_count": 6,
   "id": "b686908f",
   "metadata": {},
   "outputs": [
    {
     "name": "stdout",
     "output_type": "stream",
     "text": [
      "Number of patients\n",
      "875\n"
     ]
    }
   ],
   "source": [
    "print('Number of patients')\n",
    "print(df[\"Patient_id\"].nunique())"
   ]
  },
  {
   "cell_type": "code",
   "execution_count": 7,
   "id": "08b05666",
   "metadata": {},
   "outputs": [],
   "source": [
    "#To better understand the way to classify a nod to be malignant or not we present the related variables "
   ]
  },
  {
   "cell_type": "code",
   "execution_count": 8,
   "id": "6c0d039b",
   "metadata": {},
   "outputs": [
    {
     "name": "stdout",
     "output_type": "stream",
     "text": [
      "AxesSubplot(0.125,0.125;0.775x0.755)\n"
     ]
    },
    {
     "data": {
      "image/png": "[encoded data removed]",
      "text/plain": [
       "<Figure size 432x288 with 1 Axes>"
      ]
     },
     "metadata": {
      "needs_background": "light"
     },
     "output_type": "display_data"
    }
   ],
   "source": [
    "print(sns.countplot(x='Malignancy_min',data=df))"
   ]
  },
  {
   "cell_type": "code",
   "execution_count": 9,
   "id": "8c37ec2c",
   "metadata": {},
   "outputs": [
    {
     "name": "stdout",
     "output_type": "stream",
     "text": [
      "AxesSubplot(0.125,0.125;0.775x0.755)\n"
     ]
    },
    {
     "data": {
      "image/png": "[encoded data removed]",
      "text/plain": [
       "<Figure size 432x288 with 1 Axes>"
      ]
     },
     "metadata": {
      "needs_background": "light"
     },
     "output_type": "display_data"
    }
   ],
   "source": [
    "print(sns.histplot(x='Malignancy_mean',data=df,bins=[0,0.5,1.5,2.5,3.5,4.5,5.5]))"
   ]
  },
  {
   "cell_type": "code",
   "execution_count": 10,
   "id": "39722177",
   "metadata": {},
   "outputs": [
    {
     "name": "stdout",
     "output_type": "stream",
     "text": [
      "AxesSubplot(0.125,0.125;0.775x0.755)\n"
     ]
    },
    {
     "data": {
      "image/png": "[encoded data removed]",
      "text/plain": [
       "<Figure size 432x288 with 1 Axes>"
      ]
     },
     "metadata": {
      "needs_background": "light"
     },
     "output_type": "display_data"
    }
   ],
   "source": [
    "print(sns.countplot(x='Malignancy_max',data=df))"
   ]
  },
  {
   "cell_type": "code",
   "execution_count": 11,
   "id": "49e830a6",
   "metadata": {},
   "outputs": [
    {
     "name": "stdout",
     "output_type": "stream",
     "text": [
      "AxesSubplot(0.125,0.125;0.775x0.755)\n"
     ]
    },
    {
     "data": {
      "image/png": "[encoded data removed]",
      "text/plain": [
       "<Figure size 432x288 with 1 Axes>"
      ]
     },
     "metadata": {
      "needs_background": "light"
     },
     "output_type": "display_data"
    }
   ],
   "source": [
    "print(sns.countplot(x='Malignancy_n4',data=df))"
   ]
  },
  {
   "cell_type": "code",
   "execution_count": 12,
   "id": "b9471528",
   "metadata": {},
   "outputs": [
    {
     "name": "stdout",
     "output_type": "stream",
     "text": [
      "AxesSubplot(0.125,0.125;0.775x0.755)\n"
     ]
    },
    {
     "data": {
      "image/png": "[encoded data removed]",
      "text/plain": [
       "<Figure size 432x288 with 1 Axes>"
      ]
     },
     "metadata": {
      "needs_background": "light"
     },
     "output_type": "display_data"
    }
   ],
   "source": [
    "print(sns.countplot(x='Malignancy_n5',data=df))"
   ]
  },
  {
   "cell_type": "code",
   "execution_count": 13,
   "id": "0562ba7a",
   "metadata": {},
   "outputs": [],
   "source": [
    "#Noticing that the distribution of the mean value and the max value is similar we explored it a litle further \n",
    "df['dif']=df['Malignancy_max']-df['Malignancy_mean']"
   ]
  },
  {
   "cell_type": "code",
   "execution_count": 14,
   "id": "0182b905",
   "metadata": {},
   "outputs": [
    {
     "name": "stdout",
     "output_type": "stream",
     "text": [
      "AxesSubplot(0.125,0.125;0.775x0.755)\n"
     ]
    },
    {
     "data": {
      "image/png": "[encoded data removed]",
      "text/plain": [
       "<Figure size 432x288 with 1 Axes>"
      ]
     },
     "metadata": {
      "needs_background": "light"
     },
     "output_type": "display_data"
    }
   ],
   "source": [
    "print(sns.histplot(x='dif',data=df))"
   ]
  },
  {
   "cell_type": "code",
   "execution_count": 15,
   "id": "91548fd5",
   "metadata": {},
   "outputs": [],
   "source": [
    "# Despite the similarities between the mean and the max value we decided to create a joint criterion for the \n",
    "# malignancy classification. Therefore a node is considered malignant if there is at least one classification of 5 or\n",
    "# if the mean value over the classifications is at least 3.5\n",
    "\n",
    "df[\"Malignancy\"]=np.where((df['Malignancy_mean']>= 3.5)|(df['Malignancy_max']==5), True, False)"
   ]
  },
  {
   "cell_type": "code",
   "execution_count": 16,
   "id": "fc79fa70",
   "metadata": {},
   "outputs": [
    {
     "data": {
      "text/html": [
       "<div>\n",
       "<style scoped>\n",
       "    .dataframe tbody tr th:only-of-type {\n",
       "        vertical-align: middle;\n",
       "    }\n",
       "\n",
       "    .dataframe tbody tr th {\n",
       "        vertical-align: top;\n",
       "    }\n",
       "\n",
       "    .dataframe thead th {\n",
       "        text-align: right;\n",
       "    }\n",
       "</style>\n",
       "<table border=\"1\" class=\"dataframe\">\n",
       "  <thead>\n",
       "    <tr style=\"text-align: right;\">\n",
       "      <th></th>\n",
       "      <th>Malignancy_max</th>\n",
       "      <th>Malignancy</th>\n",
       "      <th>Malignancy_mean</th>\n",
       "    </tr>\n",
       "  </thead>\n",
       "  <tbody>\n",
       "    <tr>\n",
       "      <th>0</th>\n",
       "      <td>5</td>\n",
       "      <td>True</td>\n",
       "      <td>3.75</td>\n",
       "    </tr>\n",
       "    <tr>\n",
       "      <th>1</th>\n",
       "      <td>5</td>\n",
       "      <td>True</td>\n",
       "      <td>3.75</td>\n",
       "    </tr>\n",
       "    <tr>\n",
       "      <th>2</th>\n",
       "      <td>1</td>\n",
       "      <td>False</td>\n",
       "      <td>1.00</td>\n",
       "    </tr>\n",
       "    <tr>\n",
       "      <th>3</th>\n",
       "      <td>5</td>\n",
       "      <td>True</td>\n",
       "      <td>4.25</td>\n",
       "    </tr>\n",
       "    <tr>\n",
       "      <th>4</th>\n",
       "      <td>5</td>\n",
       "      <td>True</td>\n",
       "      <td>3.25</td>\n",
       "    </tr>\n",
       "  </tbody>\n",
       "</table>\n",
       "</div>"
      ],
      "text/plain": [
       "   Malignancy_max  Malignancy  Malignancy_mean\n",
       "0               5        True             3.75\n",
       "1               5        True             3.75\n",
       "2               1       False             1.00\n",
       "3               5        True             4.25\n",
       "4               5        True             3.25"
      ]
     },
     "execution_count": 16,
     "metadata": {},
     "output_type": "execute_result"
    }
   ],
   "source": [
    "df[{'Malignancy_mean','Malignancy_max','Malignancy'}].head(5)"
   ]
  },
  {
   "cell_type": "code",
   "execution_count": 17,
   "id": "13010172",
   "metadata": {},
   "outputs": [],
   "source": [
    "# Identify the features used to predict the classification of the malignancy of the node\n",
    "# X - vector of valiables used to predict\n",
    "# y - target variable\n",
    "\n",
    "X=df[['N nods','Spiculation_Min', 'Spiculation_Med', 'Spiculation_Max',\n",
    "       'Internal_Structure', 'Calcification', 'Sphericity', 'Margin_min',\n",
    "       'Margin_mean', 'Margin_max', 'Lobulation_min', 'Lobulation_mean',\n",
    "       'Lobulation_max', 'Texture']]\n",
    "y=df['Malignancy']"
   ]
  },
  {
   "cell_type": "code",
   "execution_count": 18,
   "id": "0a1ed2cc",
   "metadata": {},
   "outputs": [],
   "source": [
    "# Devide the dataset in train (80%) and test (20%) subsets\n",
    "# Define a random state do fix this division\n",
    "\n",
    "X_train, X_test, y_train, y_test=train_test_split(X,y,test_size=0.2,random_state=1)"
   ]
  },
  {
   "cell_type": "code",
   "execution_count": 19,
   "id": "d241bd4e",
   "metadata": {},
   "outputs": [],
   "source": [
    "# Construction of a decision tree classifier with the stop criterion of \n",
    "# at least 0.001 of minimum impurity decrease to avoind overfitting\n",
    "\n",
    "dt = tree.DecisionTreeClassifier(min_impurity_decrease=0.001)\n",
    "dt = dt.fit(X_train, y_train)"
   ]
  },
  {
   "cell_type": "code",
   "execution_count": 20,
   "id": "a86a7ba4",
   "metadata": {},
   "outputs": [
    {
     "data": {
      "image/svg+xml": [
       "<?xml version=\"1.0\" encoding=\"UTF-8\" standalone=\"no\"?>\n",
       "<!DOCTYPE svg PUBLIC \"-//W3C//DTD SVG 1.1//EN\"\n",
       " \"http://www.w3.org/Graphics/SVG/1.1/DTD/svg11.dtd\">\n",
       "<!-- Generated by graphviz version 2.43.0 (0)\n",
       " -->\n",
       "<!-- Title: Tree Pages: 1 -->\n",
       "<svg width=\"812pt\" height=\"311pt\"\n",
       " viewBox=\"0.00 0.00 811.50 311.00\" xmlns=\"http://www.w3.org/2000/svg\" xmlns:xlink=\"http://www.w3.org/1999/xlink\">\n",
       "<g id=\"graph0\" class=\"graph\" transform=\"scale(1 1) rotate(0) translate(4 307)\">\n",
       "<title>Tree</title>\n",
       "<polygon fill=\"white\" stroke=\"transparent\" points=\"-4,4 -4,-307 807.5,-307 807.5,4 -4,4\"/>\n",
       "<!-- 0 -->\n",
       "<g id=\"node1\" class=\"node\">\n",
       "<title>0</title>\n",
       "<polygon fill=\"#eca16c\" stroke=\"black\" points=\"514.5,-303 306.5,-303 306.5,-250 514.5,-250 514.5,-303\"/>\n",
       "<text text-anchor=\"middle\" x=\"410.5\" y=\"-287.8\" font-family=\"Helvetica,sans-Serif\" font-size=\"14.00\">Lobulation_mean &lt;= 2.225</text>\n",
       "<text text-anchor=\"middle\" x=\"410.5\" y=\"-272.8\" font-family=\"Helvetica,sans-Serif\" font-size=\"14.00\">samples = 100.0%</text>\n",
       "<text text-anchor=\"middle\" x=\"410.5\" y=\"-257.8\" font-family=\"Helvetica,sans-Serif\" font-size=\"14.00\">value = [0.797, 0.203]</text>\n",
       "</g>\n",
       "<!-- 1 -->\n",
       "<g id=\"node2\" class=\"node\">\n",
       "<title>1</title>\n",
       "<polygon fill=\"#e99355\" stroke=\"black\" points=\"400.5,-214 206.5,-214 206.5,-161 400.5,-161 400.5,-214\"/>\n",
       "<text text-anchor=\"middle\" x=\"303.5\" y=\"-198.8\" font-family=\"Helvetica,sans-Serif\" font-size=\"14.00\">Spiculation_Med &lt;= 1.45</text>\n",
       "<text text-anchor=\"middle\" x=\"303.5\" y=\"-183.8\" font-family=\"Helvetica,sans-Serif\" font-size=\"14.00\">samples = 81.2%</text>\n",
       "<text text-anchor=\"middle\" x=\"303.5\" y=\"-168.8\" font-family=\"Helvetica,sans-Serif\" font-size=\"14.00\">value = [0.876, 0.124]</text>\n",
       "</g>\n",
       "<!-- 0&#45;&gt;1 -->\n",
       "<g id=\"edge1\" class=\"edge\">\n",
       "<title>0&#45;&gt;1</title>\n",
       "<path fill=\"none\" stroke=\"black\" d=\"M378.98,-249.87C367.76,-240.75 354.98,-230.35 343.16,-220.75\"/>\n",
       "<polygon fill=\"black\" stroke=\"black\" points=\"345.14,-217.84 335.17,-214.25 340.72,-223.27 345.14,-217.84\"/>\n",
       "<text text-anchor=\"middle\" x=\"337.73\" y=\"-235.42\" font-family=\"Helvetica,sans-Serif\" font-size=\"14.00\">True</text>\n",
       "</g>\n",
       "<!-- 26 -->\n",
       "<g id=\"node9\" class=\"node\">\n",
       "<title>26</title>\n",
       "<polygon fill=\"#dfeffb\" stroke=\"black\" points=\"606,-214 429,-214 429,-161 606,-161 606,-214\"/>\n",
       "<text text-anchor=\"middle\" x=\"517.5\" y=\"-198.8\" font-family=\"Helvetica,sans-Serif\" font-size=\"14.00\">Lobulation_min &lt;= 2.5</text>\n",
       "<text text-anchor=\"middle\" x=\"517.5\" y=\"-183.8\" font-family=\"Helvetica,sans-Serif\" font-size=\"14.00\">samples = 18.8%</text>\n",
       "<text text-anchor=\"middle\" x=\"517.5\" y=\"-168.8\" font-family=\"Helvetica,sans-Serif\" font-size=\"14.00\">value = [0.456, 0.544]</text>\n",
       "</g>\n",
       "<!-- 0&#45;&gt;26 -->\n",
       "<g id=\"edge8\" class=\"edge\">\n",
       "<title>0&#45;&gt;26</title>\n",
       "<path fill=\"none\" stroke=\"black\" d=\"M442.02,-249.87C453.24,-240.75 466.02,-230.35 477.84,-220.75\"/>\n",
       "<polygon fill=\"black\" stroke=\"black\" points=\"480.28,-223.27 485.83,-214.25 475.86,-217.84 480.28,-223.27\"/>\n",
       "<text text-anchor=\"middle\" x=\"483.27\" y=\"-235.42\" font-family=\"Helvetica,sans-Serif\" font-size=\"14.00\">False</text>\n",
       "</g>\n",
       "<!-- 2 -->\n",
       "<g id=\"node3\" class=\"node\">\n",
       "<title>2</title>\n",
       "<polygon fill=\"#e78c4a\" stroke=\"black\" points=\"181,-125 0,-125 0,-72 181,-72 181,-125\"/>\n",
       "<text text-anchor=\"middle\" x=\"90.5\" y=\"-109.8\" font-family=\"Helvetica,sans-Serif\" font-size=\"14.00\">Lobulation_max &lt;= 1.5</text>\n",
       "<text text-anchor=\"middle\" x=\"90.5\" y=\"-94.8\" font-family=\"Helvetica,sans-Serif\" font-size=\"14.00\">samples = 60.2%</text>\n",
       "<text text-anchor=\"middle\" x=\"90.5\" y=\"-79.8\" font-family=\"Helvetica,sans-Serif\" font-size=\"14.00\">value = [0.922, 0.078]</text>\n",
       "</g>\n",
       "<!-- 1&#45;&gt;2 -->\n",
       "<g id=\"edge2\" class=\"edge\">\n",
       "<title>1&#45;&gt;2</title>\n",
       "<path fill=\"none\" stroke=\"black\" d=\"M241.03,-160.98C216.32,-150.89 187.78,-139.23 162.23,-128.8\"/>\n",
       "<polygon fill=\"black\" stroke=\"black\" points=\"163.55,-125.56 152.97,-125.01 160.9,-132.04 163.55,-125.56\"/>\n",
       "</g>\n",
       "<!-- 9 -->\n",
       "<g id=\"node6\" class=\"node\">\n",
       "<title>9</title>\n",
       "<polygon fill=\"#eead7e\" stroke=\"black\" points=\"407.5,-125 199.5,-125 199.5,-72 407.5,-72 407.5,-125\"/>\n",
       "<text text-anchor=\"middle\" x=\"303.5\" y=\"-109.8\" font-family=\"Helvetica,sans-Serif\" font-size=\"14.00\">Lobulation_mean &lt;= 1.708</text>\n",
       "<text text-anchor=\"middle\" x=\"303.5\" y=\"-94.8\" font-family=\"Helvetica,sans-Serif\" font-size=\"14.00\">samples = 21.0%</text>\n",
       "<text text-anchor=\"middle\" x=\"303.5\" y=\"-79.8\" font-family=\"Helvetica,sans-Serif\" font-size=\"14.00\">value = [0.742, 0.258]</text>\n",
       "</g>\n",
       "<!-- 1&#45;&gt;9 -->\n",
       "<g id=\"edge5\" class=\"edge\">\n",
       "<title>1&#45;&gt;9</title>\n",
       "<path fill=\"none\" stroke=\"black\" d=\"M303.5,-160.87C303.5,-152.89 303.5,-143.93 303.5,-135.38\"/>\n",
       "<polygon fill=\"black\" stroke=\"black\" points=\"307,-135.25 303.5,-125.25 300,-135.25 307,-135.25\"/>\n",
       "</g>\n",
       "<!-- 3 -->\n",
       "<g id=\"node4\" class=\"node\">\n",
       "<title>3</title>\n",
       "<polygon fill=\"#c0c0c0\" stroke=\"black\" points=\"81.5,-36 27.5,-36 27.5,0 81.5,0 81.5,-36\"/>\n",
       "<text text-anchor=\"middle\" x=\"54.5\" y=\"-14.3\" font-family=\"Helvetica,sans-Serif\" font-size=\"14.00\">(...)</text>\n",
       "</g>\n",
       "<!-- 2&#45;&gt;3 -->\n",
       "<g id=\"edge3\" class=\"edge\">\n",
       "<title>2&#45;&gt;3</title>\n",
       "<path fill=\"none\" stroke=\"black\" d=\"M78.71,-71.8C74.84,-63.35 70.53,-53.95 66.63,-45.45\"/>\n",
       "<polygon fill=\"black\" stroke=\"black\" points=\"69.8,-43.96 62.45,-36.33 63.43,-46.88 69.8,-43.96\"/>\n",
       "</g>\n",
       "<!-- 4 -->\n",
       "<g id=\"node5\" class=\"node\">\n",
       "<title>4</title>\n",
       "<polygon fill=\"#c0c0c0\" stroke=\"black\" points=\"153.5,-36 99.5,-36 99.5,0 153.5,0 153.5,-36\"/>\n",
       "<text text-anchor=\"middle\" x=\"126.5\" y=\"-14.3\" font-family=\"Helvetica,sans-Serif\" font-size=\"14.00\">(...)</text>\n",
       "</g>\n",
       "<!-- 2&#45;&gt;4 -->\n",
       "<g id=\"edge4\" class=\"edge\">\n",
       "<title>2&#45;&gt;4</title>\n",
       "<path fill=\"none\" stroke=\"black\" d=\"M102.29,-71.8C106.16,-63.35 110.47,-53.95 114.37,-45.45\"/>\n",
       "<polygon fill=\"black\" stroke=\"black\" points=\"117.57,-46.88 118.55,-36.33 111.2,-43.96 117.57,-46.88\"/>\n",
       "</g>\n",
       "<!-- 10 -->\n",
       "<g id=\"node7\" class=\"node\">\n",
       "<title>10</title>\n",
       "<polygon fill=\"#c0c0c0\" stroke=\"black\" points=\"311.5,-36 257.5,-36 257.5,0 311.5,0 311.5,-36\"/>\n",
       "<text text-anchor=\"middle\" x=\"284.5\" y=\"-14.3\" font-family=\"Helvetica,sans-Serif\" font-size=\"14.00\">(...)</text>\n",
       "</g>\n",
       "<!-- 9&#45;&gt;10 -->\n",
       "<g id=\"edge6\" class=\"edge\">\n",
       "<title>9&#45;&gt;10</title>\n",
       "<path fill=\"none\" stroke=\"black\" d=\"M297.28,-71.8C295.3,-63.62 293.11,-54.55 291.1,-46.27\"/>\n",
       "<polygon fill=\"black\" stroke=\"black\" points=\"294.45,-45.23 288.69,-36.33 287.65,-46.87 294.45,-45.23\"/>\n",
       "</g>\n",
       "<!-- 13 -->\n",
       "<g id=\"node8\" class=\"node\">\n",
       "<title>13</title>\n",
       "<polygon fill=\"#c0c0c0\" stroke=\"black\" points=\"383.5,-36 329.5,-36 329.5,0 383.5,0 383.5,-36\"/>\n",
       "<text text-anchor=\"middle\" x=\"356.5\" y=\"-14.3\" font-family=\"Helvetica,sans-Serif\" font-size=\"14.00\">(...)</text>\n",
       "</g>\n",
       "<!-- 9&#45;&gt;13 -->\n",
       "<g id=\"edge7\" class=\"edge\">\n",
       "<title>9&#45;&gt;13</title>\n",
       "<path fill=\"none\" stroke=\"black\" d=\"M320.85,-71.8C326.74,-63.08 333.31,-53.34 339.2,-44.63\"/>\n",
       "<polygon fill=\"black\" stroke=\"black\" points=\"342.1,-46.58 344.8,-36.33 336.3,-42.66 342.1,-46.58\"/>\n",
       "</g>\n",
       "<!-- 27 -->\n",
       "<g id=\"node10\" class=\"node\">\n",
       "<title>27</title>\n",
       "<polygon fill=\"#9fd0f2\" stroke=\"black\" points=\"609.5,-125 425.5,-125 425.5,-72 609.5,-72 609.5,-125\"/>\n",
       "<text text-anchor=\"middle\" x=\"517.5\" y=\"-109.8\" font-family=\"Helvetica,sans-Serif\" font-size=\"14.00\">Spiculation_Max &lt;= 3.5</text>\n",
       "<text text-anchor=\"middle\" x=\"517.5\" y=\"-94.8\" font-family=\"Helvetica,sans-Serif\" font-size=\"14.00\">samples = 13.0%</text>\n",
       "<text text-anchor=\"middle\" x=\"517.5\" y=\"-79.8\" font-family=\"Helvetica,sans-Serif\" font-size=\"14.00\">value = [0.341, 0.659]</text>\n",
       "</g>\n",
       "<!-- 26&#45;&gt;27 -->\n",
       "<g id=\"edge9\" class=\"edge\">\n",
       "<title>26&#45;&gt;27</title>\n",
       "<path fill=\"none\" stroke=\"black\" d=\"M517.5,-160.87C517.5,-152.89 517.5,-143.93 517.5,-135.38\"/>\n",
       "<polygon fill=\"black\" stroke=\"black\" points=\"521,-135.25 517.5,-125.25 514,-135.25 521,-135.25\"/>\n",
       "</g>\n",
       "<!-- 34 -->\n",
       "<g id=\"node13\" class=\"node\">\n",
       "<title>34</title>\n",
       "<polygon fill=\"#efb388\" stroke=\"black\" points=\"803.5,-125 627.5,-125 627.5,-72 803.5,-72 803.5,-125\"/>\n",
       "<text text-anchor=\"middle\" x=\"715.5\" y=\"-109.8\" font-family=\"Helvetica,sans-Serif\" font-size=\"14.00\">Texture &lt;= 2.5</text>\n",
       "<text text-anchor=\"middle\" x=\"715.5\" y=\"-94.8\" font-family=\"Helvetica,sans-Serif\" font-size=\"14.00\">samples = 5.8%</text>\n",
       "<text text-anchor=\"middle\" x=\"715.5\" y=\"-79.8\" font-family=\"Helvetica,sans-Serif\" font-size=\"14.00\">value = [0.715, 0.285]</text>\n",
       "</g>\n",
       "<!-- 26&#45;&gt;34 -->\n",
       "<g id=\"edge12\" class=\"edge\">\n",
       "<title>26&#45;&gt;34</title>\n",
       "<path fill=\"none\" stroke=\"black\" d=\"M575.57,-160.98C598.34,-150.98 624.61,-139.44 648.2,-129.07\"/>\n",
       "<polygon fill=\"black\" stroke=\"black\" points=\"649.69,-132.24 657.43,-125.01 646.87,-125.83 649.69,-132.24\"/>\n",
       "</g>\n",
       "<!-- 28 -->\n",
       "<g id=\"node11\" class=\"node\">\n",
       "<title>28</title>\n",
       "<polygon fill=\"#c0c0c0\" stroke=\"black\" points=\"490.5,-36 436.5,-36 436.5,0 490.5,0 490.5,-36\"/>\n",
       "<text text-anchor=\"middle\" x=\"463.5\" y=\"-14.3\" font-family=\"Helvetica,sans-Serif\" font-size=\"14.00\">(...)</text>\n",
       "</g>\n",
       "<!-- 27&#45;&gt;28 -->\n",
       "<g id=\"edge10\" class=\"edge\">\n",
       "<title>27&#45;&gt;28</title>\n",
       "<path fill=\"none\" stroke=\"black\" d=\"M499.82,-71.8C493.82,-63.08 487.12,-53.34 481.13,-44.63\"/>\n",
       "<polygon fill=\"black\" stroke=\"black\" points=\"483.97,-42.59 475.42,-36.33 478.21,-46.55 483.97,-42.59\"/>\n",
       "</g>\n",
       "<!-- 31 -->\n",
       "<g id=\"node12\" class=\"node\">\n",
       "<title>31</title>\n",
       "<polygon fill=\"#c0c0c0\" stroke=\"black\" points=\"562.5,-36 508.5,-36 508.5,0 562.5,0 562.5,-36\"/>\n",
       "<text text-anchor=\"middle\" x=\"535.5\" y=\"-14.3\" font-family=\"Helvetica,sans-Serif\" font-size=\"14.00\">(...)</text>\n",
       "</g>\n",
       "<!-- 27&#45;&gt;31 -->\n",
       "<g id=\"edge11\" class=\"edge\">\n",
       "<title>27&#45;&gt;31</title>\n",
       "<path fill=\"none\" stroke=\"black\" d=\"M523.39,-71.8C525.27,-63.62 527.35,-54.55 529.25,-46.27\"/>\n",
       "<polygon fill=\"black\" stroke=\"black\" points=\"532.7,-46.86 531.53,-36.33 525.88,-45.3 532.7,-46.86\"/>\n",
       "</g>\n",
       "<!-- 35 -->\n",
       "<g id=\"node14\" class=\"node\">\n",
       "<title>35</title>\n",
       "<polygon fill=\"#c0c0c0\" stroke=\"black\" points=\"706.5,-36 652.5,-36 652.5,0 706.5,0 706.5,-36\"/>\n",
       "<text text-anchor=\"middle\" x=\"679.5\" y=\"-14.3\" font-family=\"Helvetica,sans-Serif\" font-size=\"14.00\">(...)</text>\n",
       "</g>\n",
       "<!-- 34&#45;&gt;35 -->\n",
       "<g id=\"edge13\" class=\"edge\">\n",
       "<title>34&#45;&gt;35</title>\n",
       "<path fill=\"none\" stroke=\"black\" d=\"M703.71,-71.8C699.84,-63.35 695.53,-53.95 691.63,-45.45\"/>\n",
       "<polygon fill=\"black\" stroke=\"black\" points=\"694.8,-43.96 687.45,-36.33 688.43,-46.88 694.8,-43.96\"/>\n",
       "</g>\n",
       "<!-- 36 -->\n",
       "<g id=\"node15\" class=\"node\">\n",
       "<title>36</title>\n",
       "<polygon fill=\"#c0c0c0\" stroke=\"black\" points=\"778.5,-36 724.5,-36 724.5,0 778.5,0 778.5,-36\"/>\n",
       "<text text-anchor=\"middle\" x=\"751.5\" y=\"-14.3\" font-family=\"Helvetica,sans-Serif\" font-size=\"14.00\">(...)</text>\n",
       "</g>\n",
       "<!-- 34&#45;&gt;36 -->\n",
       "<g id=\"edge14\" class=\"edge\">\n",
       "<title>34&#45;&gt;36</title>\n",
       "<path fill=\"none\" stroke=\"black\" d=\"M727.29,-71.8C731.16,-63.35 735.47,-53.95 739.37,-45.45\"/>\n",
       "<polygon fill=\"black\" stroke=\"black\" points=\"742.57,-46.88 743.55,-36.33 736.2,-43.96 742.57,-46.88\"/>\n",
       "</g>\n",
       "</g>\n",
       "</svg>\n"
      ],
      "text/plain": [
       "<graphviz.sources.Source at 0x7fc7a5855130>"
      ]
     },
     "metadata": {},
     "output_type": "display_data"
    }
   ],
   "source": [
    "# print of the more significant separations with percentage of the subset (train) and proportion for each separation\n",
    "\n",
    "dt_data = export_graphviz(dt,feature_names=X_train.columns,filled=True,max_depth=2,impurity=False,proportion=True)\n",
    "graph = graphviz.Source(dt_data)\n",
    "display(graph)"
   ]
  },
  {
   "cell_type": "code",
   "execution_count": 21,
   "id": "00ef03d0",
   "metadata": {},
   "outputs": [
    {
     "name": "stdout",
     "output_type": "stream",
     "text": [
      "Confusion Matrix:\n"
     ]
    },
    {
     "data": {
      "text/plain": [
       "array([[390,  18],\n",
       "       [ 78,  45]])"
      ]
     },
     "execution_count": 21,
     "metadata": {},
     "output_type": "execute_result"
    }
   ],
   "source": [
    "# test of the decision tree obtained using the test subset\n",
    "y_predict=dt.predict(X_test)\n",
    "\n",
    "print(\"Confusion Matrix:\")\n",
    "confusion_matrix(y_test, y_predict)"
   ]
  },
  {
   "cell_type": "code",
   "execution_count": 22,
   "id": "b274708e",
   "metadata": {},
   "outputs": [
    {
     "name": "stdout",
     "output_type": "stream",
     "text": [
      "Accuracy:\n"
     ]
    },
    {
     "data": {
      "text/plain": [
       "0.8192090395480226"
      ]
     },
     "execution_count": 22,
     "metadata": {},
     "output_type": "execute_result"
    }
   ],
   "source": [
    "print(\"Accuracy:\")\n",
    "accuracy_score(y_test, y_predict)"
   ]
  },
  {
   "cell_type": "code",
   "execution_count": 23,
   "id": "1ff69984",
   "metadata": {},
   "outputs": [],
   "source": [
    "# Random Forest construction with trees similar to the ones obtained previously\n",
    "# for different values of hyperparameter - number of features (max_features) \n",
    "\n",
    "rf = RandomForestClassifier(max_features=1,min_impurity_decrease=0.001)\n",
    "rf.fit(X_train, y_train)\n",
    "y_pred = rf.predict(X_test)\n",
    "accuracy = accuracy_score(y_test, y_pred)\n",
    "#print(\"Number of featrures: \", 1 ,\" Accuracy: \", accuracy)\n",
    "best=1\n",
    "best_ac=accuracy\n",
    "x_rf=[1]\n",
    "y_rf=[accuracy]\n",
    "    \n",
    "for i in range(2,10):\n",
    "    rf = RandomForestClassifier(max_features=i,min_impurity_decrease=0.001,n_estimators=100)\n",
    "    rf.fit(X_train, y_train)\n",
    "    y_pred = rf.predict(X_test)\n",
    "    accuracy = accuracy_score(y_test, y_pred)\n",
    "    #print(\"Number of featrures: \", i ,\" Accuracy: \", accuracy)\n",
    "    x_rf.append(i)\n",
    "    y_rf.append(accuracy)\n",
    "    if(accuracy>best_ac):\n",
    "        best=i\n",
    "        best_ac=accuracy\n",
    "\n",
    "#print(\"Number of featrures: \", best ,\" Accuracy: \", best_ac)"
   ]
  },
  {
   "cell_type": "code",
   "execution_count": 24,
   "id": "aa88fc8f",
   "metadata": {},
   "outputs": [
    {
     "name": "stdout",
     "output_type": "stream",
     "text": [
      "Best number of features:  8  with accuracy= 0.8549905838041432\n"
     ]
    },
    {
     "data": {
      "image/png": "[encoded data removed]",
      "text/plain": [
       "<Figure size 432x288 with 1 Axes>"
      ]
     },
     "metadata": {
      "needs_background": "light"
     },
     "output_type": "display_data"
    }
   ],
   "source": [
    "# Evaluate the hyperparameter and identify the best value for the accuracy\n",
    "\n",
    "s = pd.Series(y_rf,x_rf)\n",
    "plt.title('Accuracy for different number of features')\n",
    "plt.xlabel('Number of features')\n",
    "plt.ylabel('Accuracy')\n",
    "\n",
    "s.plot.line()  \n",
    "print(\"Best number of features: \", best ,\" with accuracy=\", best_ac)"
   ]
  },
  {
   "cell_type": "code",
   "execution_count": 25,
   "id": "7b46ad20",
   "metadata": {},
   "outputs": [
    {
     "data": {
      "image/svg+xml": [
       "<?xml version=\"1.0\" encoding=\"UTF-8\" standalone=\"no\"?>\n",
       "<!DOCTYPE svg PUBLIC \"-//W3C//DTD SVG 1.1//EN\"\n",
       " \"http://www.w3.org/Graphics/SVG/1.1/DTD/svg11.dtd\">\n",
       "<!-- Generated by graphviz version 2.43.0 (0)\n",
       " -->\n",
       "<!-- Title: Tree Pages: 1 -->\n",
       "<svg width=\"800pt\" height=\"311pt\"\n",
       " viewBox=\"0.00 0.00 800.00 311.00\" xmlns=\"http://www.w3.org/2000/svg\" xmlns:xlink=\"http://www.w3.org/1999/xlink\">\n",
       "<g id=\"graph0\" class=\"graph\" transform=\"scale(1 1) rotate(0) translate(4 307)\">\n",
       "<title>Tree</title>\n",
       "<polygon fill=\"white\" stroke=\"transparent\" points=\"-4,4 -4,-307 796,-307 796,4 -4,4\"/>\n",
       "<!-- 0 -->\n",
       "<g id=\"node1\" class=\"node\">\n",
       "<title>0</title>\n",
       "<polygon fill=\"#eba069\" stroke=\"black\" points=\"489.5,-303 305.5,-303 305.5,-250 489.5,-250 489.5,-303\"/>\n",
       "<text text-anchor=\"middle\" x=\"397.5\" y=\"-287.8\" font-family=\"Helvetica,sans-Serif\" font-size=\"14.00\">Spiculation_Max &lt;= 2.5</text>\n",
       "<text text-anchor=\"middle\" x=\"397.5\" y=\"-272.8\" font-family=\"Helvetica,sans-Serif\" font-size=\"14.00\">samples = 100.0%</text>\n",
       "<text text-anchor=\"middle\" x=\"397.5\" y=\"-257.8\" font-family=\"Helvetica,sans-Serif\" font-size=\"14.00\">value = [0.805, 0.195]</text>\n",
       "</g>\n",
       "<!-- 1 -->\n",
       "<g id=\"node2\" class=\"node\">\n",
       "<title>1</title>\n",
       "<polygon fill=\"#e88f50\" stroke=\"black\" points=\"388.5,-214 180.5,-214 180.5,-161 388.5,-161 388.5,-214\"/>\n",
       "<text text-anchor=\"middle\" x=\"284.5\" y=\"-198.8\" font-family=\"Helvetica,sans-Serif\" font-size=\"14.00\">Lobulation_mean &lt;= 1.708</text>\n",
       "<text text-anchor=\"middle\" x=\"284.5\" y=\"-183.8\" font-family=\"Helvetica,sans-Serif\" font-size=\"14.00\">samples = 76.8%</text>\n",
       "<text text-anchor=\"middle\" x=\"284.5\" y=\"-168.8\" font-family=\"Helvetica,sans-Serif\" font-size=\"14.00\">value = [0.897, 0.103]</text>\n",
       "</g>\n",
       "<!-- 0&#45;&gt;1 -->\n",
       "<g id=\"edge1\" class=\"edge\">\n",
       "<title>0&#45;&gt;1</title>\n",
       "<path fill=\"none\" stroke=\"black\" d=\"M364.21,-249.87C352.24,-240.66 338.6,-230.15 326.03,-220.47\"/>\n",
       "<polygon fill=\"black\" stroke=\"black\" points=\"328,-217.58 317.95,-214.25 323.73,-223.12 328,-217.58\"/>\n",
       "<text text-anchor=\"middle\" x=\"321.17\" y=\"-235.34\" font-family=\"Helvetica,sans-Serif\" font-size=\"14.00\">True</text>\n",
       "</g>\n",
       "<!-- 24 -->\n",
       "<g id=\"node9\" class=\"node\">\n",
       "<title>24</title>\n",
       "<polygon fill=\"#fefdfb\" stroke=\"black\" points=\"614.5,-214 406.5,-214 406.5,-161 614.5,-161 614.5,-214\"/>\n",
       "<text text-anchor=\"middle\" x=\"510.5\" y=\"-198.8\" font-family=\"Helvetica,sans-Serif\" font-size=\"14.00\">Lobulation_mean &lt;= 2.125</text>\n",
       "<text text-anchor=\"middle\" x=\"510.5\" y=\"-183.8\" font-family=\"Helvetica,sans-Serif\" font-size=\"14.00\">samples = 23.2%</text>\n",
       "<text text-anchor=\"middle\" x=\"510.5\" y=\"-168.8\" font-family=\"Helvetica,sans-Serif\" font-size=\"14.00\">value = [0.505, 0.495]</text>\n",
       "</g>\n",
       "<!-- 0&#45;&gt;24 -->\n",
       "<g id=\"edge8\" class=\"edge\">\n",
       "<title>0&#45;&gt;24</title>\n",
       "<path fill=\"none\" stroke=\"black\" d=\"M430.79,-249.87C442.76,-240.66 456.4,-230.15 468.97,-220.47\"/>\n",
       "<polygon fill=\"black\" stroke=\"black\" points=\"471.27,-223.12 477.05,-214.25 467,-217.58 471.27,-223.12\"/>\n",
       "<text text-anchor=\"middle\" x=\"473.83\" y=\"-235.34\" font-family=\"Helvetica,sans-Serif\" font-size=\"14.00\">False</text>\n",
       "</g>\n",
       "<!-- 2 -->\n",
       "<g id=\"node3\" class=\"node\">\n",
       "<title>2</title>\n",
       "<polygon fill=\"#e78a47\" stroke=\"black\" points=\"181,-125 0,-125 0,-72 181,-72 181,-125\"/>\n",
       "<text text-anchor=\"middle\" x=\"90.5\" y=\"-109.8\" font-family=\"Helvetica,sans-Serif\" font-size=\"14.00\">Lobulation_max &lt;= 1.5</text>\n",
       "<text text-anchor=\"middle\" x=\"90.5\" y=\"-94.8\" font-family=\"Helvetica,sans-Serif\" font-size=\"14.00\">samples = 60.6%</text>\n",
       "<text text-anchor=\"middle\" x=\"90.5\" y=\"-79.8\" font-family=\"Helvetica,sans-Serif\" font-size=\"14.00\">value = [0.933, 0.067]</text>\n",
       "</g>\n",
       "<!-- 1&#45;&gt;2 -->\n",
       "<g id=\"edge2\" class=\"edge\">\n",
       "<title>1&#45;&gt;2</title>\n",
       "<path fill=\"none\" stroke=\"black\" d=\"M227.6,-160.98C205.4,-151.03 179.78,-139.54 156.75,-129.21\"/>\n",
       "<polygon fill=\"black\" stroke=\"black\" points=\"157.95,-125.91 147.39,-125.01 155.09,-132.3 157.95,-125.91\"/>\n",
       "</g>\n",
       "<!-- 17 -->\n",
       "<g id=\"node6\" class=\"node\">\n",
       "<title>17</title>\n",
       "<polygon fill=\"#eeab7b\" stroke=\"black\" points=\"382,-125 199,-125 199,-72 382,-72 382,-125\"/>\n",
       "<text text-anchor=\"middle\" x=\"290.5\" y=\"-109.8\" font-family=\"Helvetica,sans-Serif\" font-size=\"14.00\">Margin_mean &lt;= 4.125</text>\n",
       "<text text-anchor=\"middle\" x=\"290.5\" y=\"-94.8\" font-family=\"Helvetica,sans-Serif\" font-size=\"14.00\">samples = 16.2%</text>\n",
       "<text text-anchor=\"middle\" x=\"290.5\" y=\"-79.8\" font-family=\"Helvetica,sans-Serif\" font-size=\"14.00\">value = [0.751, 0.249]</text>\n",
       "</g>\n",
       "<!-- 1&#45;&gt;17 -->\n",
       "<g id=\"edge5\" class=\"edge\">\n",
       "<title>1&#45;&gt;17</title>\n",
       "<path fill=\"none\" stroke=\"black\" d=\"M286.27,-160.87C286.82,-152.89 287.44,-143.93 288.03,-135.38\"/>\n",
       "<polygon fill=\"black\" stroke=\"black\" points=\"291.53,-135.47 288.72,-125.25 284.54,-134.99 291.53,-135.47\"/>\n",
       "</g>\n",
       "<!-- 3 -->\n",
       "<g id=\"node4\" class=\"node\">\n",
       "<title>3</title>\n",
       "<polygon fill=\"#c0c0c0\" stroke=\"black\" points=\"81.5,-36 27.5,-36 27.5,0 81.5,0 81.5,-36\"/>\n",
       "<text text-anchor=\"middle\" x=\"54.5\" y=\"-14.3\" font-family=\"Helvetica,sans-Serif\" font-size=\"14.00\">(...)</text>\n",
       "</g>\n",
       "<!-- 2&#45;&gt;3 -->\n",
       "<g id=\"edge3\" class=\"edge\">\n",
       "<title>2&#45;&gt;3</title>\n",
       "<path fill=\"none\" stroke=\"black\" d=\"M78.71,-71.8C74.84,-63.35 70.53,-53.95 66.63,-45.45\"/>\n",
       "<polygon fill=\"black\" stroke=\"black\" points=\"69.8,-43.96 62.45,-36.33 63.43,-46.88 69.8,-43.96\"/>\n",
       "</g>\n",
       "<!-- 4 -->\n",
       "<g id=\"node5\" class=\"node\">\n",
       "<title>4</title>\n",
       "<polygon fill=\"#c0c0c0\" stroke=\"black\" points=\"153.5,-36 99.5,-36 99.5,0 153.5,0 153.5,-36\"/>\n",
       "<text text-anchor=\"middle\" x=\"126.5\" y=\"-14.3\" font-family=\"Helvetica,sans-Serif\" font-size=\"14.00\">(...)</text>\n",
       "</g>\n",
       "<!-- 2&#45;&gt;4 -->\n",
       "<g id=\"edge4\" class=\"edge\">\n",
       "<title>2&#45;&gt;4</title>\n",
       "<path fill=\"none\" stroke=\"black\" d=\"M102.29,-71.8C106.16,-63.35 110.47,-53.95 114.37,-45.45\"/>\n",
       "<polygon fill=\"black\" stroke=\"black\" points=\"117.57,-46.88 118.55,-36.33 111.2,-43.96 117.57,-46.88\"/>\n",
       "</g>\n",
       "<!-- 18 -->\n",
       "<g id=\"node7\" class=\"node\">\n",
       "<title>18</title>\n",
       "<polygon fill=\"#c0c0c0\" stroke=\"black\" points=\"301.5,-36 247.5,-36 247.5,0 301.5,0 301.5,-36\"/>\n",
       "<text text-anchor=\"middle\" x=\"274.5\" y=\"-14.3\" font-family=\"Helvetica,sans-Serif\" font-size=\"14.00\">(...)</text>\n",
       "</g>\n",
       "<!-- 17&#45;&gt;18 -->\n",
       "<g id=\"edge6\" class=\"edge\">\n",
       "<title>17&#45;&gt;18</title>\n",
       "<path fill=\"none\" stroke=\"black\" d=\"M285.26,-71.8C283.59,-63.62 281.75,-54.55 280.06,-46.27\"/>\n",
       "<polygon fill=\"black\" stroke=\"black\" points=\"283.46,-45.43 278.03,-36.33 276.6,-46.83 283.46,-45.43\"/>\n",
       "</g>\n",
       "<!-- 19 -->\n",
       "<g id=\"node8\" class=\"node\">\n",
       "<title>19</title>\n",
       "<polygon fill=\"#c0c0c0\" stroke=\"black\" points=\"373.5,-36 319.5,-36 319.5,0 373.5,0 373.5,-36\"/>\n",
       "<text text-anchor=\"middle\" x=\"346.5\" y=\"-14.3\" font-family=\"Helvetica,sans-Serif\" font-size=\"14.00\">(...)</text>\n",
       "</g>\n",
       "<!-- 17&#45;&gt;19 -->\n",
       "<g id=\"edge7\" class=\"edge\">\n",
       "<title>17&#45;&gt;19</title>\n",
       "<path fill=\"none\" stroke=\"black\" d=\"M308.84,-71.8C315.06,-63.08 322,-53.34 328.22,-44.63\"/>\n",
       "<polygon fill=\"black\" stroke=\"black\" points=\"331.18,-46.5 334.14,-36.33 325.48,-42.44 331.18,-46.5\"/>\n",
       "</g>\n",
       "<!-- 25 -->\n",
       "<g id=\"node10\" class=\"node\">\n",
       "<title>25</title>\n",
       "<polygon fill=\"#f0b88f\" stroke=\"black\" points=\"596.5,-125 412.5,-125 412.5,-72 596.5,-72 596.5,-125\"/>\n",
       "<text text-anchor=\"middle\" x=\"504.5\" y=\"-109.8\" font-family=\"Helvetica,sans-Serif\" font-size=\"14.00\">Spiculation_Max &lt;= 4.5</text>\n",
       "<text text-anchor=\"middle\" x=\"504.5\" y=\"-94.8\" font-family=\"Helvetica,sans-Serif\" font-size=\"14.00\">samples = 10.9%</text>\n",
       "<text text-anchor=\"middle\" x=\"504.5\" y=\"-79.8\" font-family=\"Helvetica,sans-Serif\" font-size=\"14.00\">value = [0.696, 0.304]</text>\n",
       "</g>\n",
       "<!-- 24&#45;&gt;25 -->\n",
       "<g id=\"edge9\" class=\"edge\">\n",
       "<title>24&#45;&gt;25</title>\n",
       "<path fill=\"none\" stroke=\"black\" d=\"M508.73,-160.87C508.18,-152.89 507.56,-143.93 506.97,-135.38\"/>\n",
       "<polygon fill=\"black\" stroke=\"black\" points=\"510.46,-134.99 506.28,-125.25 503.47,-135.47 510.46,-134.99\"/>\n",
       "</g>\n",
       "<!-- 38 -->\n",
       "<g id=\"node13\" class=\"node\">\n",
       "<title>38</title>\n",
       "<polygon fill=\"#9ccef2\" stroke=\"black\" points=\"792,-125 615,-125 615,-72 792,-72 792,-125\"/>\n",
       "<text text-anchor=\"middle\" x=\"703.5\" y=\"-109.8\" font-family=\"Helvetica,sans-Serif\" font-size=\"14.00\">Lobulation_min &lt;= 3.5</text>\n",
       "<text text-anchor=\"middle\" x=\"703.5\" y=\"-94.8\" font-family=\"Helvetica,sans-Serif\" font-size=\"14.00\">samples = 12.3%</text>\n",
       "<text text-anchor=\"middle\" x=\"703.5\" y=\"-79.8\" font-family=\"Helvetica,sans-Serif\" font-size=\"14.00\">value = [0.333, 0.667]</text>\n",
       "</g>\n",
       "<!-- 24&#45;&gt;38 -->\n",
       "<g id=\"edge12\" class=\"edge\">\n",
       "<title>24&#45;&gt;38</title>\n",
       "<path fill=\"none\" stroke=\"black\" d=\"M567.1,-160.98C589.2,-151.03 614.68,-139.54 637.59,-129.21\"/>\n",
       "<polygon fill=\"black\" stroke=\"black\" points=\"639.22,-132.31 646.9,-125.01 636.34,-125.93 639.22,-132.31\"/>\n",
       "</g>\n",
       "<!-- 26 -->\n",
       "<g id=\"node11\" class=\"node\">\n",
       "<title>26</title>\n",
       "<polygon fill=\"#c0c0c0\" stroke=\"black\" points=\"474.5,-36 420.5,-36 420.5,0 474.5,0 474.5,-36\"/>\n",
       "<text text-anchor=\"middle\" x=\"447.5\" y=\"-14.3\" font-family=\"Helvetica,sans-Serif\" font-size=\"14.00\">(...)</text>\n",
       "</g>\n",
       "<!-- 25&#45;&gt;26 -->\n",
       "<g id=\"edge10\" class=\"edge\">\n",
       "<title>25&#45;&gt;26</title>\n",
       "<path fill=\"none\" stroke=\"black\" d=\"M485.84,-71.8C479.5,-63.08 472.44,-53.34 466.11,-44.63\"/>\n",
       "<polygon fill=\"black\" stroke=\"black\" points=\"468.79,-42.37 460.08,-36.33 463.13,-46.48 468.79,-42.37\"/>\n",
       "</g>\n",
       "<!-- 33 -->\n",
       "<g id=\"node12\" class=\"node\">\n",
       "<title>33</title>\n",
       "<polygon fill=\"#c0c0c0\" stroke=\"black\" points=\"546.5,-36 492.5,-36 492.5,0 546.5,0 546.5,-36\"/>\n",
       "<text text-anchor=\"middle\" x=\"519.5\" y=\"-14.3\" font-family=\"Helvetica,sans-Serif\" font-size=\"14.00\">(...)</text>\n",
       "</g>\n",
       "<!-- 25&#45;&gt;33 -->\n",
       "<g id=\"edge11\" class=\"edge\">\n",
       "<title>25&#45;&gt;33</title>\n",
       "<path fill=\"none\" stroke=\"black\" d=\"M509.41,-71.8C510.97,-63.62 512.71,-54.55 514.29,-46.27\"/>\n",
       "<polygon fill=\"black\" stroke=\"black\" points=\"517.75,-46.81 516.19,-36.33 510.87,-45.5 517.75,-46.81\"/>\n",
       "</g>\n",
       "<!-- 39 -->\n",
       "<g id=\"node14\" class=\"node\">\n",
       "<title>39</title>\n",
       "<polygon fill=\"#c0c0c0\" stroke=\"black\" points=\"694.5,-36 640.5,-36 640.5,0 694.5,0 694.5,-36\"/>\n",
       "<text text-anchor=\"middle\" x=\"667.5\" y=\"-14.3\" font-family=\"Helvetica,sans-Serif\" font-size=\"14.00\">(...)</text>\n",
       "</g>\n",
       "<!-- 38&#45;&gt;39 -->\n",
       "<g id=\"edge13\" class=\"edge\">\n",
       "<title>38&#45;&gt;39</title>\n",
       "<path fill=\"none\" stroke=\"black\" d=\"M691.71,-71.8C687.84,-63.35 683.53,-53.95 679.63,-45.45\"/>\n",
       "<polygon fill=\"black\" stroke=\"black\" points=\"682.8,-43.96 675.45,-36.33 676.43,-46.88 682.8,-43.96\"/>\n",
       "</g>\n",
       "<!-- 50 -->\n",
       "<g id=\"node15\" class=\"node\">\n",
       "<title>50</title>\n",
       "<polygon fill=\"#c0c0c0\" stroke=\"black\" points=\"766.5,-36 712.5,-36 712.5,0 766.5,0 766.5,-36\"/>\n",
       "<text text-anchor=\"middle\" x=\"739.5\" y=\"-14.3\" font-family=\"Helvetica,sans-Serif\" font-size=\"14.00\">(...)</text>\n",
       "</g>\n",
       "<!-- 38&#45;&gt;50 -->\n",
       "<g id=\"edge14\" class=\"edge\">\n",
       "<title>38&#45;&gt;50</title>\n",
       "<path fill=\"none\" stroke=\"black\" d=\"M715.29,-71.8C719.16,-63.35 723.47,-53.95 727.37,-45.45\"/>\n",
       "<polygon fill=\"black\" stroke=\"black\" points=\"730.57,-46.88 731.55,-36.33 724.2,-43.96 730.57,-46.88\"/>\n",
       "</g>\n",
       "</g>\n",
       "</svg>\n"
      ],
      "text/plain": [
       "<graphviz.sources.Source at 0x7fc7a5917760>"
      ]
     },
     "metadata": {},
     "output_type": "display_data"
    },
    {
     "data": {
      "image/svg+xml": [
       "<?xml version=\"1.0\" encoding=\"UTF-8\" standalone=\"no\"?>\n",
       "<!DOCTYPE svg PUBLIC \"-//W3C//DTD SVG 1.1//EN\"\n",
       " \"http://www.w3.org/Graphics/SVG/1.1/DTD/svg11.dtd\">\n",
       "<!-- Generated by graphviz version 2.43.0 (0)\n",
       " -->\n",
       "<!-- Title: Tree Pages: 1 -->\n",
       "<svg width=\"810pt\" height=\"311pt\"\n",
       " viewBox=\"0.00 0.00 810.00 311.00\" xmlns=\"http://www.w3.org/2000/svg\" xmlns:xlink=\"http://www.w3.org/1999/xlink\">\n",
       "<g id=\"graph0\" class=\"graph\" transform=\"scale(1 1) rotate(0) translate(4 307)\">\n",
       "<title>Tree</title>\n",
       "<polygon fill=\"white\" stroke=\"transparent\" points=\"-4,4 -4,-307 806,-307 806,4 -4,4\"/>\n",
       "<!-- 0 -->\n",
       "<g id=\"node1\" class=\"node\">\n",
       "<title>0</title>\n",
       "<polygon fill=\"#eba069\" stroke=\"black\" points=\"498,-303 290,-303 290,-250 498,-250 498,-303\"/>\n",
       "<text text-anchor=\"middle\" x=\"394\" y=\"-287.8\" font-family=\"Helvetica,sans-Serif\" font-size=\"14.00\">Lobulation_mean &lt;= 2.225</text>\n",
       "<text text-anchor=\"middle\" x=\"394\" y=\"-272.8\" font-family=\"Helvetica,sans-Serif\" font-size=\"14.00\">samples = 100.0%</text>\n",
       "<text text-anchor=\"middle\" x=\"394\" y=\"-257.8\" font-family=\"Helvetica,sans-Serif\" font-size=\"14.00\">value = [0.803, 0.197]</text>\n",
       "</g>\n",
       "<!-- 1 -->\n",
       "<g id=\"node2\" class=\"node\">\n",
       "<title>1</title>\n",
       "<polygon fill=\"#e89153\" stroke=\"black\" points=\"381.5,-214 200.5,-214 200.5,-161 381.5,-161 381.5,-214\"/>\n",
       "<text text-anchor=\"middle\" x=\"291\" y=\"-198.8\" font-family=\"Helvetica,sans-Serif\" font-size=\"14.00\">Lobulation_max &lt;= 1.5</text>\n",
       "<text text-anchor=\"middle\" x=\"291\" y=\"-183.8\" font-family=\"Helvetica,sans-Serif\" font-size=\"14.00\">samples = 81.2%</text>\n",
       "<text text-anchor=\"middle\" x=\"291\" y=\"-168.8\" font-family=\"Helvetica,sans-Serif\" font-size=\"14.00\">value = [0.884, 0.116]</text>\n",
       "</g>\n",
       "<!-- 0&#45;&gt;1 -->\n",
       "<g id=\"edge1\" class=\"edge\">\n",
       "<title>0&#45;&gt;1</title>\n",
       "<path fill=\"none\" stroke=\"black\" d=\"M363.65,-249.87C352.85,-240.75 340.55,-230.35 329.18,-220.75\"/>\n",
       "<polygon fill=\"black\" stroke=\"black\" points=\"331.38,-218.03 321.49,-214.25 326.87,-223.38 331.38,-218.03\"/>\n",
       "<text text-anchor=\"middle\" x=\"323.58\" y=\"-235.46\" font-family=\"Helvetica,sans-Serif\" font-size=\"14.00\">True</text>\n",
       "</g>\n",
       "<!-- 36 -->\n",
       "<g id=\"node7\" class=\"node\">\n",
       "<title>36</title>\n",
       "<polygon fill=\"#d8ecfa\" stroke=\"black\" points=\"586.5,-214 409.5,-214 409.5,-161 586.5,-161 586.5,-214\"/>\n",
       "<text text-anchor=\"middle\" x=\"498\" y=\"-198.8\" font-family=\"Helvetica,sans-Serif\" font-size=\"14.00\">Lobulation_min &lt;= 2.5</text>\n",
       "<text text-anchor=\"middle\" x=\"498\" y=\"-183.8\" font-family=\"Helvetica,sans-Serif\" font-size=\"14.00\">samples = 18.8%</text>\n",
       "<text text-anchor=\"middle\" x=\"498\" y=\"-168.8\" font-family=\"Helvetica,sans-Serif\" font-size=\"14.00\">value = [0.445, 0.555]</text>\n",
       "</g>\n",
       "<!-- 0&#45;&gt;36 -->\n",
       "<g id=\"edge6\" class=\"edge\">\n",
       "<title>0&#45;&gt;36</title>\n",
       "<path fill=\"none\" stroke=\"black\" d=\"M424.64,-249.87C435.55,-240.75 447.97,-230.35 459.45,-220.75\"/>\n",
       "<polygon fill=\"black\" stroke=\"black\" points=\"461.79,-223.35 467.22,-214.25 457.3,-217.98 461.79,-223.35\"/>\n",
       "<text text-anchor=\"middle\" x=\"465\" y=\"-235.45\" font-family=\"Helvetica,sans-Serif\" font-size=\"14.00\">False</text>\n",
       "</g>\n",
       "<!-- 2 -->\n",
       "<g id=\"node3\" class=\"node\">\n",
       "<title>2</title>\n",
       "<polygon fill=\"#e68742\" stroke=\"black\" points=\"176,-117.5 0,-117.5 0,-79.5 176,-79.5 176,-117.5\"/>\n",
       "<text text-anchor=\"middle\" x=\"88\" y=\"-102.3\" font-family=\"Helvetica,sans-Serif\" font-size=\"14.00\">samples = 44.4%</text>\n",
       "<text text-anchor=\"middle\" x=\"88\" y=\"-87.3\" font-family=\"Helvetica,sans-Serif\" font-size=\"14.00\">value = [0.955, 0.045]</text>\n",
       "</g>\n",
       "<!-- 1&#45;&gt;2 -->\n",
       "<g id=\"edge2\" class=\"edge\">\n",
       "<title>1&#45;&gt;2</title>\n",
       "<path fill=\"none\" stroke=\"black\" d=\"M231.46,-160.98C202.24,-148.46 167.39,-133.53 139.36,-121.51\"/>\n",
       "<polygon fill=\"black\" stroke=\"black\" points=\"140.7,-118.28 130.13,-117.55 137.94,-124.71 140.7,-118.28\"/>\n",
       "</g>\n",
       "<!-- 3 -->\n",
       "<g id=\"node4\" class=\"node\">\n",
       "<title>3</title>\n",
       "<polygon fill=\"#eca16c\" stroke=\"black\" points=\"388,-125 194,-125 194,-72 388,-72 388,-125\"/>\n",
       "<text text-anchor=\"middle\" x=\"291\" y=\"-109.8\" font-family=\"Helvetica,sans-Serif\" font-size=\"14.00\">Spiculation_Med &lt;= 1.45</text>\n",
       "<text text-anchor=\"middle\" x=\"291\" y=\"-94.8\" font-family=\"Helvetica,sans-Serif\" font-size=\"14.00\">samples = 36.8%</text>\n",
       "<text text-anchor=\"middle\" x=\"291\" y=\"-79.8\" font-family=\"Helvetica,sans-Serif\" font-size=\"14.00\">value = [0.796, 0.204]</text>\n",
       "</g>\n",
       "<!-- 1&#45;&gt;3 -->\n",
       "<g id=\"edge3\" class=\"edge\">\n",
       "<title>1&#45;&gt;3</title>\n",
       "<path fill=\"none\" stroke=\"black\" d=\"M291,-160.87C291,-152.89 291,-143.93 291,-135.38\"/>\n",
       "<polygon fill=\"black\" stroke=\"black\" points=\"294.5,-135.25 291,-125.25 287.5,-135.25 294.5,-135.25\"/>\n",
       "</g>\n",
       "<!-- 4 -->\n",
       "<g id=\"node5\" class=\"node\">\n",
       "<title>4</title>\n",
       "<polygon fill=\"#c0c0c0\" stroke=\"black\" points=\"282,-36 228,-36 228,0 282,0 282,-36\"/>\n",
       "<text text-anchor=\"middle\" x=\"255\" y=\"-14.3\" font-family=\"Helvetica,sans-Serif\" font-size=\"14.00\">(...)</text>\n",
       "</g>\n",
       "<!-- 3&#45;&gt;4 -->\n",
       "<g id=\"edge4\" class=\"edge\">\n",
       "<title>3&#45;&gt;4</title>\n",
       "<path fill=\"none\" stroke=\"black\" d=\"M279.21,-71.8C275.34,-63.35 271.03,-53.95 267.13,-45.45\"/>\n",
       "<polygon fill=\"black\" stroke=\"black\" points=\"270.3,-43.96 262.95,-36.33 263.93,-46.88 270.3,-43.96\"/>\n",
       "</g>\n",
       "<!-- 19 -->\n",
       "<g id=\"node6\" class=\"node\">\n",
       "<title>19</title>\n",
       "<polygon fill=\"#c0c0c0\" stroke=\"black\" points=\"354,-36 300,-36 300,0 354,0 354,-36\"/>\n",
       "<text text-anchor=\"middle\" x=\"327\" y=\"-14.3\" font-family=\"Helvetica,sans-Serif\" font-size=\"14.00\">(...)</text>\n",
       "</g>\n",
       "<!-- 3&#45;&gt;19 -->\n",
       "<g id=\"edge5\" class=\"edge\">\n",
       "<title>3&#45;&gt;19</title>\n",
       "<path fill=\"none\" stroke=\"black\" d=\"M302.79,-71.8C306.66,-63.35 310.97,-53.95 314.87,-45.45\"/>\n",
       "<polygon fill=\"black\" stroke=\"black\" points=\"318.07,-46.88 319.05,-36.33 311.7,-43.96 318.07,-46.88\"/>\n",
       "</g>\n",
       "<!-- 37 -->\n",
       "<g id=\"node8\" class=\"node\">\n",
       "<title>37</title>\n",
       "<polygon fill=\"#92c9f1\" stroke=\"black\" points=\"590,-125 406,-125 406,-72 590,-72 590,-125\"/>\n",
       "<text text-anchor=\"middle\" x=\"498\" y=\"-109.8\" font-family=\"Helvetica,sans-Serif\" font-size=\"14.00\">Spiculation_Max &lt;= 2.5</text>\n",
       "<text text-anchor=\"middle\" x=\"498\" y=\"-94.8\" font-family=\"Helvetica,sans-Serif\" font-size=\"14.00\">samples = 12.9%</text>\n",
       "<text text-anchor=\"middle\" x=\"498\" y=\"-79.8\" font-family=\"Helvetica,sans-Serif\" font-size=\"14.00\">value = [0.311, 0.689]</text>\n",
       "</g>\n",
       "<!-- 36&#45;&gt;37 -->\n",
       "<g id=\"edge7\" class=\"edge\">\n",
       "<title>36&#45;&gt;37</title>\n",
       "<path fill=\"none\" stroke=\"black\" d=\"M498,-160.87C498,-152.89 498,-143.93 498,-135.38\"/>\n",
       "<polygon fill=\"black\" stroke=\"black\" points=\"501.5,-135.25 498,-125.25 494.5,-135.25 501.5,-135.25\"/>\n",
       "</g>\n",
       "<!-- 54 -->\n",
       "<g id=\"node11\" class=\"node\">\n",
       "<title>54</title>\n",
       "<polygon fill=\"#efb184\" stroke=\"black\" points=\"802,-125 608,-125 608,-72 802,-72 802,-125\"/>\n",
       "<text text-anchor=\"middle\" x=\"705\" y=\"-109.8\" font-family=\"Helvetica,sans-Serif\" font-size=\"14.00\">Spiculation_Med &lt;= 1.25</text>\n",
       "<text text-anchor=\"middle\" x=\"705\" y=\"-94.8\" font-family=\"Helvetica,sans-Serif\" font-size=\"14.00\">samples = 5.9%</text>\n",
       "<text text-anchor=\"middle\" x=\"705\" y=\"-79.8\" font-family=\"Helvetica,sans-Serif\" font-size=\"14.00\">value = [0.724, 0.276]</text>\n",
       "</g>\n",
       "<!-- 36&#45;&gt;54 -->\n",
       "<g id=\"edge10\" class=\"edge\">\n",
       "<title>36&#45;&gt;54</title>\n",
       "<path fill=\"none\" stroke=\"black\" d=\"M558.71,-160.98C582.61,-150.94 610.22,-139.34 634.96,-128.94\"/>\n",
       "<polygon fill=\"black\" stroke=\"black\" points=\"636.43,-132.12 644.29,-125.01 633.72,-125.66 636.43,-132.12\"/>\n",
       "</g>\n",
       "<!-- 38 -->\n",
       "<g id=\"node9\" class=\"node\">\n",
       "<title>38</title>\n",
       "<polygon fill=\"#c0c0c0\" stroke=\"black\" points=\"507,-36 453,-36 453,0 507,0 507,-36\"/>\n",
       "<text text-anchor=\"middle\" x=\"480\" y=\"-14.3\" font-family=\"Helvetica,sans-Serif\" font-size=\"14.00\">(...)</text>\n",
       "</g>\n",
       "<!-- 37&#45;&gt;38 -->\n",
       "<g id=\"edge8\" class=\"edge\">\n",
       "<title>37&#45;&gt;38</title>\n",
       "<path fill=\"none\" stroke=\"black\" d=\"M492.11,-71.8C490.23,-63.62 488.15,-54.55 486.25,-46.27\"/>\n",
       "<polygon fill=\"black\" stroke=\"black\" points=\"489.62,-45.3 483.97,-36.33 482.8,-46.86 489.62,-45.3\"/>\n",
       "</g>\n",
       "<!-- 47 -->\n",
       "<g id=\"node10\" class=\"node\">\n",
       "<title>47</title>\n",
       "<polygon fill=\"#c0c0c0\" stroke=\"black\" points=\"579,-36 525,-36 525,0 579,0 579,-36\"/>\n",
       "<text text-anchor=\"middle\" x=\"552\" y=\"-14.3\" font-family=\"Helvetica,sans-Serif\" font-size=\"14.00\">(...)</text>\n",
       "</g>\n",
       "<!-- 37&#45;&gt;47 -->\n",
       "<g id=\"edge9\" class=\"edge\">\n",
       "<title>37&#45;&gt;47</title>\n",
       "<path fill=\"none\" stroke=\"black\" d=\"M515.68,-71.8C521.68,-63.08 528.38,-53.34 534.37,-44.63\"/>\n",
       "<polygon fill=\"black\" stroke=\"black\" points=\"537.29,-46.55 540.08,-36.33 531.53,-42.59 537.29,-46.55\"/>\n",
       "</g>\n",
       "<!-- 55 -->\n",
       "<g id=\"node12\" class=\"node\">\n",
       "<title>55</title>\n",
       "<polygon fill=\"#c0c0c0\" stroke=\"black\" points=\"678,-36 624,-36 624,0 678,0 678,-36\"/>\n",
       "<text text-anchor=\"middle\" x=\"651\" y=\"-14.3\" font-family=\"Helvetica,sans-Serif\" font-size=\"14.00\">(...)</text>\n",
       "</g>\n",
       "<!-- 54&#45;&gt;55 -->\n",
       "<g id=\"edge11\" class=\"edge\">\n",
       "<title>54&#45;&gt;55</title>\n",
       "<path fill=\"none\" stroke=\"black\" d=\"M687.32,-71.8C681.32,-63.08 674.62,-53.34 668.63,-44.63\"/>\n",
       "<polygon fill=\"black\" stroke=\"black\" points=\"671.47,-42.59 662.92,-36.33 665.71,-46.55 671.47,-42.59\"/>\n",
       "</g>\n",
       "<!-- 56 -->\n",
       "<g id=\"node13\" class=\"node\">\n",
       "<title>56</title>\n",
       "<polygon fill=\"#c0c0c0\" stroke=\"black\" points=\"750,-36 696,-36 696,0 750,0 750,-36\"/>\n",
       "<text text-anchor=\"middle\" x=\"723\" y=\"-14.3\" font-family=\"Helvetica,sans-Serif\" font-size=\"14.00\">(...)</text>\n",
       "</g>\n",
       "<!-- 54&#45;&gt;56 -->\n",
       "<g id=\"edge12\" class=\"edge\">\n",
       "<title>54&#45;&gt;56</title>\n",
       "<path fill=\"none\" stroke=\"black\" d=\"M710.89,-71.8C712.77,-63.62 714.85,-54.55 716.75,-46.27\"/>\n",
       "<polygon fill=\"black\" stroke=\"black\" points=\"720.2,-46.86 719.03,-36.33 713.38,-45.3 720.2,-46.86\"/>\n",
       "</g>\n",
       "</g>\n",
       "</svg>\n"
      ],
      "text/plain": [
       "<graphviz.sources.Source at 0x7fc7a5855130>"
      ]
     },
     "metadata": {},
     "output_type": "display_data"
    }
   ],
   "source": [
    "# print of the more significant separations with percentage of the subset (train) and proportion for each separation\n",
    "# for the two first trees\n",
    "\n",
    "rf = RandomForestClassifier(max_features=best,min_impurity_decrease=0.001)\n",
    "rf.fit(X_train, y_train)\n",
    "\n",
    "for i in range(2):\n",
    "    tree = rf.estimators_[i]\n",
    "    dot_data = export_graphviz(tree,feature_names=X_train.columns,filled=True,max_depth=2,impurity=False,proportion=True)\n",
    "    graph = graphviz.Source(dot_data)\n",
    "    display(graph)"
   ]
  },
  {
   "cell_type": "code",
   "execution_count": 26,
   "id": "31ce8241",
   "metadata": {},
   "outputs": [],
   "source": [
    "#KNN"
   ]
  },
  {
   "cell_type": "code",
   "execution_count": 27,
   "id": "896c78f5",
   "metadata": {},
   "outputs": [],
   "source": [
    "# Knn construction for different values of hyperparameter - number of neighbors (n_neighbors) \n",
    "\n",
    "\n",
    "knn = KNeighborsClassifier(n_neighbors=1)\n",
    "knn.fit(X_train, y_train) \n",
    "y_pred = knn.predict(X_test)\n",
    "accuracy = accuracy_score(y_test, y_pred)\n",
    "#print(\"Number of neighbors: \",\"1\", \"Accuracy: \", accuracy)\n",
    "best=1\n",
    "best_ac=accuracy\n",
    "x_knn=[1]\n",
    "y_knn=[accuracy]\n",
    "\n",
    "for i in range(2,10):\n",
    "    knn = KNeighborsClassifier(n_neighbors=i)\n",
    "    knn.fit(X_train, y_train) \n",
    "    y_pred = knn.predict(X_test)\n",
    "    accuracy = accuracy_score(y_test, y_pred)\n",
    "    #print(\"Number of neighbors: \",i, \"Accuracy: \", accuracy)\n",
    "    x_knn.append(i)\n",
    "    y_knn.append(accuracy)\n",
    "    if(accuracy>best_ac):\n",
    "        best=i\n",
    "        best_ac=accuracy"
   ]
  },
  {
   "cell_type": "code",
   "execution_count": 28,
   "id": "d25afdd7",
   "metadata": {},
   "outputs": [
    {
     "name": "stdout",
     "output_type": "stream",
     "text": [
      "Best number of neighbors:  8  with accuracy= 0.8418079096045198\n"
     ]
    },
    {
     "data": {
      "image/png": "[encoded data removed]",
      "text/plain": [
       "<Figure size 432x288 with 1 Axes>"
      ]
     },
     "metadata": {
      "needs_background": "light"
     },
     "output_type": "display_data"
    }
   ],
   "source": [
    "# Evaluate the hyperparameter and identify the best value for the accuracy\n",
    "\n",
    "s = pd.Series(y_knn,x_knn)\n",
    "plt.title('Accuracy for different number of neighbors')\n",
    "plt.xlabel('K')\n",
    "plt.ylabel('Accuracy')\n",
    "\n",
    "s.plot.line()  \n",
    "print(\"Best number of neighbors: \", best ,\" with accuracy=\", best_ac)"
   ]
  }
 ],
 "metadata": {
  "kernelspec": {
   "display_name": "Python 3 (ipykernel)",
   "language": "python",
   "name": "python3"
  },
  "language_info": {
   "codemirror_mode": {
    "name": "ipython",
    "version": 3
   },
   "file_extension": ".py",
   "mimetype": "text/x-python",
   "name": "python",
   "nbconvert_exporter": "python",
   "pygments_lexer": "ipython3",
   "version": "3.9.7"
  }
 },
 "nbformat": 4,
 "nbformat_minor": 5
}
