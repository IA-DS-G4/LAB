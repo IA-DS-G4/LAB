{
 "cells": [
  {
   "cell_type": "code",
   "execution_count": 1,
   "id": "31404702-01df-4299-b806-b61ef35e81e3",
   "metadata": {},
   "outputs": [
    {
     "ename": "AttributeError",
     "evalue": "module 'numpy' has no attribute 'int'.\n`np.int` was a deprecated alias for the builtin `int`. To avoid this error in existing code, use `int` by itself. Doing this will not modify any behavior and is safe. When replacing `np.int`, you may wish to use e.g. `np.int64` or `np.int32` to specify the precision. If you wish to review your current use, check the release note link for additional information.\nThe aliases was originally deprecated in NumPy 1.20; for more details and guidance see the original release note at:\n    https://numpy.org/devdocs/release/1.20.0-notes.html#deprecations",
     "output_type": "error",
     "traceback": [
      "\u001b[1;31m---------------------------------------------------------------------------\u001b[0m",
      "\u001b[1;31mAttributeError\u001b[0m                            Traceback (most recent call last)",
      "\u001b[1;32mc:\\Users\\Diederik\\OneDrive\\Bureaublad\\studie tn\\Minor vakken Porto\\IA CAD\\GITHUB\\LAB\\Test_ROI_Query.ipynb Cell 1\u001b[0m line \u001b[0;36m3\n\u001b[0;32m     <a href='vscode-notebook-cell:/c%3A/Users/Diederik/OneDrive/Bureaublad/studie%20tn/Minor%20vakken%20Porto/IA%20CAD/GITHUB/LAB/Test_ROI_Query.ipynb#W0sZmlsZQ%3D%3D?line=25'>26</a>\u001b[0m     plt\u001b[39m.\u001b[39mshow()\n\u001b[0;32m     <a href='vscode-notebook-cell:/c%3A/Users/Diederik/OneDrive/Bureaublad/studie%20tn/Minor%20vakken%20Porto/IA%20CAD/GITHUB/LAB/Test_ROI_Query.ipynb#W0sZmlsZQ%3D%3D?line=28'>29</a>\u001b[0m pid \u001b[39m=\u001b[39m \u001b[39m'\u001b[39m\u001b[39mLIDC-IDRI-0001\u001b[39m\u001b[39m'\u001b[39m\n\u001b[1;32m---> <a href='vscode-notebook-cell:/c%3A/Users/Diederik/OneDrive/Bureaublad/studie%20tn/Minor%20vakken%20Porto/IA%20CAD/GITHUB/LAB/Test_ROI_Query.ipynb#W0sZmlsZQ%3D%3D?line=30'>31</a>\u001b[0m get_ROI_Dicom(pid)\n",
      "\u001b[1;32mc:\\Users\\Diederik\\OneDrive\\Bureaublad\\studie tn\\Minor vakken Porto\\IA CAD\\GITHUB\\LAB\\Test_ROI_Query.ipynb Cell 1\u001b[0m line \u001b[0;36m1\n\u001b[0;32m     <a href='vscode-notebook-cell:/c%3A/Users/Diederik/OneDrive/Bureaublad/studie%20tn/Minor%20vakken%20Porto/IA%20CAD/GITHUB/LAB/Test_ROI_Query.ipynb#W0sZmlsZQ%3D%3D?line=10'>11</a>\u001b[0m ann \u001b[39m=\u001b[39m pl\u001b[39m.\u001b[39mquery(pl\u001b[39m.\u001b[39mAnnotation)\u001b[39m.\u001b[39mfirst()\n\u001b[0;32m     <a href='vscode-notebook-cell:/c%3A/Users/Diederik/OneDrive/Bureaublad/studie%20tn/Minor%20vakken%20Porto/IA%20CAD/GITHUB/LAB/Test_ROI_Query.ipynb#W0sZmlsZQ%3D%3D?line=11'>12</a>\u001b[0m padding \u001b[39m=\u001b[39m [(\u001b[39m30\u001b[39m, \u001b[39m10\u001b[39m), (\u001b[39m10\u001b[39m, \u001b[39m25\u001b[39m), (\u001b[39m0\u001b[39m, \u001b[39m0\u001b[39m)]\n\u001b[1;32m---> <a href='vscode-notebook-cell:/c%3A/Users/Diederik/OneDrive/Bureaublad/studie%20tn/Minor%20vakken%20Porto/IA%20CAD/GITHUB/LAB/Test_ROI_Query.ipynb#W0sZmlsZQ%3D%3D?line=12'>13</a>\u001b[0m mask \u001b[39m=\u001b[39m ann\u001b[39m.\u001b[39;49mboolean_mask(pad\u001b[39m=\u001b[39;49mpadding)\n\u001b[0;32m     <a href='vscode-notebook-cell:/c%3A/Users/Diederik/OneDrive/Bureaublad/studie%20tn/Minor%20vakken%20Porto/IA%20CAD/GITHUB/LAB/Test_ROI_Query.ipynb#W0sZmlsZQ%3D%3D?line=13'>14</a>\u001b[0m bbox \u001b[39m=\u001b[39m ann\u001b[39m.\u001b[39mbbox(pad\u001b[39m=\u001b[39mpadding)\n\u001b[0;32m     <a href='vscode-notebook-cell:/c%3A/Users/Diederik/OneDrive/Bureaublad/studie%20tn/Minor%20vakken%20Porto/IA%20CAD/GITHUB/LAB/Test_ROI_Query.ipynb#W0sZmlsZQ%3D%3D?line=14'>15</a>\u001b[0m vol \u001b[39m=\u001b[39m ann\u001b[39m.\u001b[39mscan\u001b[39m.\u001b[39mto_volume()\n",
      "File \u001b[1;32mc:\\Users\\Diederik\\anaconda3\\envs\\LAB\\lib\\site-packages\\pylidc\\Annotation.py:1011\u001b[0m, in \u001b[0;36mAnnotation.boolean_mask\u001b[1;34m(self, pad, bbox, include_contour_points)\u001b[0m\n\u001b[0;32m    972\u001b[0m \u001b[39mdef\u001b[39;00m \u001b[39mboolean_mask\u001b[39m(\u001b[39mself\u001b[39m, pad\u001b[39m=\u001b[39m\u001b[39mNone\u001b[39;00m, bbox\u001b[39m=\u001b[39m\u001b[39mNone\u001b[39;00m, include_contour_points\u001b[39m=\u001b[39m\u001b[39mFalse\u001b[39;00m):\n\u001b[0;32m    973\u001b[0m \u001b[39m    \u001b[39m\u001b[39m\"\"\"\u001b[39;00m\n\u001b[0;32m    974\u001b[0m \u001b[39m    A boolean volume where 1 indicates nodule and 0 indicates\u001b[39;00m\n\u001b[0;32m    975\u001b[0m \u001b[39m    non-nodule. The `mask` volume covers the extent of the voxels\u001b[39;00m\n\u001b[1;32m   (...)\u001b[0m\n\u001b[0;32m   1009\u001b[0m \u001b[39m        # => Avg HU outside nodule: -732.2\u001b[39;00m\n\u001b[0;32m   1010\u001b[0m \u001b[39m    \"\"\"\u001b[39;00m\n\u001b[1;32m-> 1011\u001b[0m     bb \u001b[39m=\u001b[39m \u001b[39mself\u001b[39;49m\u001b[39m.\u001b[39;49mbbox_matrix(pad\u001b[39m=\u001b[39;49mpad) \u001b[39mif\u001b[39;00m bbox \u001b[39mis\u001b[39;00m \u001b[39mNone\u001b[39;00m \u001b[39melse\u001b[39;00m bbox\n\u001b[0;32m   1013\u001b[0m     czs \u001b[39m=\u001b[39m \u001b[39mself\u001b[39m\u001b[39m.\u001b[39mcontour_slice_zvals\n\u001b[0;32m   1014\u001b[0m     cks \u001b[39m=\u001b[39m \u001b[39mself\u001b[39m\u001b[39m.\u001b[39mcontour_slice_indices\n",
      "File \u001b[1;32mc:\\Users\\Diederik\\anaconda3\\envs\\LAB\\lib\\site-packages\\pylidc\\Annotation.py:561\u001b[0m, in \u001b[0;36mAnnotation.bbox_matrix\u001b[1;34m(self, pad)\u001b[0m\n\u001b[0;32m    520\u001b[0m \u001b[39mdef\u001b[39;00m \u001b[39mbbox_matrix\u001b[39m(\u001b[39mself\u001b[39m, pad\u001b[39m=\u001b[39m\u001b[39mNone\u001b[39;00m):\n\u001b[0;32m    521\u001b[0m \u001b[39m    \u001b[39m\u001b[39m\"\"\"\u001b[39;00m\n\u001b[0;32m    522\u001b[0m \u001b[39m    The `bbox` function returns a tuple of slices to be used to index\u001b[39;00m\n\u001b[0;32m    523\u001b[0m \u001b[39m    into an image volume. On the other hand, `bbox_array` returns\u001b[39;00m\n\u001b[1;32m   (...)\u001b[0m\n\u001b[0;32m    559\u001b[0m \u001b[39m        # => True\u001b[39;00m\n\u001b[0;32m    560\u001b[0m \u001b[39m    \"\"\"\u001b[39;00m\n\u001b[1;32m--> 561\u001b[0m     \u001b[39mreturn\u001b[39;00m np\u001b[39m.\u001b[39marray([[sl\u001b[39m.\u001b[39mstart, sl\u001b[39m.\u001b[39mstop\u001b[39m-\u001b[39m\u001b[39m1\u001b[39m] \u001b[39mfor\u001b[39;00m sl \u001b[39min\u001b[39;00m \u001b[39mself\u001b[39;49m\u001b[39m.\u001b[39;49mbbox(pad\u001b[39m=\u001b[39;49mpad)])\n",
      "File \u001b[1;32mc:\\Users\\Diederik\\anaconda3\\envs\\LAB\\lib\\site-packages\\pylidc\\Annotation.py:430\u001b[0m, in \u001b[0;36mAnnotation.bbox\u001b[1;34m(self, pad)\u001b[0m\n\u001b[0;32m    427\u001b[0m \u001b[39m# The index limits for the scan.\u001b[39;00m\n\u001b[0;32m    428\u001b[0m limits \u001b[39m=\u001b[39m [(\u001b[39m0\u001b[39m,\u001b[39m511\u001b[39m), (\u001b[39m0\u001b[39m,\u001b[39m511\u001b[39m), (\u001b[39m0\u001b[39m,\u001b[39mself\u001b[39m\u001b[39m.\u001b[39mscan\u001b[39m.\u001b[39mslice_zvals\u001b[39m.\u001b[39mshape[\u001b[39m0\u001b[39m]\u001b[39m-\u001b[39m\u001b[39m1\u001b[39m)]\n\u001b[1;32m--> 430\u001b[0m cmatrix \u001b[39m=\u001b[39m \u001b[39mself\u001b[39;49m\u001b[39m.\u001b[39;49mcontours_matrix\n\u001b[0;32m    431\u001b[0m imin,jmin,kmin \u001b[39m=\u001b[39m cmatrix\u001b[39m.\u001b[39mmin(axis\u001b[39m=\u001b[39m\u001b[39m0\u001b[39m)\n\u001b[0;32m    432\u001b[0m imax,jmax,kmax \u001b[39m=\u001b[39m cmatrix\u001b[39m.\u001b[39mmax(axis\u001b[39m=\u001b[39m\u001b[39m0\u001b[39m)\n",
      "File \u001b[1;32mc:\\Users\\Diederik\\anaconda3\\envs\\LAB\\lib\\site-packages\\pylidc\\Annotation.py:968\u001b[0m, in \u001b[0;36mAnnotation.contours_matrix\u001b[1;34m(self)\u001b[0m\n\u001b[0;32m    963\u001b[0m \u001b[39m@property\u001b[39m\n\u001b[0;32m    964\u001b[0m \u001b[39mdef\u001b[39;00m \u001b[39mcontours_matrix\u001b[39m(\u001b[39mself\u001b[39m):\n\u001b[0;32m    965\u001b[0m \u001b[39m    \u001b[39m\u001b[39m\"\"\"\u001b[39;00m\n\u001b[0;32m    966\u001b[0m \u001b[39m    All the contour index values a 3D numpy array.\u001b[39;00m\n\u001b[0;32m    967\u001b[0m \u001b[39m    \"\"\"\u001b[39;00m\n\u001b[1;32m--> 968\u001b[0m     \u001b[39mreturn\u001b[39;00m np\u001b[39m.\u001b[39mvstack([c\u001b[39m.\u001b[39mto_matrix(include_k\u001b[39m=\u001b[39m\u001b[39mTrue\u001b[39;00m)\n\u001b[0;32m    969\u001b[0m                             \u001b[39mfor\u001b[39;00m c \u001b[39min\u001b[39;00m \u001b[39msorted\u001b[39m(\u001b[39mself\u001b[39m\u001b[39m.\u001b[39mcontours,\n\u001b[0;32m    970\u001b[0m                                     key\u001b[39m=\u001b[39m\u001b[39mlambda\u001b[39;00m c: c\u001b[39m.\u001b[39mimage_z_position)])\n",
      "File \u001b[1;32mc:\\Users\\Diederik\\anaconda3\\envs\\LAB\\lib\\site-packages\\pylidc\\Annotation.py:968\u001b[0m, in \u001b[0;36m<listcomp>\u001b[1;34m(.0)\u001b[0m\n\u001b[0;32m    963\u001b[0m \u001b[39m@property\u001b[39m\n\u001b[0;32m    964\u001b[0m \u001b[39mdef\u001b[39;00m \u001b[39mcontours_matrix\u001b[39m(\u001b[39mself\u001b[39m):\n\u001b[0;32m    965\u001b[0m \u001b[39m    \u001b[39m\u001b[39m\"\"\"\u001b[39;00m\n\u001b[0;32m    966\u001b[0m \u001b[39m    All the contour index values a 3D numpy array.\u001b[39;00m\n\u001b[0;32m    967\u001b[0m \u001b[39m    \"\"\"\u001b[39;00m\n\u001b[1;32m--> 968\u001b[0m     \u001b[39mreturn\u001b[39;00m np\u001b[39m.\u001b[39mvstack([c\u001b[39m.\u001b[39;49mto_matrix(include_k\u001b[39m=\u001b[39;49m\u001b[39mTrue\u001b[39;49;00m)\n\u001b[0;32m    969\u001b[0m                             \u001b[39mfor\u001b[39;00m c \u001b[39min\u001b[39;00m \u001b[39msorted\u001b[39m(\u001b[39mself\u001b[39m\u001b[39m.\u001b[39mcontours,\n\u001b[0;32m    970\u001b[0m                                     key\u001b[39m=\u001b[39m\u001b[39mlambda\u001b[39;00m c: c\u001b[39m.\u001b[39mimage_z_position)])\n",
      "File \u001b[1;32mc:\\Users\\Diederik\\anaconda3\\envs\\LAB\\lib\\site-packages\\pylidc\\Contour.py:111\u001b[0m, in \u001b[0;36mContour.to_matrix\u001b[1;34m(self, include_k)\u001b[0m\n\u001b[0;32m    109\u001b[0m k  \u001b[39m=\u001b[39m np\u001b[39m.\u001b[39mones(ij\u001b[39m.\u001b[39mshape[\u001b[39m0\u001b[39m])\u001b[39m*\u001b[39m\u001b[39mself\u001b[39m\u001b[39m.\u001b[39mimage_k_position\n\u001b[0;32m    110\u001b[0m zs \u001b[39m=\u001b[39m \u001b[39mself\u001b[39m\u001b[39m.\u001b[39mannotation\u001b[39m.\u001b[39mcontour_slice_zvals\n\u001b[1;32m--> 111\u001b[0m \u001b[39mreturn\u001b[39;00m np\u001b[39m.\u001b[39mc_[ij, k]\u001b[39m.\u001b[39mastype(np\u001b[39m.\u001b[39;49mint)\n",
      "File \u001b[1;32mc:\\Users\\Diederik\\anaconda3\\envs\\LAB\\lib\\site-packages\\numpy\\__init__.py:305\u001b[0m, in \u001b[0;36m__getattr__\u001b[1;34m(attr)\u001b[0m\n\u001b[0;32m    300\u001b[0m     warnings\u001b[39m.\u001b[39mwarn(\n\u001b[0;32m    301\u001b[0m         \u001b[39mf\u001b[39m\u001b[39m\"\u001b[39m\u001b[39mIn the future `np.\u001b[39m\u001b[39m{\u001b[39;00mattr\u001b[39m}\u001b[39;00m\u001b[39m` will be defined as the \u001b[39m\u001b[39m\"\u001b[39m\n\u001b[0;32m    302\u001b[0m         \u001b[39m\"\u001b[39m\u001b[39mcorresponding NumPy scalar.\u001b[39m\u001b[39m\"\u001b[39m, \u001b[39mFutureWarning\u001b[39;00m, stacklevel\u001b[39m=\u001b[39m\u001b[39m2\u001b[39m)\n\u001b[0;32m    304\u001b[0m \u001b[39mif\u001b[39;00m attr \u001b[39min\u001b[39;00m __former_attrs__:\n\u001b[1;32m--> 305\u001b[0m     \u001b[39mraise\u001b[39;00m \u001b[39mAttributeError\u001b[39;00m(__former_attrs__[attr])\n\u001b[0;32m    307\u001b[0m \u001b[39m# Importing Tester requires importing all of UnitTest which is not a\u001b[39;00m\n\u001b[0;32m    308\u001b[0m \u001b[39m# cheap import Since it is mainly used in test suits, we lazy import it\u001b[39;00m\n\u001b[0;32m    309\u001b[0m \u001b[39m# here to save on the order of 10 ms of import time for most users\u001b[39;00m\n\u001b[0;32m    310\u001b[0m \u001b[39m#\u001b[39;00m\n\u001b[0;32m    311\u001b[0m \u001b[39m# The previous way Tester was imported also had a side effect of adding\u001b[39;00m\n\u001b[0;32m    312\u001b[0m \u001b[39m# the full `numpy.testing` namespace\u001b[39;00m\n\u001b[0;32m    313\u001b[0m \u001b[39mif\u001b[39;00m attr \u001b[39m==\u001b[39m \u001b[39m'\u001b[39m\u001b[39mtesting\u001b[39m\u001b[39m'\u001b[39m:\n",
      "\u001b[1;31mAttributeError\u001b[0m: module 'numpy' has no attribute 'int'.\n`np.int` was a deprecated alias for the builtin `int`. To avoid this error in existing code, use `int` by itself. Doing this will not modify any behavior and is safe. When replacing `np.int`, you may wish to use e.g. `np.int64` or `np.int32` to specify the precision. If you wish to review your current use, check the release note link for additional information.\nThe aliases was originally deprecated in NumPy 1.20; for more details and guidance see the original release note at:\n    https://numpy.org/devdocs/release/1.20.0-notes.html#deprecations"
     ]
    }
   ],
   "source": [
    "import pylidc as pl\n",
    "import numpy as np\n",
    "import pandas as pd\n",
    "import os\n",
    "import matplotlib\n",
    "matplotlib.use(\"Qt5Agg\")  # Set the desired backend\n",
    "\n",
    "\n",
    "\n",
    "def get_ROI_Dicom(pid):\n",
    "    ann = pl.query(pl.Annotation).first()\n",
    "    padding = [(30, 10), (10, 25), (0, 0)]\n",
    "    mask = ann.boolean_mask(pad=padding)\n",
    "    bbox = ann.bbox(pad=padding)\n",
    "    vol = ann.scan.to_volume()\n",
    "    fig, ax = plt.subplots(1, 2, figsize=(5, 3))\n",
    "\n",
    "    ax[0].imshow(vol[bbox][:, :, 2], cmap=plt.cm.gray)\n",
    "    ax[0].axis('off')\n",
    "\n",
    "    ax[1].imshow(mask[:, :, 2], cmap=plt.cm.gray)\n",
    "    ax[1].axis('off')\n",
    "\n",
    "    plt.tight_layout()\n",
    "    # plt.savefig(\"../images/mask_bbox.png\", bbox_inches=\"tight\")\n",
    "    plt.show()\n",
    "\n",
    "\n",
    "pid = 'LIDC-IDRI-0001'\n",
    "\n",
    "get_ROI_Dicom(pid)"
   ]
  }
 ],
 "metadata": {
  "kernelspec": {
   "display_name": "Python 3 (ipykernel)",
   "language": "python",
   "name": "python3"
  },
  "language_info": {
   "codemirror_mode": {
    "name": "ipython",
    "version": 3
   },
   "file_extension": ".py",
   "mimetype": "text/x-python",
   "name": "python",
   "nbconvert_exporter": "python",
   "pygments_lexer": "ipython3",
   "version": "3.8.18"
  }
 },
 "nbformat": 4,
 "nbformat_minor": 5
}
