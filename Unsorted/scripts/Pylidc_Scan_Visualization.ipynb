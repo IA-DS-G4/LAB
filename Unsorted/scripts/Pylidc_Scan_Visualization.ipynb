{
 "cells": [
  {
   "cell_type": "code",
   "execution_count": 7,
   "id": "56c6ac89-5bd5-4210-85eb-b0299124c36a",
   "metadata": {},
   "outputs": [
    {
     "name": "stdout",
     "output_type": "stream",
     "text": [
      "31\n",
      "1\n",
      "LIDC-IDRI-0040 0.664062 2.5 2.5\n",
      "Loading dicom files ... This may take a moment.\n"
     ]
    },
    {
     "ename": "KeyboardInterrupt",
     "evalue": "",
     "output_type": "error",
     "traceback": [
      "\u001b[1;31m---------------------------------------------------------------------------\u001b[0m",
      "\u001b[1;31mKeyboardInterrupt\u001b[0m                         Traceback (most recent call last)",
      "\u001b[1;32mc:\\Users\\Diederik\\OneDrive\\Bureaublad\\studie tn\\Minor vakken Porto\\IA CAD\\GITHUB\\LAB\\Pylidc_Scan_Visualization.ipynb Cell 1\u001b[0m line \u001b[0;36m2\n\u001b[0;32m     <a href='vscode-notebook-cell:/c%3A/Users/Diederik/OneDrive/Bureaublad/studie%20tn/Minor%20vakken%20Porto/IA%20CAD/GITHUB/LAB/Pylidc_Scan_Visualization.ipynb#W0sZmlsZQ%3D%3D?line=21'>22</a>\u001b[0m       scan\u001b[39m.\u001b[39mvisualize()\n\u001b[0;32m     <a href='vscode-notebook-cell:/c%3A/Users/Diederik/OneDrive/Bureaublad/studie%20tn/Minor%20vakken%20Porto/IA%20CAD/GITHUB/LAB/Pylidc_Scan_Visualization.ipynb#W0sZmlsZQ%3D%3D?line=24'>25</a>\u001b[0m pid \u001b[39m=\u001b[39m \u001b[39m'\u001b[39m\u001b[39mLIDC-IDRI-0040\u001b[39m\u001b[39m'\u001b[39m\n\u001b[1;32m---> <a href='vscode-notebook-cell:/c%3A/Users/Diederik/OneDrive/Bureaublad/studie%20tn/Minor%20vakken%20Porto/IA%20CAD/GITHUB/LAB/Pylidc_Scan_Visualization.ipynb#W0sZmlsZQ%3D%3D?line=26'>27</a>\u001b[0m visualize(pid)\n",
      "\u001b[1;32mc:\\Users\\Diederik\\OneDrive\\Bureaublad\\studie tn\\Minor vakken Porto\\IA CAD\\GITHUB\\LAB\\Pylidc_Scan_Visualization.ipynb Cell 1\u001b[0m line \u001b[0;36m2\n\u001b[0;32m     <a href='vscode-notebook-cell:/c%3A/Users/Diederik/OneDrive/Bureaublad/studie%20tn/Minor%20vakken%20Porto/IA%20CAD/GITHUB/LAB/Pylidc_Scan_Visualization.ipynb#W0sZmlsZQ%3D%3D?line=16'>17</a>\u001b[0m scan \u001b[39m=\u001b[39m scans2\u001b[39m.\u001b[39mfirst()\n\u001b[0;32m     <a href='vscode-notebook-cell:/c%3A/Users/Diederik/OneDrive/Bureaublad/studie%20tn/Minor%20vakken%20Porto/IA%20CAD/GITHUB/LAB/Pylidc_Scan_Visualization.ipynb#W0sZmlsZQ%3D%3D?line=17'>18</a>\u001b[0m \u001b[39mprint\u001b[39m(scan\u001b[39m.\u001b[39mpatient_id,\n\u001b[0;32m     <a href='vscode-notebook-cell:/c%3A/Users/Diederik/OneDrive/Bureaublad/studie%20tn/Minor%20vakken%20Porto/IA%20CAD/GITHUB/LAB/Pylidc_Scan_Visualization.ipynb#W0sZmlsZQ%3D%3D?line=18'>19</a>\u001b[0m       scan\u001b[39m.\u001b[39mpixel_spacing,\n\u001b[0;32m     <a href='vscode-notebook-cell:/c%3A/Users/Diederik/OneDrive/Bureaublad/studie%20tn/Minor%20vakken%20Porto/IA%20CAD/GITHUB/LAB/Pylidc_Scan_Visualization.ipynb#W0sZmlsZQ%3D%3D?line=19'>20</a>\u001b[0m       scan\u001b[39m.\u001b[39mslice_thickness,\n\u001b[0;32m     <a href='vscode-notebook-cell:/c%3A/Users/Diederik/OneDrive/Bureaublad/studie%20tn/Minor%20vakken%20Porto/IA%20CAD/GITHUB/LAB/Pylidc_Scan_Visualization.ipynb#W0sZmlsZQ%3D%3D?line=20'>21</a>\u001b[0m       scan\u001b[39m.\u001b[39mslice_spacing)\n\u001b[1;32m---> <a href='vscode-notebook-cell:/c%3A/Users/Diederik/OneDrive/Bureaublad/studie%20tn/Minor%20vakken%20Porto/IA%20CAD/GITHUB/LAB/Pylidc_Scan_Visualization.ipynb#W0sZmlsZQ%3D%3D?line=21'>22</a>\u001b[0m scan\u001b[39m.\u001b[39;49mvisualize()\n",
      "File \u001b[1;32mc:\\Users\\Diederik\\anaconda3\\envs\\LAB\\lib\\site-packages\\pylidc\\Scan.py:601\u001b[0m, in \u001b[0;36mScan.visualize\u001b[1;34m(self, annotation_groups)\u001b[0m\n\u001b[0;32m    599\u001b[0m sslice\u001b[39m.\u001b[39mon_changed(update)\n\u001b[0;32m    600\u001b[0m update(\u001b[39mNone\u001b[39;00m)\n\u001b[1;32m--> 601\u001b[0m plt\u001b[39m.\u001b[39;49mshow()\n\u001b[0;32m    602\u001b[0m \u001b[39mreturn\u001b[39;00m sslice\n",
      "File \u001b[1;32mc:\\Users\\Diederik\\anaconda3\\envs\\LAB\\lib\\site-packages\\matplotlib\\pyplot.py:446\u001b[0m, in \u001b[0;36mshow\u001b[1;34m(*args, **kwargs)\u001b[0m\n\u001b[0;32m    402\u001b[0m \u001b[39m\u001b[39m\u001b[39m\"\"\"\u001b[39;00m\n\u001b[0;32m    403\u001b[0m \u001b[39mDisplay all open figures.\u001b[39;00m\n\u001b[0;32m    404\u001b[0m \n\u001b[1;32m   (...)\u001b[0m\n\u001b[0;32m    443\u001b[0m \u001b[39mexplicitly there.\u001b[39;00m\n\u001b[0;32m    444\u001b[0m \u001b[39m\"\"\"\u001b[39;00m\n\u001b[0;32m    445\u001b[0m _warn_if_gui_out_of_main_thread()\n\u001b[1;32m--> 446\u001b[0m \u001b[39mreturn\u001b[39;00m _get_backend_mod()\u001b[39m.\u001b[39;49mshow(\u001b[39m*\u001b[39;49margs, \u001b[39m*\u001b[39;49m\u001b[39m*\u001b[39;49mkwargs)\n",
      "File \u001b[1;32mc:\\Users\\Diederik\\anaconda3\\envs\\LAB\\lib\\site-packages\\matplotlib\\backend_bases.py:3620\u001b[0m, in \u001b[0;36m_Backend.show\u001b[1;34m(cls, block)\u001b[0m\n\u001b[0;32m   3618\u001b[0m     block \u001b[39m=\u001b[39m \u001b[39mnot\u001b[39;00m ipython_pylab \u001b[39mand\u001b[39;00m \u001b[39mnot\u001b[39;00m is_interactive()\n\u001b[0;32m   3619\u001b[0m \u001b[39mif\u001b[39;00m block:\n\u001b[1;32m-> 3620\u001b[0m     \u001b[39mcls\u001b[39;49m\u001b[39m.\u001b[39;49mmainloop()\n",
      "File \u001b[1;32mc:\\Users\\Diederik\\anaconda3\\envs\\LAB\\lib\\site-packages\\matplotlib\\backends\\backend_qt.py:603\u001b[0m, in \u001b[0;36mFigureManagerQT.start_main_loop\u001b[1;34m(cls)\u001b[0m\n\u001b[0;32m    601\u001b[0m \u001b[39mif\u001b[39;00m qapp:\n\u001b[0;32m    602\u001b[0m     \u001b[39mwith\u001b[39;00m _maybe_allow_interrupt(qapp):\n\u001b[1;32m--> 603\u001b[0m         qt_compat\u001b[39m.\u001b[39m_exec(qapp)\n",
      "File \u001b[1;32mc:\\Users\\Diederik\\anaconda3\\envs\\LAB\\lib\\contextlib.py:120\u001b[0m, in \u001b[0;36m_GeneratorContextManager.__exit__\u001b[1;34m(self, type, value, traceback)\u001b[0m\n\u001b[0;32m    118\u001b[0m \u001b[39mif\u001b[39;00m \u001b[39mtype\u001b[39m \u001b[39mis\u001b[39;00m \u001b[39mNone\u001b[39;00m:\n\u001b[0;32m    119\u001b[0m     \u001b[39mtry\u001b[39;00m:\n\u001b[1;32m--> 120\u001b[0m         \u001b[39mnext\u001b[39;49m(\u001b[39mself\u001b[39;49m\u001b[39m.\u001b[39;49mgen)\n\u001b[0;32m    121\u001b[0m     \u001b[39mexcept\u001b[39;00m \u001b[39mStopIteration\u001b[39;00m:\n\u001b[0;32m    122\u001b[0m         \u001b[39mreturn\u001b[39;00m \u001b[39mFalse\u001b[39;00m\n",
      "File \u001b[1;32mc:\\Users\\Diederik\\anaconda3\\envs\\LAB\\lib\\site-packages\\matplotlib\\backends\\qt_compat.py:245\u001b[0m, in \u001b[0;36m_maybe_allow_interrupt\u001b[1;34m(qapp)\u001b[0m\n\u001b[0;32m    243\u001b[0m signal\u001b[39m.\u001b[39msignal(signal\u001b[39m.\u001b[39mSIGINT, old_sigint_handler)\n\u001b[0;32m    244\u001b[0m \u001b[39mif\u001b[39;00m handler_args \u001b[39mis\u001b[39;00m \u001b[39mnot\u001b[39;00m \u001b[39mNone\u001b[39;00m:\n\u001b[1;32m--> 245\u001b[0m     old_sigint_handler(\u001b[39m*\u001b[39;49mhandler_args)\n",
      "\u001b[1;31mKeyboardInterrupt\u001b[0m: "
     ]
    }
   ],
   "source": [
    "import pylidc as pl\n",
    "\n",
    "import matplotlib\n",
    "matplotlib.use(\"Qt5Agg\")  # Set the desired backend\n",
    "\n",
    "\n",
    "# With this code its possible to put together all scans with desired traits.\n",
    "scans = pl.query(pl.Scan).filter(pl.Scan.slice_thickness <= 1,pl.Scan.pixel_spacing <= 0.6)\n",
    "print(scans.count())\n",
    "\n",
    "#This function visualizes the CT scan interactively and prints some infos. Might need packages PyQt5Agg for that\n",
    "def visualize(pid):\n",
    "      scans2 = pl.query(pl.Scan).filter(pl.Scan.patient_id == pid)\n",
    "      print(scans2.count())\n",
    "\n",
    "\n",
    "      scan = scans2.first()\n",
    "      print(scan.patient_id,\n",
    "            scan.pixel_spacing,\n",
    "            scan.slice_thickness,\n",
    "            scan.slice_spacing)\n",
    "      scan.visualize()\n",
    "\n",
    "\n",
    "pid = 'LIDC-IDRI-0040'\n",
    "\n",
    "visualize(pid)"
   ]
  },
  {
   "cell_type": "code",
   "execution_count": null,
   "id": "60cb65c3-e11d-43fb-b29e-e30f983ab8f3",
   "metadata": {},
   "outputs": [],
   "source": []
  }
 ],
 "metadata": {
  "kernelspec": {
   "display_name": "Python 3 (ipykernel)",
   "language": "python",
   "name": "python3"
  },
  "language_info": {
   "codemirror_mode": {
    "name": "ipython",
    "version": 3
   },
   "file_extension": ".py",
   "mimetype": "text/x-python",
   "name": "python",
   "nbconvert_exporter": "python",
   "pygments_lexer": "ipython3",
   "version": "3.8.18"
  }
 },
 "nbformat": 4,
 "nbformat_minor": 5
}
