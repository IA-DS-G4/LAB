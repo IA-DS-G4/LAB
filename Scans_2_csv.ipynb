{
 "cells": [
  {
   "cell_type": "code",
   "execution_count": null,
   "id": "3f352fc1-4e0f-4913-ae0c-ec3bcc5c3116",
   "metadata": {},
   "outputs": [],
   "source": [
    "import pylidc as pl\n",
    "import numpy as np\n",
    "import pandas as pd\n",
    "\n",
    "import matplotlib\n",
    "matplotlib.use(\"Qt5Agg\")  # Set the desired backend\n",
    "\n",
    "\n",
    "def scan_2_csv(pid):\n",
    "      scan = pl.query(pl.Scan).filter(pl.Scan.patient_id == pid).first()\n",
    "      vol = scan.to_volume()\n",
    "      return vol\n",
    "\n",
    "list_of_pid = ['LIDC-IDRI-0040','LIDC-IDRI-0041','LIDC-IDRI-0042']\n",
    "\n",
    "for pid in list_of_pid:\n",
    "      vol = scan_2_csv(pid)\n",
    "      df = pd.DataFrame(vol[0])\n",
    "      df.to_csv('{}.csv'.format(pid), index=False)"
   ]
  }
 ],
 "metadata": {
  "kernelspec": {
   "display_name": "Python 3 (ipykernel)",
   "language": "python",
   "name": "python3"
  },
  "language_info": {
   "codemirror_mode": {
    "name": "ipython",
    "version": 3
   },
   "file_extension": ".py",
   "mimetype": "text/x-python",
   "name": "python",
   "nbconvert_exporter": "python",
   "pygments_lexer": "ipython3",
   "version": "3.8.18"
  }
 },
 "nbformat": 4,
 "nbformat_minor": 5
}
